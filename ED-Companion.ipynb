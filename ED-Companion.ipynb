{
 "cells": [
  {
   "cell_type": "markdown",
   "id": "07a0a576-79d2-41d7-8684-7e2098be3b55",
   "metadata": {},
   "source": [
    "## Imports"
   ]
  },
  {
   "cell_type": "code",
   "execution_count": null,
   "id": "1cb13e3d-a4b8-4384-b4d4-3e2c8c7de986",
   "metadata": {},
   "outputs": [],
   "source": [
    "import os\n",
    "import sys\n",
    "import time\n",
    "import logging\n",
    "import importlib\n",
    "import datetime\n",
    "import re\n",
    "import json\n",
    "import glob\n",
    "import gzip\n",
    "from pathlib import Path\n",
    "from IPython.display import display\n",
    "from playsound import playsound\n",
    "import numpy as np\n",
    "from numpy.lib.recfunctions import join_by\n",
    "from numpy.core.records import fromarrays\n",
    "import matplotlib.pyplot as plt\n",
    "from matplotlib.pyplot import pcolormesh\n",
    "import pandas as pd\n",
    "import aiohttp\n",
    "import asyncpg\n",
    "import requests\n",
    "import math\n",
    "import itertools\n",
    "from functools import lru_cache\n",
    "#@lru_cache(maxsize=None)\n",
    "\n",
    "from edcompanion import pgsqldata, timetools, navroute, events\n",
    "from edcompanion.timetools import make_datetime, make_naive_utc\n",
    "from edcompanion.edsm_api import get_edsm_info, distance_between_systems\n",
    "from edcompanion.pgsqldata import PGSQLDataSourceEDDB\n",
    "\n",
    "def prettyprint(item):\n",
    "    print(json.dumps(item, indent=4, sort_keys=False))\n",
    "    \n",
    "def record_to_dict(record):\n",
    "    if isinstance(record,asyncpg.Record):\n",
    "        return {k:v for k,v in record.items()}\n",
    "    return {}\n",
    "\n",
    "plt.rcParams[\"figure.figsize\"] = (16,12)\n",
    "\n",
    "pd.options.display.max_colwidth = 150\n",
    "\n",
    "\n",
    "# Some vars \n",
    "logpath = \"/Users/fenke/Saved Games/Frontier Developments/Elite Dangerous\"\n",
    "system_name = None"
   ]
  },
  {
   "cell_type": "code",
   "execution_count": null,
   "id": "4645fdca",
   "metadata": {},
   "outputs": [],
   "source": [
    "  \n",
    "planet_values = {\n",
    "    False: { # was-not-discovered\n",
    "        False: {# was-not-mapped\n",
    "            False: { # is-not-terraformable\n",
    "                'Water world': 1559138,\n",
    "                'Earthlike body': 4224870,\n",
    "                'Ammonia world': 2242455,\n",
    "            },\n",
    "            True : { # is-terraformable\n",
    "                'Water world': 4198704,\n",
    "                \"High metal content body\": 2562654,\n",
    "                \"Rocky body\": 2024270\n",
    "            }\n",
    "        },\n",
    "        \n",
    "        True: {# was-mapped, this specic combo is rubbish\n",
    "        }\n",
    "    },\n",
    "    True: { # was-discovered\n",
    "        False: {# was-not-mapped\n",
    "            False: { # is-not-terraformable\n",
    "                'Water world': 1312209,\n",
    "                'Earthlike body': 3555753,\n",
    "                'Ammonia world': 1887305,\n",
    "            },\n",
    "            True : { # is-terraformable\n",
    "                'Water world': 3533732,\n",
    "                \"High metal content body\": 2156792,\n",
    "                \"Rocky body\": 1703675\n",
    "            }\n",
    "        },\n",
    "        \n",
    "        True: {# was-mapped\n",
    "            False: { # is-not-terraformable\n",
    "                'Water world': 540297,\n",
    "                'Earthlike body': 1464068,\n",
    "                'Ammonia world': 777091,\n",
    "            },\n",
    "            True : { # is-terraformable\n",
    "                'Water world': 1455001,\n",
    "                \"High metal content body\": 888051,\n",
    "                \"Rocky body\": 701482\n",
    "            }\n",
    "        }\n",
    "    }\n",
    "}\n",
    "\n"
   ]
  },
  {
   "cell_type": "markdown",
   "id": "d5c73906-78c1-4a1c-8018-60251dd7284a",
   "metadata": {},
   "source": [
    "### Missions"
   ]
  },
  {
   "cell_type": "code",
   "execution_count": null,
   "id": "d2f392c5-9b80-409f-9f0c-41154af05d7b",
   "metadata": {},
   "outputs": [],
   "source": [
    "from itertools import permutations\n",
    "\n",
    "def parse_route_systems(system_name, mission_db):\n",
    "    return { **{\n",
    "        system_name:np.asarray([get_edsm_info(system_name).get('coords',{}).get(k) for k in ['x', 'y', 'z']])\n",
    "    }, **{\n",
    "        s.get('DestinationSystem'):np.asarray([s.get('coords',{}).get(k) for k in ['x', 'y', 'z']])\n",
    "        for s in mission_db.values()\n",
    "    }}\n",
    " \n",
    "\n",
    "def calculate_total_jumps(*route_points, jumpdistance=25):\n",
    "    return sum([1+math.floor(distance_between_systems(*rp)/jumpdistance) for rp in route_points])\n",
    "\n",
    "def get_mission_routes(start_system, mission_db, jumpdistance):\n",
    "    route_systems = parse_route_systems(start_system, mission_db)\n",
    "    all_routes = [r for r in permutations(route_systems) if r[0] == system_name]\n",
    "    return sorted([[(x,y) for x,y in zip(r, r[1:])] for r in all_routes], key=lambda R:calculate_total_jumps(*R, jumpdistance=jumpdistance))\n"
   ]
  },
  {
   "cell_type": "markdown",
   "id": "d2119ba1-6edb-421f-8866-3fb45f7f6fb1",
   "metadata": {},
   "source": [
    "### PostgreSQL"
   ]
  },
  {
   "cell_type": "code",
   "execution_count": null,
   "id": "a8dda07f-2eb7-4a52-b0d5-1c98c414f00b",
   "metadata": {
    "tags": []
   },
   "outputs": [],
   "source": [
    "importlib.reload(pgsqldata)\n",
    "\n",
    "eddatasource = pgsqldata.PGSQLDataSourceEDDB(os.getenv(\"PGSQL_URL\"), server_settings={'search_path': \"edsm\"})\n",
    "\n",
    "async def find_system(system, distance=40):\n",
    "    pool = await eddatasource.pool.pgsql_pool()\n",
    "    if isinstance(system, str):\n",
    "        q1 = await pool.fetchrow(\n",
    "            \"\"\"\n",
    "                SELECT s.*, 0 as distance, p.security\n",
    "                FROM systems s\n",
    "                LEFT JOIN populated p\n",
    "                ON s.name = p.systemname\n",
    "                where s.name = $1\n",
    "            \"\"\", system)\n",
    "        if not q1:\n",
    "            return get_edsm_info(system)\n",
    "        return q1\n",
    "    \n",
    "    assert len(system) == 3\n",
    "    coordinates = system\n",
    "    c20_location = [int(20*math.floor(v/20)) for v in coordinates]\n",
    "    side = int(20*math.floor(distance/20))\n",
    "    q1 = await pool.fetch(\n",
    "        \"SELECT systems.*, |/((x-$7)^2 + (y-$8)^2 + (z-$9)^2) as distance, populated.security \"+\n",
    "        \"FROM systems \"+\n",
    "        \"LEFT JOIN populated \" +\n",
    "        \"ON systems.name = populated.systemname \"\n",
    "        \"WHERE x>=$1 AND x<$2 AND  y>=$3 AND y<$4  AND  z>=$5 AND z<$6  AND |/((x-$7)^2 + (y-$8)^2 + (z-$9)^2) < $10\"+\n",
    "        \"ORDER BY distance\",\n",
    "        *[d for c in coordinates for d in [c-40, c+40]], *coordinates, distance)\n",
    "    if not q1:\n",
    "        return q1\n",
    "    return await find_system(q1[0].get(\"name\"))\n",
    "\n",
    "async def find_nearby_systems(system, distance, limit=5):\n",
    "    if isinstance(system, str):\n",
    "        ql = await find_system(system)\n",
    "        coordinates = [ql.get(k) for k in [\"x\", \"y\",\"z\"]]\n",
    "    else:\n",
    "        coordinates = system\n",
    "        \n",
    "    #c20_location = [int(20*math.floor(v/20)) for v in coordinates]\n",
    "    side = int(20*math.ceil(distance/20))\n",
    "    pool = await eddatasource.pool.pgsql_pool()\n",
    "\n",
    "    return await pool.fetch(\n",
    "        \"SELECT name, x,y,z, |/((x-$7)^2 + (y-$8)^2 + (z-$9)^2) as distance \"+\n",
    "        \"FROM systems \"+\"\"\"\n",
    "            WHERE  x>=$1 AND x<$2 \n",
    "              AND  y>=$3 AND y<$4  \n",
    "              AND  z>=$5 AND z<$6 \n",
    "        \"\"\" +\n",
    "        \"  AND |/((x-$7)^2 + (y-$8)^2 + (z-$9)^2) < $10\"+\n",
    "        \"ORDER BY distance LIMIT \" + str(limit),\n",
    "        *[d for c in coordinates for d in [c-side, c+side]], \n",
    "        *coordinates, distance)"
   ]
  },
  {
   "cell_type": "code",
   "execution_count": null,
   "id": "bcb6ec26-e80a-43cc-8b1f-48e824f20702",
   "metadata": {},
   "outputs": [],
   "source": [
    "record = await find_system('Ix')"
   ]
  },
  {
   "cell_type": "code",
   "execution_count": null,
   "id": "497b46bb-557e-4881-a8cf-4c464ffedc52",
   "metadata": {},
   "outputs": [],
   "source": [
    "record"
   ]
  },
  {
   "cell_type": "code",
   "execution_count": null,
   "id": "c444d8a7-e865-4f76-b094-c61dc8fcccb4",
   "metadata": {},
   "outputs": [],
   "source": [
    "df = await eddatasource.get_dataframe(\n",
    "            \"\"\"\n",
    "                SELECT s.*, 0 as distance, p.security\n",
    "                FROM systems s\n",
    "                LEFT JOIN populated p\n",
    "                ON s.name = p.systemname\n",
    "                where s.name like $1\n",
    "            \"\"\", 'Ix%')"
   ]
  },
  {
   "cell_type": "code",
   "execution_count": null,
   "id": "33053437-774c-4ba6-bf1a-8e9cc8d48af3",
   "metadata": {},
   "outputs": [],
   "source": [
    "df"
   ]
  },
  {
   "cell_type": "code",
   "execution_count": null,
   "id": "d40ae988-1cf7-4ae1-a41c-6e2d8df3faa2",
   "metadata": {},
   "outputs": [],
   "source": [
    "{k:v for k,v in record.items()}"
   ]
  },
  {
   "cell_type": "code",
   "execution_count": null,
   "id": "ba993eaa-372b-418f-9e0d-ad4bd764c7ec",
   "metadata": {},
   "outputs": [],
   "source": []
  },
  {
   "cell_type": "code",
   "execution_count": null,
   "id": "61547c6f-31b5-4edc-81f1-af74b7eb6d83",
   "metadata": {},
   "outputs": [],
   "source": [
    "apiparams = dict(\n",
    "    base_url=\"http://127.0.0.1:8000\",\n",
    "    headers=dict(\n",
    "        authorization='9VknM2Gq2UcyM9tXJm43k7M4zVDNhVcQ' #os.getenv(\"USR_TOKEN\")\n",
    "    )\n",
    ")\n",
    "print(apiparams)"
   ]
  },
  {
   "cell_type": "code",
   "execution_count": null,
   "id": "83c6eaaa-0b4e-4707-af76-8ceaeafcf086",
   "metadata": {},
   "outputs": [],
   "source": [
    "async with aiohttp.ClientSession(**apiparams) as session:\n",
    "    t0 = time.perf_counter_ns()\n",
    "    req = await session.get(\"/systems\", params={\"name\":\"Ix\"})\n",
    "    t1 = time.perf_counter_ns()\n",
    "\n",
    "    data = pd.read_json((await req.read()).decode(\"utf-8\"), orient='split')\n",
    "    print(f\"Query took {(t1-t0)/1e6} ms for {data.shape[0]} rows\")\n",
    "\n",
    "    #plot(np.array(lttbdata[:,0], dtype='datetime64[s]'),lttbdata[:,1])"
   ]
  },
  {
   "cell_type": "code",
   "execution_count": null,
   "id": "c364d9b0-f659-405e-9152-04c262f80114",
   "metadata": {},
   "outputs": [],
   "source": [
    "async with aiohttp.ClientSession(**apiparams) as session:\n",
    "    t0 = time.perf_counter_ns()\n",
    "    req = await session.get(\"/systems\", params={\"coordinates\":[-65,8,-111], \"distance\":12})\n",
    "    t1 = time.perf_counter_ns()\n",
    "\n",
    "    data = pd.read_json((await req.read()).decode(\"utf-8\"), orient='split')\n",
    "    print(f\"Query took {(t1-t0)/1e6} ms for {data.shape[0]} rows\")\n",
    "\n",
    "    #plot(np.array(lttbdata[:,0], dtype='datetime64[s]'),lttbdata[:,1])"
   ]
  },
  {
   "cell_type": "code",
   "execution_count": null,
   "id": "5b3f1bfc-2c84-495e-9c4a-f978a2335981",
   "metadata": {},
   "outputs": [],
   "source": [
    "data"
   ]
  },
  {
   "cell_type": "code",
   "execution_count": null,
   "id": "0bfa3e60-bed3-4e0e-8564-b256bf6ad5cc",
   "metadata": {},
   "outputs": [],
   "source": [
    "req"
   ]
  },
  {
   "cell_type": "code",
   "execution_count": null,
   "id": "18fc1eb3-8078-4c26-94b0-ce4e204a1ec5",
   "metadata": {},
   "outputs": [],
   "source": [
    "(await req.read()).decode(\"utf-8\")"
   ]
  },
  {
   "cell_type": "code",
   "execution_count": null,
   "id": "6027d13b-fbe4-4a8a-9c3a-8bb3b590a567",
   "metadata": {},
   "outputs": [],
   "source": [
    "[k  for k in record.keys()]"
   ]
  },
  {
   "cell_type": "code",
   "execution_count": null,
   "id": "0321cf4f-8b82-45ed-bd40-c467941f0200",
   "metadata": {},
   "outputs": [],
   "source": [
    "importlib.reload(logging)\n",
    "logging.basicConfig(\n",
    "    format=\"%(asctime)s.%(msecs)03d \\t%(threadName)s\\t%(name)s\\t%(lineno)d\\t%(levelname)s\\t%(message)s\",\n",
    "    datefmt=\"%Y-%m-%dT%H:%M:%S\",\n",
    "    level=logging.INFO\n",
    ")\n",
    "\n",
    "logging.captureWarnings(True)\n",
    "\n"
   ]
  },
  {
   "cell_type": "code",
   "execution_count": null,
   "id": "6c186f94-5eaf-49c3-91e4-57d273ef9d78",
   "metadata": {},
   "outputs": [],
   "source": []
  },
  {
   "cell_type": "code",
   "execution_count": null,
   "id": "b8f01fec-71b6-45c8-b8b8-b017b78a7b45",
   "metadata": {},
   "outputs": [],
   "source": []
  },
  {
   "cell_type": "markdown",
   "id": "da52b011-62d1-49c3-bd92-cd31b165baf2",
   "metadata": {},
   "source": [
    "# Companion"
   ]
  },
  {
   "cell_type": "markdown",
   "id": "89b509ff-d06f-42ac-a2b6-6a505426cd19",
   "metadata": {},
   "source": [
    "## Lib Imports"
   ]
  },
  {
   "cell_type": "code",
   "execution_count": null,
   "id": "af137f4b-c85a-4811-b535-94b5e70d30e2",
   "metadata": {},
   "outputs": [],
   "source": [
    "import edcompanion.eddbreader"
   ]
  },
  {
   "cell_type": "markdown",
   "id": "857a60d7-a34b-4c0e-853b-bf1b0b7bbd2e",
   "metadata": {},
   "source": [
    "## Galaxy"
   ]
  },
  {
   "cell_type": "code",
   "execution_count": null,
   "id": "ed70c993-6668-46dc-a1d8-96301fd6389d",
   "metadata": {},
   "outputs": [],
   "source": []
  },
  {
   "cell_type": "code",
   "execution_count": null,
   "id": "76429bd1-6b72-4107-bc14-9a7316296d5d",
   "metadata": {},
   "outputs": [],
   "source": [
    "importlib.reload(edcompanion.eddbreader)\n",
    "\n",
    "#eddbfile = 'e:\\data\\eddb\\systemsWithCoordinates7days.json.gz'\n",
    "\n",
    "#eddbfile = 'e:\\data\\eddb\\galaxy_stations.json.gz'\n",
    "#eddbfile = 'e:\\data\\eddb\\galaxy_populated.json.gz'\n",
    "eddbfile = 'e:\\data\\eddb\\galaxy_1day.json.gz'\n",
    "keys = {}\n",
    "count = 2\n",
    "item = None\n",
    "#for item in eddbreader.edc_dbfilereader(eddbfile, True, lambda X:item.get('name') == \"Cygni X-3\"):\n",
    "for item in edcompanion.eddbreader.edc_dbfilereader(eddbfile, True):\n",
    "    if not [k for k in item.get('bodies',[]) if 'ary' in k.get('type') ]:\n",
    "        continue\n",
    "    #if item.get('bodyCount',0) > 5:\n",
    "    #    continue\n",
    "    #prettyprint([k for k in item])\n",
    "    prettyprint(item)\n",
    "\n",
    "    count -= 1\n",
    "    if not count > 0:\n",
    "        break\n"
   ]
  },
  {
   "cell_type": "code",
   "execution_count": null,
   "id": "5a32f7f0-512b-49a1-ba33-f721001aa92f",
   "metadata": {},
   "outputs": [],
   "source": [
    "from edcompanion import eddbreader\n",
    "importlib.reload(eddbreader)\n",
    "\n",
    "#eddbfile = 'e:\\data\\eddb\\systemsWithCoordinates7days.json.gz'\n",
    "\n",
    "#eddbfile = 'e:\\data\\eddb\\galaxy_stations.json.gz'\n",
    "#eddbfile = 'e:\\data\\eddb\\galaxy_populated.json.gz'\n",
    "eddbfile = 'e:\\data\\eddb\\galaxy_1day.json.gz'\n",
    "keys = {}\n",
    "count = 2\n",
    "item = None\n",
    "#for item in eddbreader.edc_dbfilereader(eddbfile, True, lambda X:item.get('name') == \"Cygni X-3\"):\n",
    "for item in eddbreader.edc_dbfilereader(eddbfile, True):\n",
    "    for key in item:\n",
    "        if key not in keys:\n",
    "            keys[key] = str(type(item[key]))\n",
    "    continue\n",
    "    if item.get('bodyCount',0) > 2:\n",
    "        continue\n",
    "    prettyprint([k for k in item])\n",
    "    #prettyprint(item)\n",
    "\n",
    "    count -= 1\n",
    "    if not count > 0:\n",
    "        break\n"
   ]
  },
  {
   "cell_type": "code",
   "execution_count": null,
   "id": "2a364567-149d-4a6c-80ac-a4d7d2000c01",
   "metadata": {},
   "outputs": [],
   "source": [
    "keys"
   ]
  },
  {
   "cell_type": "code",
   "execution_count": null,
   "id": "e414fac8-17c3-49df-b5fb-6c12f18b1564",
   "metadata": {},
   "outputs": [],
   "source": [
    "importlib.reload(eddbreader)\n",
    "#eddbfile = 'e:\\data\\eddb\\systemsWithCoordinates7days.json.gz'\n",
    "\n",
    "#eddbfile = 'e:\\data\\eddb\\galaxy_stations.json.gz'\n",
    "#eddbfile = 'e:\\data\\eddb\\galaxy_populated.json.gz'\n",
    "eddbfile = 'e:\\data\\eddb\\galaxy_1day.json.gz'\n",
    "count = 5\n",
    "item = None\n",
    "key = 'stations'\n",
    "systems_update = []\n",
    "#for item in eddbreader.edc_dbfilereader(eddbfile, True, lambda X:item.get('name') == \"Cygni X-3\"):\n",
    "for item in eddbreader.edc_dbfilereader(eddbfile, True):\n",
    "    if not item.get(key) or not item.get('allegiance'):\n",
    "        continue\n",
    "    if len(item.get(key)) >4:\n",
    "        continue\n",
    "    if item.get('allegiance') == 'Independent':\n",
    "        continue\n",
    "    system_id = item.get('id64')\n",
    "    \n",
    "    systems_update.append(\n",
    "        [item.get(k) for k in ['id64','name','coords', 'bodyCount']] + \n",
    "        [c for c in item.get('coords')]+\n",
    "        [item.get('bodyCount')]\n",
    "    )\n",
    "    system_info = {k.lower():item.get(k) for k in ['id64','name','coords', 'bodyCount']}\n",
    "    if key == 'stations':\n",
    "        #if not [S.get('id') for S in item.get(key) if S.get('controllingFactionState') ]:\n",
    "        #    continue\n",
    "        system_info.update({k:item.get(k) for k in ['name','allegiance','government', 'primaryEconomy']})\n",
    "        prettyprint(system_info)\n",
    "        for station in item.get(key):\n",
    "            print([k for k in station])\n",
    "            prettyprint({\n",
    "                k:station.get(k) \n",
    "                for k in [\n",
    "                    'id', 'name', 'distanceToArrival', \n",
    "                    'type', 'government', 'primaryEconomy',\n",
    "                    'controllingFaction', 'allegiance'\n",
    "                ]})\n",
    "    elif key == 'factions':\n",
    "        prettyprint((system_info,item.get('allegiance'), item.get(key)))\n",
    "    elif key == 'controllingFaction':\n",
    "        if (\n",
    "            item.get(key).get('government') != item.get('government')) or (\n",
    "            item.get(key).get('allegiance') != item.get('allegiance')):\n",
    "            \n",
    "            prettyprint({k:item.get(k) for k in ['name','allegiance','government', 'primaryEconomy', 'controllingFaction']})\n",
    "        else:\n",
    "            continue\n",
    "    else:\n",
    "        prettyprint(system_info.update({k:item.get(k) for k in ['name','allegiance','government', 'primaryEconomy']+[key]}))\n",
    "        \n",
    "        \n",
    "    \n",
    "    count -= 1\n",
    "    if not count > 0:\n",
    "        break\n"
   ]
  },
  {
   "cell_type": "code",
   "execution_count": null,
   "id": "4346bfbc-ecf9-48c4-b0c8-4db511ea456e",
   "metadata": {},
   "outputs": [],
   "source": [
    "item.get(key)"
   ]
  },
  {
   "cell_type": "code",
   "execution_count": null,
   "id": "670613fa-5cfb-4f45-bbde-94a93f342d29",
   "metadata": {},
   "outputs": [],
   "source": []
  },
  {
   "cell_type": "code",
   "execution_count": null,
   "id": "938f81e9-1200-4365-8732-57d152513d8e",
   "metadata": {},
   "outputs": [],
   "source": []
  },
  {
   "cell_type": "code",
   "execution_count": null,
   "id": "0bf43bea-c1ed-4c51-9d61-e5c15909cf59",
   "metadata": {},
   "outputs": [],
   "source": [
    "importlib.reload(eddbreader)\n",
    "\n",
    "eddbfile = 'e:\\data\\eddb\\systemsWithCoordinates7days.json.gz'\n",
    "\n",
    "#eddbfile = 'e:\\data\\eddb\\galaxy_stations.json.gz'\n",
    "#eddbfile = 'e:\\data\\eddb\\galaxy_populated.json.gz'\n",
    "#eddbfile = 'e:\\data\\eddb\\galaxy_1days.json.gz'\n",
    "count = 2\n",
    "#for item in eddbreader.edc_dbfilereader(eddbfile, True, lambda X:item.get('name') == \"Cygni X-3\"):\n",
    "for item in eddbreader.edc_dbfilereader(eddbfile, True):\n",
    "    #prettyprint([k for k in item])\n",
    "    continue\n",
    "    prettyprint(item)\n",
    "    break\n",
    "    count -= 1\n",
    "    if not count > 0:\n",
    "        break\n"
   ]
  },
  {
   "cell_type": "markdown",
   "id": "2a5f164a-836d-43f4-868f-a7e8b7d141db",
   "metadata": {},
   "source": [
    "## Powerplay"
   ]
  },
  {
   "cell_type": "code",
   "execution_count": null,
   "id": "5f56b94c-5946-4c4c-97f8-ad2e364d0ac6",
   "metadata": {},
   "outputs": [],
   "source": [
    "importlib.reload(eddbreader)\n",
    "\n",
    "\n",
    "eddbfile = '../scripts/data/powerPlay.json.gz'\n",
    "count = 3\n",
    "for item in eddbreader.edc_dbfilereader(eddbfile, True):\n",
    "    prettyprint(item)\n",
    "    if not count > 0:\n",
    "        break\n",
    "    count -= 1"
   ]
  },
  {
   "cell_type": "markdown",
   "id": "5be052b6-b876-49a4-a036-f33b90ee38f9",
   "metadata": {},
   "source": [
    "## Time needed"
   ]
  },
  {
   "cell_type": "code",
   "execution_count": null,
   "id": "f8fabb57-e1ef-44f6-8e8c-a3370a2b2cee",
   "metadata": {},
   "outputs": [],
   "source": [
    "importlib.reload(eddbreader)"
   ]
  },
  {
   "cell_type": "code",
   "execution_count": null,
   "id": "6d44a672-bd5a-4345-9deb-6f512f204083",
   "metadata": {},
   "outputs": [],
   "source": [
    "eddbfile = 'e:\\data\\eddb\\galaxy_1day.json.gz'\n",
    "def process_data(data):\n",
    "    pass\n",
    "    \n",
    "eddbreader.edc_dbfile_process(eddbfile, lambda D: process_data(D), True)\n"
   ]
  },
  {
   "cell_type": "markdown",
   "id": "7ba9f667-6f76-46f9-8dd2-da08abfcba97",
   "metadata": {},
   "source": [
    "## material"
   ]
  },
  {
   "cell_type": "code",
   "execution_count": null,
   "id": "255340d5-2617-4944-923f-a7cbdbe2c348",
   "metadata": {},
   "outputs": [],
   "source": [
    "# cool explorer\n",
    "materials_needed = \"\"\"\n",
    "\n",
    "Conductive Ceramics\tMfc\tG3\t7\n",
    "Conductive Components\tMfc\tG2\t1\n",
    "Decoded Emission Data\tEnc\tG4\t4\n",
    "Germanium\tRaw\tG2\t5\n",
    "Grid Resistors\tMfc\tG1\t5\n",
    "Heat Exchangers\tMfc\tG3\t3\n",
    "Heat Vanes\tMfc\tG4\t6\n",
    "Hybrid Capacitors\tMfc\tG2\t3\n",
    "Iron\tRaw\tG1\t10\n",
    "Irregular Emission Data\tEnc\tG2\t4\n",
    "Manganese\tRaw\tG2\t5\n",
    "Modified Consumer Firmware\tEnc\tG2\t4\n",
    "Phosphorus\tRaw\tG1\t1\n",
    "Salvaged Alloys\tMfc\tG1\t5\n",
    "Security Firmware Patch\tEnc\tG4\t1\n",
    "Specialised Legacy Firmware\tEnc\tG1\t1\n",
    "Unexpected Emission Data\tEnc\tG3\t6\n",
    "Vanadium\tRaw\tG2\t3\n",
    "\n",
    "\n",
    "\"\"\""
   ]
  },
  {
   "cell_type": "code",
   "execution_count": null,
   "id": "ebe4e6dc-426d-40b0-80eb-a4edd2b29319",
   "metadata": {},
   "outputs": [],
   "source": [
    "# cool rescue\n",
    "materials_needed = \"\"\"\n",
    "\n",
    "Grid Resistors\tMfc\tG1\t5\n",
    "Heat Exchangers\tMfc\tG3\t3\n",
    "Heat Vanes\tMfc\tG4\t1\n",
    "Iron\tRaw\tG1\t6\n",
    "Irregular Emission Data\tEnc\tG2\t5\n",
    "Vanadium\tRaw\tG2\t3\n",
    "\n",
    "\"\"\""
   ]
  },
  {
   "cell_type": "code",
   "execution_count": null,
   "id": "5b09b2dc-c893-47d9-9ba8-033827eb79ee",
   "metadata": {},
   "outputs": [],
   "source": [
    "matmap = dict(Mfc='Manufactured', Raw='Raw', Enc='Encoded')\n",
    "required_mats = [\n",
    "    [\n",
    "        f(c) for c,f in zip(l.split('\\t'),(\n",
    "            lambda S:S,\n",
    "            lambda S:matmap.get(S),\n",
    "            lambda S:int(S[1]),\n",
    "            lambda S:int(S)\n",
    "        )) \n",
    "    ]\n",
    "    for l in materials_needed.splitlines() if l\n",
    "    if l\n",
    "]\n",
    "pd.DataFrame(required_mats, columns=['material', 'type', 'grade','qty']).set_index(['type','material']).sort_values(['type','material'])"
   ]
  },
  {
   "cell_type": "code",
   "execution_count": null,
   "id": "b8c8dd25-e08a-4120-bab9-cd2e592a2655",
   "metadata": {},
   "outputs": [],
   "source": [
    "pd.DataFrame([\n",
    "    R+\n",
    "    [my_materials.get(R[1],{}).get(R[0].lower().replace(' ',''),0)] \n",
    "    for R in required_mats\n",
    "], columns=['Material','Type','Grade','Needed','Available']).set_index(['Type','Material']).sort_values(['Type','Material'])"
   ]
  },
  {
   "cell_type": "code",
   "execution_count": null,
   "id": "4db16c47-8363-416f-b90a-35d936ae3abd",
   "metadata": {},
   "outputs": [],
   "source": [
    "my_materials"
   ]
  },
  {
   "cell_type": "code",
   "execution_count": null,
   "id": "74af1a5d-18cd-47f1-9f3a-7a5b9e440fe8",
   "metadata": {},
   "outputs": [],
   "source": []
  },
  {
   "cell_type": "markdown",
   "id": "24adfa47-94b7-4835-98f1-6e1aeaceb368",
   "metadata": {},
   "source": [
    "Nuith's Grace\n",
    "Gnade der Nacht\n",
    "\n",
    "Nut, also Nuit or Nuith are names for the Egyptian godess of the sky and the stars, cosmos, mothers, astronomy and the universe.\n"
   ]
  },
  {
   "cell_type": "markdown",
   "id": "9277fed0-0020-4242-939b-aa0983a102bc",
   "metadata": {},
   "source": [
    "## Navigation route"
   ]
  },
  {
   "cell_type": "code",
   "execution_count": null,
   "id": "b32cb6a3-ed85-4d50-b557-a65817193c48",
   "metadata": {},
   "outputs": [],
   "source": [
    "from edcompanion import navroute\n",
    "from edcompanion import events"
   ]
  },
  {
   "cell_type": "code",
   "execution_count": null,
   "id": "e2a36ac3-ba3b-47ed-a976-ff2f55d6202e",
   "metadata": {},
   "outputs": [],
   "source": [
    "logging.getLogger(f\"root\").setLevel(logging.INFO)"
   ]
  },
  {
   "cell_type": "code",
   "execution_count": null,
   "id": "3cb120eb-c7be-4ca2-a200-8807f27e8bd7",
   "metadata": {},
   "outputs": [],
   "source": [
    "importlib.reload(navroute)\n",
    "logging.getLogger(f\"root.{navroute}\").setLevel(logging.INFO)\n",
    "importlib.reload(events)\n",
    "logging.getLogger(f\"root.{events}\").setLevel(logging.INFO)"
   ]
  },
  {
   "cell_type": "code",
   "execution_count": null,
   "id": "6c2e450a-d174-4177-9a56-da5e80e127c9",
   "metadata": {},
   "outputs": [],
   "source": [
    "item = {}\n",
    "for item in navroute.edc_navigationroute(logpath):\n",
    "\n",
    "    sys.stdout.write(f\"\\r{item.get('StarPos')[0]:8,.0F} {item.get('StarPos')[1]:8,.0F} {item.get('StarPos')[1]:8,.0F} | \")\n",
    "    sys.stdout.write(f\" {item.get('StarClass'):4} | {item.get('StarSystem'):32} | {'scoopable' if item.get('StarClass') in 'KGBFOAM' else ''}\\n\")\n",
    "\n",
    "print(item)"
   ]
  },
  {
   "cell_type": "code",
   "execution_count": null,
   "id": "d7db7cd1-8f3b-499d-b19b-d4cb7013f80b",
   "metadata": {},
   "outputs": [],
   "source": []
  },
  {
   "cell_type": "code",
   "execution_count": null,
   "id": "01118c53-f992-4f5c-a398-e3c1ba9e872e",
   "metadata": {},
   "outputs": [],
   "source": [
    "pos = np.asarray([389.25, 731.4375, 662.78125])\n",
    "df = pd.DataFrame([\n",
    "    (\n",
    "        item.get('StarSystem'),\n",
    "        np.asarray(item.get('StarPos')),\n",
    "        item.get('StarClass'),\n",
    "        np.sqrt(np.sum(np.square(np.asarray(item.get('StarPos'))-pos)))\n",
    "        \n",
    "\n",
    "    ) for item in navroute.edc_navigationroute(logpath)\n",
    "    if item.get('StarClass') in 'KGBFOAM'\n",
    "], columns=['System','coord','class', 'distance']).sort_values(['distance'])"
   ]
  },
  {
   "cell_type": "code",
   "execution_count": null,
   "id": "bb0994d4-c0dc-481d-8757-60d398ba5155",
   "metadata": {},
   "outputs": [],
   "source": [
    "type(df.iloc(0,0)"
   ]
  },
  {
   "cell_type": "code",
   "execution_count": null,
   "id": "ebaebc00-1abd-43ab-8216-5fb1c82ad377",
   "metadata": {},
   "outputs": [],
   "source": [
    "str(df['System'].iloc[0])\n"
   ]
  },
  {
   "cell_type": "code",
   "execution_count": null,
   "id": "c4586db6-abc8-4b3f-92ea-94960de2889a",
   "metadata": {},
   "outputs": [],
   "source": [
    "system_name"
   ]
  },
  {
   "cell_type": "code",
   "execution_count": null,
   "id": "8ec6daaf-0558-4d2c-99df-d26d77f35b3c",
   "metadata": {},
   "outputs": [],
   "source": [
    "navi_route = {item.get('StarSystem'):item for item in navroute.edc_navigationroute(logpath)}\n",
    "navi_distances = {s:np.sqrt(np.sum(np.square(np.asarray(i.get('StarPos'))-starpos))) for s, i in navi_route.items() if s != system_name}\n"
   ]
  },
  {
   "cell_type": "code",
   "execution_count": null,
   "id": "20b556f9-abb7-494a-90fe-be1f7e7dcc55",
   "metadata": {},
   "outputs": [],
   "source": [
    "navi_distances = {s:i for s,i in navi_distances.items() if i > 0}"
   ]
  },
  {
   "cell_type": "code",
   "execution_count": null,
   "id": "cccd754e-2742-4faa-a40a-7806302bb3cc",
   "metadata": {},
   "outputs": [],
   "source": [
    "list(navi_distances)[0]"
   ]
  },
  {
   "cell_type": "code",
   "execution_count": null,
   "id": "fff6a2f9-1a3a-41a4-a0a1-5324219eada3",
   "metadata": {},
   "outputs": [],
   "source": [
    "from itertools import accumulate\n",
    "from functools import reduce"
   ]
  },
  {
   "cell_type": "code",
   "execution_count": null,
   "id": "9414bd83-aab6-4bad-b93b-994699955565",
   "metadata": {},
   "outputs": [],
   "source": [
    "list(navi_distances)"
   ]
  },
  {
   "cell_type": "code",
   "execution_count": null,
   "id": "5af3c259-d561-42e8-a027-b1b8597cf5c3",
   "metadata": {},
   "outputs": [],
   "source": [
    "def accufunc(total, item):\n",
    "    return item if navi_distances[item] < navi_distances[total] else total\n",
    "\n",
    "result = [x for x in accumulate(list(navi_distances), accufunc, initial=list(navi_distances)[0])]"
   ]
  },
  {
   "cell_type": "code",
   "execution_count": null,
   "id": "8a1faad7-dbcc-4bd3-9566-7d733584c246",
   "metadata": {},
   "outputs": [],
   "source": [
    "result[0]"
   ]
  },
  {
   "cell_type": "code",
   "execution_count": null,
   "id": "3017bf29-f45b-4a7c-91ef-15d0ccab6bc2",
   "metadata": {},
   "outputs": [],
   "source": [
    "reduce(accufunc, list(navi_distances))"
   ]
  },
  {
   "cell_type": "code",
   "execution_count": null,
   "id": "02159f79-953c-45c8-87e0-71e0ecbff1f3",
   "metadata": {},
   "outputs": [],
   "source": [
    "print([x for x in accumulate(navi_distances, accufunc, initial=list(navi_distances)[0])][0])"
   ]
  },
  {
   "cell_type": "code",
   "execution_count": null,
   "id": "fd2e91da-c4d8-49c9-9e4d-7db01349161d",
   "metadata": {},
   "outputs": [],
   "source": [
    "navi_distances"
   ]
  },
  {
   "cell_type": "code",
   "execution_count": null,
   "id": "e239003c-7640-4c40-ac5e-92399e73c0fc",
   "metadata": {},
   "outputs": [],
   "source": [
    "[item.get('StarSystem') for item in navroute.edc_navigationroute(logpath)]"
   ]
  },
  {
   "cell_type": "markdown",
   "id": "9d893381-4770-4f6d-9f6c-d4207550f20f",
   "metadata": {},
   "source": [
    "### Loadout & Modules"
   ]
  },
  {
   "cell_type": "code",
   "execution_count": null,
   "id": "46e61832-e26b-48ce-b66d-f5d4af23f908",
   "metadata": {},
   "outputs": [],
   "source": [
    "json.loads('[{\"header\":{\"appName\":\"EDSY\",\"appVersion\":38445,\"appURL\":\"https://edsy.org/#/L=Gr00000H4C0S40,,,9p310A5UH054_W0AN8G032mO0AcII05J_W40upD6qpD8qpDGyPcAsOG02m_W0B2uI03KxS6IkPcKx8JQkPcSx8JYkPcax8JBK4I02mjB32xLQ6upDIqpDBb610,,34a300M2904_w307Q4I02nyD52vR26qpDAupDIj7iKni9mpT03w000Iw902jwG08Wgu1OrPJ6e490\"},\"data\":{\"event\":\"Loadout\",\"Ship\":\"dolphin\",\"ShipName\":\"\",\"ShipIdent\":\"\",\"HullValue\":1095780,\"ModulesValue\":18017610,\"UnladenMass\":166.405426,\"CargoCapacity\":4,\"MaxJumpRange\":65.603123,\"FuelCapacity\":{\"Main\":16,\"Reserve\":0.5},\"Rebuy\":955669,\"Modules\":[{\"Slot\":\"CargoHatch\",\"Item\":\"modularcargobaydoor\",\"On\":true,\"Priority\":4},{\"Slot\":\"Armour\",\"Item\":\"dolphin_armour_grade1\",\"On\":true,\"Priority\":1,\"Value\":0},{\"Slot\":\"PowerPlant\",\"Item\":\"int_powerplant_size3_class5\",\"On\":true,\"Priority\":1,\"Value\":480410,\"Engineering\":{\"BlueprintName\":\"PowerPlant_Stealth\",\"Level\":4,\"Quality\":1,\"ExperimentalEffect\":\"special_powerplant_cooled\",\"Modifiers\":[{\"Label\":\"Mass\",\"Value\":2.9,\"OriginalValue\":2.5},{\"Label\":\"PowerCapacity\",\"Value\":10.56,\"OriginalValue\":12},{\"Label\":\"HeatEfficiency\",\"Value\":0.162,\"OriginalValue\":0.4}]}},{\"Slot\":\"MainEngines\",\"Item\":\"int_engine_size4_class2\",\"On\":true,\"Priority\":0,\"Value\":59630,\"Engineering\":{\"BlueprintName\":\"Engine_Tuned\",\"Level\":4,\"Quality\":0.774,\"ExperimentalEffect\":\"special_engine_overloaded\",\"Modifiers\":[{\"Label\":\"Integrity\",\"Value\":56.32,\"OriginalValue\":64},{\"Label\":\"PowerDraw\",\"Value\":4.1328,\"OriginalValue\":3.69},{\"Label\":\"EngineOptimalMass\",\"Value\":289.8,\"OriginalValue\":315},{\"Label\":\"EngineOptPerformance\",\"Value\":126.7448,\"OriginalValue\":100},{\"Label\":\"EngineHeatRate\",\"Value\":0.747318,\"OriginalValue\":1.3}]}},{\"Slot\":\"FrameShiftDrive\",\"Item\":\"int_hyperdrive_size4_class5\",\"On\":true,\"Priority\":2,\"Value\":1610080,\"Engineering\":{\"BlueprintName\":\"FSD_LongRange\",\"Level\":5,\"Quality\":1,\"ExperimentalEffect\":\"special_fsd_heavy\",\"Modifiers\":[{\"Label\":\"Mass\",\"Value\":13.000031,\"OriginalValue\":10},{\"Label\":\"Integrity\",\"Value\":78.19986,\"OriginalValue\":100},{\"Label\":\"PowerDraw\",\"Value\":0.517501,\"OriginalValue\":0.45},{\"Label\":\"FSDOptimalMass\",\"Value\":846.293335,\"OriginalValue\":525}]}},{\"Slot\":\"LifeSupport\",\"Item\":\"int_lifesupport_size4_class2\",\"On\":true,\"Priority\":0,\"Value\":28370,\"Engineering\":{\"BlueprintName\":\"Misc_LightWeight\",\"Level\":3,\"Quality\":1,\"Modifiers\":[{\"Label\":\"Mass\",\"Value\":1.4,\"OriginalValue\":4},{\"Label\":\"Integrity\",\"Value\":50.4,\"OriginalValue\":72}]}},{\"Slot\":\"PowerDistributor\",\"Item\":\"int_powerdistributor_size2_class2\",\"On\":true,\"Priority\":2,\"Value\":3620,\"Engineering\":{\"BlueprintName\":\"PowerDistributor_HighFrequency\",\"Level\":5,\"Quality\":0.951,\"ExperimentalEffect\":\"special_powerdistributor_lightweight\",\"Modifiers\":[{\"Label\":\"Mass\",\"Value\":0.9,\"OriginalValue\":1},{\"Label\":\"WeaponsCapacity\",\"Value\":13.300011,\"OriginalValue\":14},{\"Label\":\"WeaponsRecharge\",\"Value\":2.312964,\"OriginalValue\":1.6},{\"Label\":\"EnginesCapacity\",\"Value\":10.450008,\"OriginalValue\":11},{\"Label\":\"EnginesRecharge\",\"Value\":0.867361,\"OriginalValue\":0.6},{\"Label\":\"SystemsCapacity\",\"Value\":10.450008,\"OriginalValue\":11},{\"Label\":\"SystemsRecharge\",\"Value\":0.867361,\"OriginalValue\":0.6}]}},{\"Slot\":\"Radar\",\"Item\":\"int_sensors_size3_class2\",\"On\":true,\"Priority\":2,\"Value\":10130,\"Engineering\":{\"BlueprintName\":\"Sensor_LightWeight\",\"Level\":3,\"Quality\":0.72275,\"Modifiers\":[{\"Label\":\"Mass\",\"Value\":1.083191,\"OriginalValue\":2},{\"Label\":\"Integrity\",\"Value\":35.699844,\"OriginalValue\":51},{\"Label\":\"SensorTargetScanAngle\",\"Value\":25.499954,\"OriginalValue\":30}]}},{\"Slot\":\"FuelTank\",\"Item\":\"int_fueltank_size4_class3\",\"On\":true,\"Priority\":1,\"Value\":24730},{\"Slot\":\"Slot01_Size5\",\"Item\":\"int_guardianfsdbooster_size5\",\"On\":true,\"Priority\":3,\"Value\":6483100},{\"Slot\":\"Slot02_Size4\",\"Item\":\"int_repairer_size4_class5\",\"On\":false,\"Priority\":1,\"Value\":4723920},{\"Slot\":\"Slot03_Size4\",\"Item\":\"int_fuelscoop_size4_class5\",\"On\":true,\"Priority\":3,\"Value\":2862360},{\"Slot\":\"Slot04_Size3\",\"Item\":\"int_shieldgenerator_size3_class2\",\"On\":true,\"Priority\":2,\"Value\":18810,\"Engineering\":{\"BlueprintName\":\"ShieldGenerator_Optimised\",\"Level\":3,\"Quality\":0.96325,\"ExperimentalEffect\":\"special_shield_toughened\",\"Modifiers\":[{\"Label\":\"Mass\",\"Value\":1.322205,\"OriginalValue\":2},{\"Label\":\"Integrity\",\"Value\":37.144933,\"OriginalValue\":38},{\"Label\":\"PowerDraw\",\"Value\":1.007996,\"OriginalValue\":1.44},{\"Label\":\"ShieldGenOptimalMass\",\"Value\":158.399849,\"OriginalValue\":165},{\"Label\":\"ShieldGenStrength\",\"Value\":98.001137,\"OriginalValue\":90}]}},{\"Slot\":\"Slot06_Size2\",\"Item\":\"int_cargorack_size2_class1\",\"On\":true,\"Priority\":0,\"Value\":3250},{\"Slot\":\"Slot07_Size2\",\"Item\":\"int_repairer_size2_class5\",\"On\":false,\"Priority\":1,\"Value\":1458000},{\"Slot\":\"Slot08_Size1\",\"Item\":\"int_detailedsurfacescanner_tiny\",\"On\":true,\"Priority\":0,\"Value\":250000,\"Engineering\":{\"BlueprintName\":\"Sensor_Expanded\",\"Level\":2,\"Quality\":0.686,\"Modifiers\":[{\"Label\":\"DSS_PatchRadius\",\"Value\":23.37204,\"OriginalValue\":20}]}},{\"Slot\":\"Slot09_Size1\",\"Item\":\"int_dronecontrol_repair_size1_class2\",\"On\":false,\"Priority\":1,\"Value\":1200}]}}]')\n"
   ]
  },
  {
   "cell_type": "code",
   "execution_count": null,
   "id": "12d6d653-52df-4b6b-87da-838319ab65ba",
   "metadata": {},
   "outputs": [],
   "source": [
    "[k for k in current_ship]"
   ]
  },
  {
   "cell_type": "markdown",
   "id": "bc2fa04a-f756-46d8-a285-9e558bda7d97",
   "metadata": {},
   "source": [
    "## Live tracking the journal"
   ]
  },
  {
   "cell_type": "code",
   "execution_count": null,
   "id": "feeeaa87-3e08-4a62-84b0-e1def1e523c9",
   "metadata": {},
   "outputs": [],
   "source": [
    "rankings = dict(\n",
    "    Progress = dict(),\n",
    "    Rank = dict()\n",
    "    \n",
    ")\n",
    "modules = []\n",
    "ships = {}\n",
    "current_ship = None\n",
    "my_materials = {}\n",
    "missions = {}\n",
    "completed = {}\n",
    "signals = {}"
   ]
  },
  {
   "cell_type": "code",
   "execution_count": null,
   "id": "fdcbe17c-d191-406f-ba74-9d74a9d4a428",
   "metadata": {},
   "outputs": [],
   "source": [
    "import edcompanion.navroute\n",
    "import edcompanion.events\n",
    "importlib.reload(edcompanion.events)\n",
    "from edcompanion.events import edc_track_journal\n",
    "jumptimes = []\n",
    "system_name = ''\n",
    "system_factions = []\n",
    "entrytime = 0\n",
    "body_id = 0\n",
    "jumpdistance = 10\n",
    "mission_advice = \"\"\n",
    "\n",
    "for event in edc_track_journal(logpath, backlog=3):\n",
    "    timestamp = make_datetime(event.pop(\"timestamp\"))\n",
    "    eventname = event.pop(\"event\")\n",
    "    \n",
    "    if not jumptimes:\n",
    "        entrytime=timestamp.timestamp()\n",
    "        jumptimes.append(timestamp.timestamp())\n",
    "    if not system_name and eventname == 'Location':\n",
    "        system_name = event.get('StarSystem')\n",
    "        \n",
    "    sys.stdout.write(\n",
    "        f\"\\r{str(timestamp)[:-6]:20} \"+\n",
    "        f\"{timestamp.timestamp()-jumptimes[-1]:9,.0F} | {eventname:18} | {system_name:26} | \")\n",
    "    if eventname == 'Journal':\n",
    "        sys.stdout.write(f\"{event.get('filename')}\\n\")\n",
    "    elif eventname == 'Fileheader':\n",
    "        sys.stdout.write(f\"{'Odyssey' if event.get('Odyssey', False) else 'Horizons' }\\n\")\n",
    "\n",
    "    elif eventname == 'FSDJump':\n",
    "        entrytime=timestamp.timestamp()\n",
    "        body_id = event.get('BodyID')\n",
    "        system_name = event.get('StarSystem','')\n",
    "        jumptimes.append(entrytime)\n",
    "        if mission_advice and not [True for item in navroute.edc_navigationroute(logpath) if item.get('StarSystem') == mission_advice]:\n",
    "            mnames = ', '.join([m.get('LocalisedName', '') for i,m in missions.items() if mission_advice==m.get('DestinationSystem') ])\n",
    "            sys.stdout.write(f\"Travel to {mission_advice} for \\\"{mnames}\\\"\\n\")\n",
    "            continue\n",
    "        system_factions = [f.get('Name','') for f in sorted(event.get('Factions',[{}]),key=lambda X: -X.get('Influence',0))]\n",
    "        if len(system_factions) > 1:\n",
    "            sys.stdout.write(f\"Faction: {system_factions[0]}\\n\")\n",
    "        \n",
    "        \n",
    "        sys.stdout.write(f\"\\n\")\n",
    "        #sys.stdout.write(f\"{system_name:22}\\n\")\n",
    "        continue\n",
    "        \n",
    "    elif eventname == 'LoadGame':\n",
    "        entrytime=timestamp.timestamp()\n",
    "        jumptimes.append(entrytime)\n",
    "        #sys.stdout.write(f\"\\n\")\n",
    "        \n",
    "    elif eventname == 'StartJump' and event.get(\"JumpType\") == \"Hyperspace\":\n",
    "        system_name = event.get('StarSystem','')\n",
    "        sys.stdout.write(f\"{system_name:22}\\n\")\n",
    "        continue\n",
    "        \n",
    "    elif eventname == 'Scan' and event.get('BodyID') == body_id:\n",
    "        sys.stdout.write(f\"Class {event.get('StarType')}{event.get('Subclass')}\")\n",
    "        if not event.get('WasDiscovered'):\n",
    "            sys.stdout.write(f\"\\t{'Undiscovered'}\\n\")\n",
    "            playsound('./sound88.wav')\n",
    "        else:\n",
    "            sys.stdout.write(f\"\\t{'Previously Discovered'}\\n\")\n",
    "            \n",
    "        continue\n",
    "        \n",
    "    elif 'FSSSignalDiscovered' == eventname:\n",
    "        signal = event.get(\"SignalName_Localised\", None)\n",
    "        if signal:\n",
    "            if signal not in signals:\n",
    "                signals[signal] = set()\n",
    "            signals.get(signal).add((system_name,system_factions[0] if system_factions else '-'))\n",
    "\n",
    "    elif 'scan' in eventname.lower():\n",
    "        if not event.get(\"WasDiscovered\", True):\n",
    "            if event.get('TerraformState') == 'Terraformable' or planet_values.get(\n",
    "                event.get(\"WasDiscovered\"),{}).get(\n",
    "                event.get(\"WasMapped\"),{}).get(\n",
    "                bool(event.get('TerraformState') == 'Terraformable'),{}).get(\n",
    "                event.get(\"PlanetClass\"),0) > 0:\n",
    "        \n",
    "                sys.stdout.write(f\"{event.get('BodyName').replace(system_name,'')} {event.get('PlanetClass')} {event.get('TerraformState')}\\n\")\n",
    "\n",
    "        if False and \"Resource\" in json.dumps(event):\n",
    "            print(eventname, event)\n",
    "            break\n",
    "\n",
    "   \n",
    "\n",
    "        continue\n",
    "            \n",
    "    elif 'Interdict' in eventname:\n",
    "        sys.stdout.write(f\"{event.get('Interdictor'):22}\\n\")\n",
    "        continue\n",
    "\n",
    "    elif 'Mission' in eventname:\n",
    "        if eventname == 'Missions':\n",
    "            active_missions = set([M.get('MissionID', 0) for M in event.get('Active',[])])\n",
    "            for mid in active_missions:\n",
    "                if mid not in missions:\n",
    "                    missions[mid] = {}\n",
    "            \n",
    "            for mid in set(missions):\n",
    "                if mid not in active_missions:\n",
    "                    missions.get(mid).update({\n",
    "                        eventname: timestamp.isoformat()\n",
    "                    })\n",
    "                    completed[mid] = missions.pop(mid)\n",
    "            if not missions:\n",
    "                mission_advice = ''\n",
    "        else:   \n",
    "            if eventname == 'MissionAbandoned' or  eventname == 'MissionCompleted' :\n",
    "                completed[event.get('MissionID')] = missions.pop(event.get('MissionID'))\n",
    "                if not missions:\n",
    "                    mission_advice = ''\n",
    "\n",
    "            elif eventname == 'MissionAccepted': \n",
    "                missions[event['MissionID']]={\n",
    "                    k:event.get(k, '').split('$')[0] for k in ['LocalisedName', 'Expiry', 'DestinationSystem', 'DestinationStation']\n",
    "                }\n",
    "                #sys.stdout.write(f\"({len(missions)}) {missions[event['MissionID']].get('LocalisedName')} -> {missions[event['MissionID']].get('DestinationSystem')}\\n\")\n",
    "\n",
    "            elif eventname == 'MissionRedirected': \n",
    "                missions[event['MissionID']].update({\n",
    "                    k:event.get('New'+k) for k in ['DestinationSystem', 'DestinationStation']\n",
    "                })\n",
    "                #sys.stdout.write(f\"({len(missions)}) {missions[event['MissionID']].get('LocalisedName')} -> {missions[event['MissionID']].get('DestinationSystem')}\\n\")\n",
    "\n",
    "            missions.get(event['MissionID'], {}).update({\n",
    "                eventname: timestamp.isoformat(),\n",
    "                'coords': get_edsm_info(missions.get(event['MissionID'], {}).get('DestinationSystem')).get('coords',[])\n",
    "            })\n",
    "        continue    \n",
    "        ordered_routes = get_mission_routes(system_name, missions, jumpdistance=jumpdistance)\n",
    "        if ordered_routes:\n",
    "            best_route = ordered_routes[0]\n",
    "            if best_route:\n",
    "                s1, s2 = best_route[0]\n",
    "                mission_advice = s2\n",
    "                mnames = ', '.join([m.get('LocalisedName', '') for i,m in missions.items() if s2==m.get('DestinationSystem') ])\n",
    "                sys.stdout.write(f\"Travel to {s2} ({1+math.floor(distance_between_systems(s1, s2)/jumpdistance)}) for \\\"{mnames}\\\"\\n\")\n",
    "                continue\n",
    "        else:\n",
    "            mission_advice = ''\n",
    "        #sys.stdout.write(f\"({len(missions)}) {missions.get(event['MissionID']).get('LocalisedName')} -> {missions.get(event['MissionID']).get('DestinationSystem')}\\n\")\n",
    "\n",
    "    elif eventname == 'StoredModules' :\n",
    "        #sys.stdout.write(f\"{event.get('StationName',''):22}\\n\")\n",
    "        modules = event.get('Items',[{}])\n",
    "        continue\n",
    "        \n",
    "    elif ('Loadout' == eventname ):\n",
    "        ships[event.get('ShipID')] = event.copy()\n",
    "        current_ship = ships[event.get('ShipID')]\n",
    "        jumpdistance = round(event.get('MaxJumpRange', 10),1)\n",
    "        sys.stdout.write(f\"{event.get('Ship',''):15} {event.get('ShipIdent',''):6} {event.get('MaxJumpRange',''):5,.1F} ly\\n\")\n",
    "        continue\n",
    "        \n",
    "    elif (eventname == 'Rank' or eventname == 'Progress'):\n",
    "        rankings[eventname].update(event)\n",
    "        continue\n",
    "        \n",
    "    elif eventname == \"Materials\":\n",
    "        my_materials = {T:{I.get(\"Name\"):I.get(\"Count\") for I in event.get(T,[])} for T in ['Raw','Encoded','Manufactured']}\n",
    "        #my_materials = {I.get(\"Name_Localised\", I.get(\"Name\")):I.get(\"Count\") for I in item.get('Raw',[]) + item.get(\"Encoded\",[])}\n",
    "        continue\n",
    "\n",
    "\n",
    "#print(f\"\\nDone\")\n",
    "#print(maxlen)"
   ]
  },
  {
   "cell_type": "code",
   "execution_count": null,
   "id": "e4a36611-0e68-4a3c-801a-4132f322eb1c",
   "metadata": {},
   "outputs": [],
   "source": [
    "missions"
   ]
  },
  {
   "cell_type": "markdown",
   "id": "5f054712-90f0-4e36-b014-3e20edd80128",
   "metadata": {},
   "source": [
    "### Signals"
   ]
  },
  {
   "cell_type": "code",
   "execution_count": null,
   "id": "3ba4f291-b481-431d-9110-990dff78724e",
   "metadata": {
    "tags": []
   },
   "outputs": [],
   "source": [
    "pd.DataFrame([\n",
    "    (n[0], n[1], s)\n",
    "    for s, sn in signals.items()\n",
    "    for n in sn\n",
    "    #if 'Lavign' in n[1]\n",
    "    #and 'Resource' in s\n",
    "    #and 'Hazardous' not in s\n",
    "], columns = ['system', 'faction', 'signal']).set_index(['faction','system']).sort_values('faction')"
   ]
  },
  {
   "cell_type": "code",
   "execution_count": null,
   "id": "86fe2cda-2953-4eba-beb0-f88117f62127",
   "metadata": {
    "collapsed": true,
    "jupyter": {
     "outputs_hidden": true
    },
    "tags": []
   },
   "outputs": [],
   "source": [
    "missions"
   ]
  },
  {
   "cell_type": "markdown",
   "id": "4df9085f-0cd4-4e88-aa92-682c1ef80695",
   "metadata": {},
   "source": [
    "### Missions"
   ]
  },
  {
   "cell_type": "code",
   "execution_count": null,
   "id": "eda5f327-690c-4e0b-8f03-aaca41ae8c13",
   "metadata": {
    "collapsed": true,
    "jupyter": {
     "outputs_hidden": true
    },
    "tags": []
   },
   "outputs": [],
   "source": [
    "completed"
   ]
  },
  {
   "cell_type": "code",
   "execution_count": null,
   "id": "5f85c86a-2ead-4e27-aa44-ec38590063c7",
   "metadata": {},
   "outputs": [],
   "source": [
    "from itertools import permutations\n",
    "\n",
    "def parse_route_systems(system_name, mission_db):\n",
    "    return { **{\n",
    "        system_name:np.asarray([get_edsm_info(system_name).get('coords',{}).get(k) for k in ['x', 'y', 'z']])\n",
    "    }, **{\n",
    "        s.get('DestinationSystem'):np.asarray([s.get('coords',{}).get(k) for k in ['x', 'y', 'z']])\n",
    "        for s in mission_db.values()\n",
    "    }}\n",
    " \n",
    "\n",
    "def calculate_total_jumps(*route_points, jumpdistance=25):\n",
    "    return sum([1+math.floor(distance_between_systems(*rp)/jumpdistance) for rp in route_points])\n",
    "\n",
    "def get_mission_routes(start_system, mission_db, jumpdistance):\n",
    "    route_systems = parse_route_systems(start_system, mission_db)\n",
    "    all_routes = [r for r in permutations(route_systems) if r[0] == system_name]\n",
    "    return sorted([[(x,y) for x,y in zip(r, r[1:])] for r in all_routes], key=lambda R:calculate_total_jumps(*R, jumpdistance=jumpdistance))\n"
   ]
  },
  {
   "cell_type": "code",
   "execution_count": null,
   "id": "f3254526-010f-4a9a-bcf6-d120f23bc158",
   "metadata": {},
   "outputs": [],
   "source": [
    "get_mission_routes('Ix', completed, 35)"
   ]
  },
  {
   "cell_type": "code",
   "execution_count": null,
   "id": "d07e1df2-b467-4e24-b978-fc5792bec9e8",
   "metadata": {},
   "outputs": [],
   "source": [
    "for R in get_mission_routes('Ix', completed, 45):\n",
    "    print(f\"{calculate_total_jumps(*R, jumpdistance=45)} {R}\")"
   ]
  },
  {
   "cell_type": "code",
   "execution_count": null,
   "id": "57464ef9-e8bc-425d-aac3-b3c671d26ab1",
   "metadata": {},
   "outputs": [],
   "source": [
    "system_name = 'Ix'"
   ]
  },
  {
   "cell_type": "code",
   "execution_count": null,
   "id": "652fc44f-07eb-46fb-b617-27944ee4b1a9",
   "metadata": {},
   "outputs": [],
   "source": [
    "route_systems = parse_route_systems('Ix', completed)"
   ]
  },
  {
   "cell_type": "code",
   "execution_count": null,
   "id": "52ac30be-251d-4fa7-b980-02bfd0702543",
   "metadata": {},
   "outputs": [],
   "source": [
    "all_routes = [r for r in permutations(route_systems) if r[0] == system_name]"
   ]
  },
  {
   "cell_type": "code",
   "execution_count": null,
   "id": "1358beb6-8ba9-4664-b9c5-d59c425fb7cd",
   "metadata": {},
   "outputs": [],
   "source": [
    "all_routes"
   ]
  },
  {
   "cell_type": "code",
   "execution_count": null,
   "id": "a30d8c83-530b-4255-82f4-c85e20ac3e1c",
   "metadata": {},
   "outputs": [],
   "source": [
    "for R in [[(x,y) for x,y in zip(r, r[1:])] for r in all_routes]:\n",
    "    print(f\"{calculate_total_jumps(*R, jumpdistance=12)} {R}\")"
   ]
  },
  {
   "cell_type": "code",
   "execution_count": null,
   "id": "64b0287b-6a19-4b60-a61f-9f2ab6f19661",
   "metadata": {},
   "outputs": [],
   "source": [
    "route_edges = sorted([[(x,y) for x,y in zip(r, r[1:])] for r in all_routes], key=lambda R:calculate_total_jumps(*R, jumpdistance=12))"
   ]
  },
  {
   "cell_type": "code",
   "execution_count": null,
   "id": "163db9f7-7c00-4622-a9c6-2e239a8785fd",
   "metadata": {},
   "outputs": [],
   "source": [
    "for R in get_mission_routes('Ix', completed, 35):\n",
    "    print(f\"{calculate_total_jumps(*R, jumpdistance=35)} {R}\")"
   ]
  },
  {
   "cell_type": "code",
   "execution_count": null,
   "id": "f3babee3-eadc-49f4-b5c4-2e0d67698633",
   "metadata": {},
   "outputs": [],
   "source": [
    "print(route_edges)"
   ]
  },
  {
   "cell_type": "code",
   "execution_count": null,
   "id": "f6bfa464-5d8b-45b4-bf41-92ce985c5e10",
   "metadata": {},
   "outputs": [],
   "source": [
    "t = [('Ix', 'Xi Saon'), ('Xi Saon', 'Chias Vega'), ('Chias Vega', 'He Qiong')]\n",
    "print([distance_between_systems(*rp) for rp in t])"
   ]
  },
  {
   "cell_type": "code",
   "execution_count": null,
   "id": "7030d915-ac23-422a-9f55-c80768f810c7",
   "metadata": {},
   "outputs": [],
   "source": [
    "calculate_total_jumps(*t,jumpdistance=35)"
   ]
  },
  {
   "cell_type": "code",
   "execution_count": null,
   "id": "81e3937f-2be2-4969-8218-ab40ef5b4157",
   "metadata": {},
   "outputs": [],
   "source": []
  },
  {
   "cell_type": "markdown",
   "id": "0e835464-4beb-4b31-8eb2-c3164a01567c",
   "metadata": {},
   "source": [
    "0-0 0-1 0-2 0-3 0-4 \n",
    "1-0 1-1 1-2 1-3 1-4\n",
    "2-0 2-1 2-2 2-3 2-4\n",
    "3-0 3-1 3-2 3-3 3-4\n",
    "4-0 4-1 4-2 4-3 4-4"
   ]
  },
  {
   "cell_type": "code",
   "execution_count": null,
   "id": "2d72e026-c7b1-45dc-968f-bb956814ba14",
   "metadata": {},
   "outputs": [],
   "source": [
    "def permute(alist):\n",
    "    #print(f\"List: {alist}\")\n",
    "    if len(alist) <= 1:\n",
    "        yield alist\n",
    "        alist = []\n",
    "\n",
    "    for s in alist:\n",
    "        rest = list(alist[:])\n",
    "        rest.remove(s)\n",
    "        for p in permute(rest):\n",
    "            yield [s]+p\n",
    "\n",
    "\n",
    "def test_permute(lst):\n",
    "    print('\\n%s permute(%s):' % ('-' * 20, lst))\n",
    "    for p in permute(lst):\n",
    "        print(p)\n",
    "\n",
    "\n"
   ]
  },
  {
   "cell_type": "code",
   "execution_count": null,
   "id": "958bb838-b126-4058-85b2-128cda85524f",
   "metadata": {},
   "outputs": [],
   "source": [
    "test_permute([1,2,3,4])"
   ]
  },
  {
   "cell_type": "code",
   "execution_count": null,
   "id": "54955d5c-c653-4a8a-86e2-f6facdea9c37",
   "metadata": {},
   "outputs": [],
   "source": [
    "sorted((4,3))"
   ]
  },
  {
   "cell_type": "code",
   "execution_count": null,
   "id": "c61831e0-f14f-4542-8040-fd0fb28194ee",
   "metadata": {},
   "outputs": [],
   "source": []
  },
  {
   "cell_type": "code",
   "execution_count": null,
   "id": "5cea3822-99ae-47c5-b7e0-5c3d6b64fee7",
   "metadata": {},
   "outputs": [],
   "source": [
    "test_permute('abc')\n",
    "test_permute('')\n",
    "test_permute([1])\n",
    "\n",
    "test_chosenk([1,2,3,4], 2)\n",
    "test_chosenk('abc', 2)\n",
    "test_chosenk('abc', 1)\n",
    "test_chosenk('abc', 0)\n",
    "test_chosenk('a', 2)\n",
    "test_chosenk('', 2)"
   ]
  },
  {
   "cell_type": "code",
   "execution_count": null,
   "id": "e3994ddf-12a0-40cf-bab7-26fa37649c61",
   "metadata": {},
   "outputs": [],
   "source": []
  },
  {
   "cell_type": "code",
   "execution_count": null,
   "id": "a12441d6-2899-46bf-8c95-1ff2b5d6778a",
   "metadata": {},
   "outputs": [],
   "source": []
  },
  {
   "cell_type": "code",
   "execution_count": null,
   "id": "1f403b36-bfff-406a-80ef-ef35f9f8af73",
   "metadata": {},
   "outputs": [],
   "source": []
  },
  {
   "cell_type": "code",
   "execution_count": null,
   "id": "681cfa23-9fca-463d-ad96-a25fcf065f05",
   "metadata": {},
   "outputs": [],
   "source": [
    "4.2 * 1000 * 1000 * 50 / (1e3 * 3600)\n"
   ]
  },
  {
   "cell_type": "code",
   "execution_count": null,
   "id": "0286d0f6-47e4-4f95-8a52-29670a1c8f46",
   "metadata": {},
   "outputs": [],
   "source": [
    "3600 "
   ]
  },
  {
   "cell_type": "code",
   "execution_count": null,
   "id": "89382e8c-602b-4296-a0a0-23ef2ec8f2e6",
   "metadata": {},
   "outputs": [],
   "source": [
    "from itertools import permutations, combinations"
   ]
  },
  {
   "cell_type": "code",
   "execution_count": null,
   "id": "e7826d79-e5bb-49b1-8a9c-8ee694aedb9d",
   "metadata": {},
   "outputs": [],
   "source": [
    "[c for c in permutations(range(6),2)]"
   ]
  },
  {
   "cell_type": "code",
   "execution_count": null,
   "id": "4ea5706d-f71a-4a31-ad3a-ac296d371070",
   "metadata": {},
   "outputs": [],
   "source": [
    "[c for c in combinations(range(7),2)]"
   ]
  },
  {
   "cell_type": "code",
   "execution_count": null,
   "id": "2903091f-0d9e-45ec-be81-b31a84e074ba",
   "metadata": {},
   "outputs": [],
   "source": []
  },
  {
   "cell_type": "code",
   "execution_count": null,
   "id": "ed402472-aec4-4d12-846f-66e008cb0301",
   "metadata": {},
   "outputs": [],
   "source": [
    "set([v.get('DestinationSystem') for v in missions.values()])"
   ]
  },
  {
   "cell_type": "markdown",
   "id": "ace02702-1671-4eb8-bf0b-67957e5c4c96",
   "metadata": {},
   "source": [
    "### Ranks"
   ]
  },
  {
   "cell_type": "code",
   "execution_count": null,
   "id": "80c18e68-1c1b-436d-9453-ce64e064bc2d",
   "metadata": {},
   "outputs": [],
   "source": [
    "if rankings.get('Rank') and rankings.get('Progress'):\n",
    "    rankinfo = [\n",
    "        tuple([R] + [v.get(R,0) for r,v in rankings.items()])\n",
    "        for R in rankings.get('Progress')]\n",
    "    with pd.option_context('display.max_rows', len(rankinfo)+1, 'display.max_columns', len(rankinfo[0])+1):\n",
    "        display(pd.DataFrame(\n",
    "            rankinfo,\n",
    "            columns=['rank', '% next', 'level']))"
   ]
  },
  {
   "cell_type": "markdown",
   "id": "fb84cfd2-5bd2-40de-9c61-18fedee69c81",
   "metadata": {},
   "source": [
    "### Engineered Modules"
   ]
  },
  {
   "cell_type": "code",
   "execution_count": null,
   "id": "e7ee84cc-6a7e-43d2-a546-27ea75b391f1",
   "metadata": {
    "collapsed": true,
    "jupyter": {
     "outputs_hidden": true
    },
    "tags": []
   },
   "outputs": [],
   "source": [
    "{M.get('Name_Localised').replace(' ','').lower():M.get('Name_Localised') for M in modules}"
   ]
  },
  {
   "cell_type": "code",
   "execution_count": null,
   "id": "8d1c8022-2af5-4143-b0b2-f013e4b86b9f",
   "metadata": {},
   "outputs": [],
   "source": [
    "prettyprint({\n",
    "    M.get('Item').split('_')[1]: ''\n",
    "    for I,S in ships.items() for M in S.get('Modules') if M.get('Engineering', False)\n",
    "    if M.get('Item').split('_')[1] not in module_name_map\n",
    "})"
   ]
  },
  {
   "cell_type": "code",
   "execution_count": null,
   "id": "76938937-92bf-4445-bb7f-c94ed9491636",
   "metadata": {},
   "outputs": [],
   "source": [
    "module_name_map = {\n",
    "    'engine':'Thrusters',\n",
    "    'armour':'Armour',\n",
    "    'powerdistributor':'Power Distributor',\n",
    "    'detailedsurfacescanner': 'Surface Scanner',\n",
    "    'multi-cannon': 'Multi-Cannon',\n",
    "    'railgun': 'Rail Gun',\n",
    "    'pulselaser': 'Pulse Laser',\n",
    "    'ecpassengercabin': 'EC Passenger Cabin',\n",
    "    'hullreinforcement': 'Hull Reinforcement',\n",
    "    'modulereinforcement': 'Module Reinforcement',\n",
    "    'powerplant': 'Power Plant',\n",
    "    'afmunit': 'AFM Unit',\n",
    "    'burstlaser': 'Burst Laser',\n",
    "    'plasmaaccelerator':'Plasma Accelerator',\n",
    "    'powerdistributor': 'Power Distributor',\n",
    "    'sensors': 'Sensors',\n",
    "    'cannon': 'Cannon',\n",
    "    'plasmaacc': 'Plasma Acc',\n",
    "    'guardianfsdbooster': 'Guardian FSD Booster',\n",
    "    'cargorack': 'Cargo Rack',\n",
    "    'bcpassengercabin': 'BC Passenger Cabin',\n",
    "    'thrusters': 'Thrusters',\n",
    "    'shieldgenerator': 'Shield Generator',\n",
    "    'shieldbooster':'Shield Booster',\n",
    "    'fcpassengercabin': 'FC Passenger Cabin',\n",
    "    'hyperdrive': 'FSD',\n",
    "    'lifesupport':'Life Support',\n",
    "    'lcpassengercabin': 'LC Passenger Cabin',\n",
    "    'crimescanner': 'Warrant Scanner', \n",
    "    'cloudscanner': 'Wake Scanner'\n",
    "}\n",
    "\n",
    "if modules:\n",
    "    df_module_info = pd.DataFrame([\n",
    "        (\n",
    "            M.get('Name_Localised'),\n",
    "            M.get('StarSystem'),\n",
    "            '',\n",
    "            M.get('Name').split('_')[-3],\n",
    "            M.get('Name').split('_')[-2],\n",
    "            M.get('EngineerModifications','._.').split('_')[-1],\n",
    "            '',\n",
    "            M.get('Level'),\n",
    "            M.get('Quality')\n",
    "        )\n",
    "        for M in modules if M.get('EngineerModifications')] + [\n",
    "        (\n",
    "            module_name_map.get(M.get('Item').split('_')[1],M.get('Item').split('_')[1]),\n",
    "            f\"{S.get('ShipIdent')} / {S.get('Ship')}\" ,\n",
    "            M.get('Slot'),\n",
    "            M.get('Item').split('_')[-2],\n",
    "            M.get('Item').split('_')[-1],\n",
    "            M.get('Engineering').get('BlueprintName').split('_')[-1],\n",
    "            M.get('Engineering').get('ExperimentalEffect_Localised', ''),\n",
    "            M.get('Engineering').get('Level'),\n",
    "            M.get('Engineering').get('Quality'),\n",
    "\n",
    "        ) for I,S in ships.items() for M in S.get('Modules') if M.get('Engineering', False)],\n",
    "            columns=['Name', 'Location', 'Moduleslot', 'Class', 'Grade', 'Modification', 'Experimental', 'Level', 'Quality']\n",
    "        ).set_index(['Name', 'Class', ])\n",
    "    with pd.option_context('display.max_rows', len(df_module_info)+1, 'display.max_columns', len(df_module_info.columns)+1):\n",
    "        display(df_module_info.sort_values(['Name','Moduleslot', 'Class', 'Grade']))\n",
    "        \n",
    "#print(df_modules).sort_values(['Name','Moduleslot', 'Class', 'Grade'])"
   ]
  },
  {
   "cell_type": "code",
   "execution_count": null,
   "id": "7f5a4580-d32d-4951-b89e-65fcd51c73df",
   "metadata": {},
   "outputs": [],
   "source": [
    "with pd.option_context('display.max_rows', len(df_module_info)+1, 'display.max_columns', len(df_module_info.columns)+1):\n",
    "    display(df_module_info.reset_index().set_index(['Location','Name']).sort_values(['Location','Name','Moduleslot', 'Class', 'Grade']))\n"
   ]
  },
  {
   "cell_type": "code",
   "execution_count": null,
   "id": "c5bc0285-3f0f-47a8-8eb5-962169602b7a",
   "metadata": {},
   "outputs": [],
   "source": [
    "df_module_info"
   ]
  },
  {
   "cell_type": "markdown",
   "id": "741bb65d-d615-4e2c-9446-b207cb3d5df2",
   "metadata": {},
   "source": [
    "Salutations Commanders\n",
    "\n",
    "With the Thargoids on their way towards the bubble I was thinking about preparing\n",
    "for what might be coming. As I don't expect to get a AX fighter ready in time what\n",
    "I'm looking at station rescue with a cold running Dolphin, which would also come\n",
    "in handy for avoiding detection by Thargoids. \n",
    "\n",
    "Interestingly the core internals for rescue and exploration are not that different.\n",
    "My current exploration build is\n",
    "The armoured 2A power plant would be replaced "
   ]
  },
  {
   "cell_type": "code",
   "execution_count": null,
   "id": "bc5e170c-fc28-4232-8c1a-cbcecce5df9d",
   "metadata": {},
   "outputs": [],
   "source": [
    "len(df_module_info.columns)\n"
   ]
  },
  {
   "cell_type": "code",
   "execution_count": null,
   "id": "14f1a857-7997-40c1-8c85-6e439da09451",
   "metadata": {},
   "outputs": [],
   "source": [
    "grid =[[int(R[0]),R[2]] for R in [ [f for f in L.split('\\t')] for L in f\"\"\"\n",
    "1\t16\tCharles Leclerc\tFERRARI\t1:21.280\t1:21.208\t1:20.161\t14\n",
    "2\t1\tMax Verstappen\tRED BULL RACING RBPT\t1:20.922\t1:21.265\t1:20.306\t16\n",
    "3\t55\tCarlos Sainz\tFERRARI\t1:21.348\t1:20.878\t1:20.429\t13\n",
    "4\t11\tSergio Perez\tRED BULL RACING RBPT\t1:21.495\t1:21.358\t1:21.206\t15\n",
    "5\t44\tLewis Hamilton\tMERCEDES\t1:22.048\t1:21.708\t1:21.524\t17\n",
    "6\t63\tGeorge Russell\tMERCEDES\t1:21.785\t1:21.747\t1:21.542\t17\n",
    "7\t4\tLando Norris\tMCLAREN MERCEDES\t1:22.130\t1:21.831\t1:21.584\t19\n",
    "8\t3\tDaniel Ricciardo\tMCLAREN MERCEDES\t1:22.139\t1:21.855\t1:21.925\t20\n",
    "9\t10\tPierre Gasly\tALPHATAURI RBPT\t1:22.010\t1:22.062\t1:22.648\t18\n",
    "10\t14\tFernando Alonso\tALPINE RENAULT\t1:22.089\t1:21.861\t\t17\n",
    "11\t31\tEsteban Ocon\tALPINE RENAULT\t1:22.166\t1:22.130\t\t12\n",
    "12\t77\tValtteri Bottas\tALFA ROMEO FERRARI\t1:22.254\t1:22.235\t\t12\n",
    "13\t45\tNyck De Vries\tWILLIAMS MERCEDES\t1:22.567\t1:22.471\t\t13\n",
    "14\t24\tZhou Guanyu\tALFA ROMEO FERRARI\t1:22.003\t1:22.577\t\t12\n",
    "15\t22\tYuki Tsunoda\tALPHATAURI RBPT\t1:22.020\t\t\t6\n",
    "16\t6\tNicholas Latifi\tWILLIAMS MERCEDES\t1:22.587\t\t\t7\n",
    "17\t5\tSebastian Vettel\tASTON MARTIN ARAMCO MERCEDES\t1:22.636\t\t\t7\n",
    "18\t18\tLance Stroll\tASTON MARTIN ARAMCO MERCEDES\t1:22.748\t\t\t9\n",
    "19\t20\tKevin Magnussen\tHAAS FERRARI\t1:22.908\t\t\t10\n",
    "20\t47\tMick Schumacher\tHAAS FERRARI\t1:23.005\t\t\t9\"\"\".splitlines() if L]]"
   ]
  },
  {
   "cell_type": "code",
   "execution_count": null,
   "id": "08f22db2-494a-46c0-bdef-dda7bc83f9a1",
   "metadata": {},
   "outputs": [],
   "source": [
    "grid.sort()"
   ]
  },
  {
   "cell_type": "code",
   "execution_count": null,
   "id": "4b8588a3-252d-4044-9824-1fe212bc39b8",
   "metadata": {},
   "outputs": [],
   "source": [
    "grid"
   ]
  },
  {
   "cell_type": "code",
   "execution_count": null,
   "id": "6c416963-5657-4e7b-abb4-8fc5780fdda7",
   "metadata": {},
   "outputs": [],
   "source": [
    "grid[7][0] = 20"
   ]
  },
  {
   "cell_type": "code",
   "execution_count": null,
   "id": "b28e1a68-eb92-495b-84e7-a575927c7715",
   "metadata": {},
   "outputs": [],
   "source": [
    "grid"
   ]
  },
  {
   "cell_type": "code",
   "execution_count": null,
   "id": "16563ad1-c594-496b-ac2e-42d87c8500dd",
   "metadata": {},
   "outputs": [],
   "source": [
    "grid.sort()"
   ]
  },
  {
   "cell_type": "code",
   "execution_count": null,
   "id": "0d7ed726-0891-4757-9aa5-8d1abac849cc",
   "metadata": {},
   "outputs": [],
   "source": [
    "grid = [[p,n] for p,n in zip(range(1,21), [g[1] for g in grid])]"
   ]
  },
  {
   "cell_type": "code",
   "execution_count": null,
   "id": "3fa43860-bbcb-466d-9dfc-4c8daf102ecb",
   "metadata": {},
   "outputs": [],
   "source": []
  },
  {
   "cell_type": "code",
   "execution_count": null,
   "id": "51ee1309-7039-437d-85b5-6f683acbd545",
   "metadata": {},
   "outputs": [],
   "source": []
  },
  {
   "cell_type": "markdown",
   "id": "4c8c3b9a-566e-402d-b740-625eef3f077c",
   "metadata": {},
   "source": [
    "## Ingest Journal"
   ]
  },
  {
   "cell_type": "code",
   "execution_count": null,
   "id": "6464b176-6b27-450b-9897-cffd0928cf03",
   "metadata": {
    "tags": []
   },
   "outputs": [],
   "source": [
    "prettyprint(journal_story)"
   ]
  },
  {
   "cell_type": "code",
   "execution_count": null,
   "id": "dbfd7f76-8ddf-493b-8b1b-8f64793ed0e8",
   "metadata": {},
   "outputs": [],
   "source": [
    "sorted(journal_events.keys())"
   ]
  },
  {
   "cell_type": "code",
   "execution_count": null,
   "id": "213eafb0-7882-46ce-b2bc-85e5e5da2e50",
   "metadata": {},
   "outputs": [],
   "source": [
    "journal_story = {\n",
    "    \"current\": {},\n",
    "    \"Commanders\": {}\n",
    "}\n",
    "missions = {}"
   ]
  },
  {
   "cell_type": "code",
   "execution_count": null,
   "id": "b306f26b-a7f5-4697-8db3-960604cf8b57",
   "metadata": {},
   "outputs": [],
   "source": [
    "journal_events = {\n",
    "\t#'Fileheader': lambda N, E: (),\n",
    "\t'Music': lambda N, E: (),\n",
    "\t'EngineerProgress': lambda N, E: (),\n",
    "\t#'LoadGame': lambda N, E: (),\n",
    "\t'Statistics': lambda N, E: (),\n",
    "\t'FSSSignalDiscovered': lambda N, E: (),\n",
    "\t'Location': lambda N, E: (),\n",
    "\t'ShipLocker': lambda N, E: (),\n",
    "\t#'Loadout': lambda N, E: (),\n",
    "\t'Cargo': lambda N, E: (),\n",
    "\t'NavRoute': lambda N, E: (),\n",
    "\t'FSDTarget': lambda N, E: (),\n",
    "\t'ModuleInfo': lambda N, E: (),\n",
    "\t'Undocked': lambda N, E: (),\n",
    "\t'Scanned': lambda N, E: (),\n",
    "\t'ReceiveText': lambda N, E: (),\n",
    "\t'StartJump': lambda N, E: (),\n",
    "\t'SupercruiseEntry': lambda N, E: (),\n",
    "\t'ApproachBody': lambda N, E: (),\n",
    "\t'ApproachSettlement': lambda N, E: (),\n",
    "\t'SupercruiseExit': lambda N, E: (),\n",
    "\t'DockingRequested': lambda N, E: (),\n",
    "\t'DockingGranted': lambda N, E: (),\n",
    "\t'Docked': lambda N, E: (),\n",
    "\t'RefuelAll': lambda N, E: (),\n",
    "\t'RedeemVoucher': lambda N, E: (),\n",
    "\t'LeaveBody': lambda N, E: (),\n",
    "\t'NewCommander': lambda N, E: (),\n",
    "\t'SendText': lambda N, E: (),\n",
    "\t'Market': lambda N, E: (),\n",
    "\t'FSDJump': lambda N, E: (),\n",
    "\t'DockingDenied': lambda N, E: (),\n",
    "\t'CargoDepot': lambda N, E: (),\n",
    "\t'USSDrop': lambda N, E: (),\n",
    "\t'MaterialDiscovered': lambda N, E: (),\n",
    "\t'MaterialCollected': lambda N, E: (),\n",
    "\t'ShipTargeted': lambda N, E: (),\n",
    "\t'ReservoirReplenished': lambda N, E: (),\n",
    "\t'NavBeaconScan': lambda N, E: (),\n",
    "\t'Scan': lambda N, E: (),\n",
    "\t'Promotion': lambda N, E: (),\n",
    "\t'Outfitting': lambda N, E: (),\n",
    "\t'StoredModules': lambda N, E: (),\n",
    "\t'HeatWarning': lambda N, E: (),\n",
    "\t'CodexEntry': lambda N, E: (),\n",
    "\t'RepairAll': lambda N, E: (),\n",
    "\t'Shipyard': lambda N, E: (),\n",
    "\t'StoredShips': lambda N, E: (),\n",
    "\t'ShipyardBuy': lambda N, E: (),\n",
    "\t'ShipyardNew': lambda N, E: (),\n",
    "\t'EscapeInterdiction': lambda N, E: (),\n",
    "\t'Repair': lambda N, E: (),\n",
    "\t'ModuleBuy': lambda N, E: (),\n",
    "\t'ModuleStore': lambda N, E: (),\n",
    "\t'BuyAmmo': lambda N, E: (),\n",
    "\t'UnderAttack': lambda N, E: (),\n",
    "\t'Bounty': lambda N, E: (),\n",
    "\t'HullDamage': lambda N, E: (),\n",
    "\t'Interdicted': lambda N, E: (),\n",
    "\t'Died': lambda N, E: (),\n",
    "\t'Resurrect': lambda N, E: (),\n",
    "\t'ModuleSwap': lambda N, E: (),\n",
    "\t'ModuleRetrieve': lambda N, E: (),\n",
    "\t'BuyTradeData': lambda N, E: (),\n",
    "\t'ModuleSellRemote': lambda N, E: (),\n",
    "\t'BuyExplorationData': lambda N, E: (),\n",
    "\t'MultiSellExplorationData': lambda N, E: (),\n",
    "\t'FuelScoop': lambda N, E: (),\n",
    "\t'FSSAllBodiesFound': lambda N, E: (),\n",
    "\t'EngineerContribution': lambda N, E: (),\n",
    "\t'CommitCrime': lambda N, E: (),\n",
    "\t'CollectCargo': lambda N, E: (),\n",
    "\t'FSSDiscoveryScan': lambda N, E: (),\n",
    "\t'MarketBuy': lambda N, E: (),\n",
    "\t'EngineerCraft': lambda N, E: (),\n",
    "\t'SAAScanComplete': lambda N, E: (),\n",
    "\t'SAASignalsFound': lambda N, E: (),\n",
    "\t'FetchRemoteModule': lambda N, E: (),\n",
    "\t'ShipyardSwap': lambda N, E: (),\n",
    "\t'ShipyardTransfer': lambda N, E: (),\n",
    "\t'SellExplorationData': lambda N, E: (),\n",
    "\t'Touchdown': lambda N, E: (),\n",
    "\t'Liftoff': lambda N, E: (),\n",
    "\t'LaunchSRV': lambda N, E: (),\n",
    "\t'DockSRV': lambda N, E: (),\n",
    "\t'MarketSell': lambda N, E: (),\n",
    "\t'PayBounties': lambda N, E: (),\n",
    "\t'EjectCargo': lambda N, E: (),\n",
    "\t'PayFines': lambda N, E: (),\n",
    "\t'Synthesis': lambda N, E: (),\n",
    "\t'ModuleSell': lambda N, E: (),\n",
    "\t'Passengers': lambda N, E: (),\n",
    "\t'DataScanned': lambda N, E: (),\n",
    "\t'Screenshot': lambda N, E: (),\n",
    "\t'MaterialTrade': lambda N, E: (),\n",
    "\t'SetUserShipName': lambda N, E: (),\n",
    "\t'BuyDrones': lambda N, E: (),\n",
    "\t'SellDrones': lambda N, E: (),\n",
    "\t'TechnologyBroker': lambda N, E: (),\n",
    "\t'SearchAndRescue': lambda N, E: (),\n",
    "\t'MiningRefined': lambda N, E: (),\n",
    "\t'LaunchDrone': lambda N, E: (),\n",
    "\t'ProspectedAsteroid': lambda N, E: (),\n",
    "\t#'Missions': lambda N, E: (),\n",
    "\t#'MissionAbandoned': lambda N, E: (),\n",
    "\t#'MissionAccepted': lambda N, E: (),\n",
    "\t#'MissionCompleted': lambda N, E: (),\n",
    "\t#'MissionRedirected': lambda N, E: (),\n",
    "    # Handle events ---------------------------------------------------\n",
    "    \"Commander\": lambda N,E: None if journal_story[\"Commanders\"].update({\n",
    "        E.get('FID'):{k:E.get(k,set()) for k in ['FID', 'Name', 'Missions']}\n",
    "    }) else journal_story.update({\"current\":journal_story[\"Commanders\"].get(E.get('FID'))}),\n",
    "        \n",
    "    \"Materials\": lambda N,E: journal_story[\"current\"].update({N: {E.get(\"timestamp\"): {\n",
    "       k:{o.get(\"Name\"):o.get(\"Count\") for o in E.get(k)} for k in [\"Raw\",\"Manufactured\",\"Encoded\"]\n",
    "    } }}),\n",
    "    \"Rank\": lambda N,E:journal_story[\"current\"].update({N:{E.pop(\"timestamp\"):E}}),\n",
    "    \"Progress\": lambda N,E:journal_story[\"current\"].update({N:{E.pop(\"timestamp\"):E}}),\n",
    "    \"Reputation\": lambda N,E:journal_story[\"current\"].update({N:{E.pop(\"timestamp\"):E}}),\n",
    "\t#\"Missions\": lambda N,E:journal_story.get('current').get('Missions').update([M['MissionID'] for M in E['Active']]),\n",
    "\t#'MissionAccepted': lambda N, E: missions.update({E['MissionID']:{\n",
    "    #    k:E.get(k) for k in ['LocalisedName', 'Expiry', 'DestinationSystem', 'DestinationStation']\n",
    "    #}}),\n",
    "    \n",
    "\n",
    "}"
   ]
  },
  {
   "cell_type": "code",
   "execution_count": null,
   "id": "47c8af7b-0868-4b10-a98c-c3007d0040f9",
   "metadata": {
    "tags": []
   },
   "outputs": [],
   "source": [
    "from edcompanion import events\n",
    "importlib.reload(events)\n",
    "entrytime = 0\n",
    "jumptimes = []\n",
    "body_id = 0\n",
    "system_name = ''\n",
    "rankings = dict(\n",
    "    Progress = dict(),\n",
    "    Rank = dict()\n",
    "    \n",
    ")\n",
    "modules = []\n",
    "ships = {}\n",
    "my_materials = {}\n",
    "event_seqnr = 0\n",
    "unknown_events = {}\n",
    "starpos = None\n",
    "\n",
    "for event in events.edc_track_journal(logpath, backlog=6):\n",
    "    timestamp = make_datetime(event.get(\"timestamp\"))\n",
    "    eventname = event.pop(\"event\")\n",
    "    \n",
    "    if not jumptimes:\n",
    "        entrytime=timestamp.timestamp()\n",
    "        jumptimes.append(timestamp.timestamp())\n",
    "    if not system_name and eventname == 'Location':\n",
    "        system_name = event.get('StarSystem')\n",
    "    starpos = np.asarray(event.get('StarPos', starpos))\n",
    "        \n",
    "    sys.stdout.write(\n",
    "        f\"\\r{str(timestamp)[:-6]:20} {event_seqnr:5} \"+\n",
    "        f\"{eventname:14} {timestamp.timestamp()-jumptimes[-1]:9,.0F} | {system_name:26} | \")\n",
    "    \n",
    "    if eventname not in journal_events and eventname not in unknown_events:\n",
    "        sys.stdout.write(f\"{event_seqnr:5} \\n{json.dumps(event, indent=4, sort_keys=False)}\")\n",
    "        unknown_events[eventname]=event\n",
    "        #break\n",
    "    if eventname in journal_events:\n",
    "        journal_events.get(eventname)(eventname, event)\n",
    "    event_seqnr += 1\n",
    "        \n",
    "print(f\"\\nDone\")\n",
    "#prettyprint(journal_story['current']['Missions'])\n",
    "#print(maxlen)"
   ]
  },
  {
   "cell_type": "code",
   "execution_count": null,
   "id": "b3b5e8f7-2bce-4a09-9fdf-169f2905d800",
   "metadata": {},
   "outputs": [],
   "source": [
    "[x for x in journal_story['current']['Missions']]"
   ]
  },
  {
   "cell_type": "code",
   "execution_count": null,
   "id": "9fc66005-7d56-41a7-a72f-27fb3464f574",
   "metadata": {},
   "outputs": [],
   "source": [
    "missions"
   ]
  },
  {
   "cell_type": "code",
   "execution_count": null,
   "id": "01c62a61-ddd8-46f8-80bd-c1248113e5ce",
   "metadata": {},
   "outputs": [],
   "source": [
    "for s in [f\"\\t'{str(k)}': lambda N, E: (),\" for k in unknown_events]:\n",
    "    print(s)"
   ]
  },
  {
   "cell_type": "code",
   "execution_count": null,
   "id": "2e1afd12-2f88-46cf-b70a-5b2865c8aece",
   "metadata": {},
   "outputs": [],
   "source": [
    "logging.getLogger().setLevel(logging.DEBUG)"
   ]
  },
  {
   "cell_type": "markdown",
   "id": "cd64bd11-ad27-487e-b7c1-d834a479daad",
   "metadata": {},
   "source": [
    "# Companion API"
   ]
  },
  {
   "cell_type": "code",
   "execution_count": null,
   "id": "bc060146-1450-47ce-ab09-b988a87c1f1e",
   "metadata": {},
   "outputs": [],
   "source": [
    "apiparams = dict(\n",
    "    base_url=\"http://127.0.0.1:8000\",\n",
    "    headers=dict(\n",
    "        authorization='9VknM2Gq2UcyM9tXJm43k7M4zVDNhVcQ' #os.getenv(\"USR_TOKEN\")\n",
    "    )\n",
    ")\n",
    "print(apiparams)"
   ]
  },
  {
   "cell_type": "code",
   "execution_count": null,
   "id": "a8a800f2-d495-4acf-b22f-e481a284480c",
   "metadata": {},
   "outputs": [],
   "source": []
  },
  {
   "cell_type": "code",
   "execution_count": null,
   "id": "ba337ddd-e4f5-415b-af22-7111bf22cdc8",
   "metadata": {},
   "outputs": [],
   "source": [
    "readparams=dict(\n",
    "    realm=\"edsm\",\n",
    "    # name=\"Ix\",\n",
    "    filter=json.dumps(dict(\n",
    "        include=dict(stations='inner'),\n",
    "        where=dict(name='Ix')\n",
    "    )),\n",
    "    format=\"json/split-index\"\n",
    ")\n",
    "\n",
    "jsondata = None\n",
    "t0=0\n",
    "async with aiohttp.ClientSession(**apiparams) as session:\n",
    "    t0 = time.perf_counter_ns()\n",
    "    req = await session.get(\"/systems\", params=readparams)\n",
    "    t1 = time.perf_counter_ns()\n",
    "    #print(req.headers)   \n",
    "    #print(req.headers)  \n",
    "    jsondata= await req.json()\n",
    "    if jsondata:\n",
    "        df = pd.read_json((await req.read()).decode(\"utf-8\"), orient='split')\n",
    "    #fulldata = np.asarray(await req.json())\n",
    "    #print(f\"Query took {(t1-t0) / 1e6} ms for {fulldata.shape[0]} rows\")\n",
    "    print(f\"Query took {round((t1-t0) / 1e6,2)} ms for {len(df)} rows\")\n",
    "\n",
    "    print(req.url)\n",
    "\n"
   ]
  },
  {
   "cell_type": "code",
   "execution_count": null,
   "id": "dd8a798b-c99e-44aa-922f-1b0d2f81d1b1",
   "metadata": {},
   "outputs": [],
   "source": []
  },
  {
   "cell_type": "code",
   "execution_count": null,
   "id": "39ab9c7c-a01c-439c-a063-5443ea3374d2",
   "metadata": {},
   "outputs": [],
   "source": [
    "edsy_export = json.loads('''\n",
    "[{\"header\":{\"appName\":\"EDSY\",\"appVersion\":308119901,\"appURL\":\"https://edsy.org/#/L=GB00000H4C0SC0,,,9p300A5UG054_W0AN8G02r_W0AdsI05L_W0AsOG02m_W0B60J035_W0BOwI030_W0Bcg00,,5223034a300Nc90mpT7Q4G03N_W0mpU6e4B02jw00\"},\"data\":{\"event\":\"Loadout\",\"Ship\":\"krait_light\",\"ShipName\":\"\",\"ShipIdent\":\"\",\"HullValue\":35732880,\"ModulesValue\":49907240,\"UnladenMass\":325.2,\"CargoCapacity\":0,\"MaxJumpRange\":68.315657,\"FuelCapacity\":{\"Main\":32,\"Reserve\":0.63},\"Rebuy\":4282006,\"Modules\":[{\"Slot\":\"CargoHatch\",\"Item\":\"modularcargobaydoor\",\"On\":false,\"Priority\":4},{\"Slot\":\"Armour\",\"Item\":\"krait_light_armour_grade1\",\"On\":true,\"Priority\":0,\"Value\":0},{\"Slot\":\"PowerPlant\",\"Item\":\"int_powerplant_size3_class5\",\"On\":true,\"Priority\":0,\"Value\":480410,\"Engineering\":{\"BlueprintName\":\"PowerPlant_Stealth\",\"Level\":4,\"Quality\":1,\"ExperimentalEffect\":\"special_powerplant_cooled\",\"Modifiers\":[{\"Label\":\"Mass\",\"Value\":2.9,\"OriginalValue\":2.5},{\"Label\":\"PowerCapacity\",\"Value\":10.56,\"OriginalValue\":12},{\"Label\":\"HeatEfficiency\",\"Value\":0.162,\"OriginalValue\":0.4}]}},{\"Slot\":\"MainEngines\",\"Item\":\"int_engine_size4_class2\",\"On\":true,\"Priority\":0,\"Value\":59630,\"Engineering\":{\"BlueprintName\":\"Engine_Tuned\",\"Level\":3,\"Quality\":1,\"ExperimentalEffect\":\"special_engine_cooled\",\"Modifiers\":[{\"Label\":\"Mass\",\"Value\":4.2,\"OriginalValue\":4},{\"Label\":\"Integrity\",\"Value\":58.88,\"OriginalValue\":64},{\"Label\":\"PowerDraw\",\"Value\":3.9852,\"OriginalValue\":3.69},{\"Label\":\"EngineOptimalMass\",\"Value\":296.1,\"OriginalValue\":315},{\"Label\":\"EngineOptPerformance\",\"Value\":118,\"OriginalValue\":100},{\"Label\":\"EngineHeatRate\",\"Value\":0.702,\"OriginalValue\":1.3}]}},{\"Slot\":\"FrameShiftDrive\",\"Item\":\"int_hyperdrive_size5_class5\",\"On\":true,\"Priority\":2,\"Value\":5103950,\"Engineering\":{\"BlueprintName\":\"FSD_LongRange\",\"Level\":5,\"Quality\":1,\"ExperimentalEffect\":\"special_fsd_cooled\",\"Modifiers\":[{\"Label\":\"Mass\",\"Value\":26,\"OriginalValue\":20},{\"Label\":\"Integrity\",\"Value\":102,\"OriginalValue\":120},{\"Label\":\"PowerDraw\",\"Value\":0.69,\"OriginalValue\":0.6},{\"Label\":\"FSDOptimalMass\",\"Value\":1627.5,\"OriginalValue\":1050},{\"Label\":\"FSDHeatRate\",\"Value\":24.3,\"OriginalValue\":27}]}},{\"Slot\":\"LifeSupport\",\"Item\":\"int_lifesupport_size4_class2\",\"On\":true,\"Priority\":0,\"Value\":28370,\"Engineering\":{\"BlueprintName\":\"Misc_LightWeight\",\"Level\":3,\"Quality\":1,\"Modifiers\":[{\"Label\":\"Mass\",\"Value\":1.4,\"OriginalValue\":4},{\"Label\":\"Integrity\",\"Value\":50.4,\"OriginalValue\":72}]}},{\"Slot\":\"PowerDistributor\",\"Item\":\"int_powerdistributor_size4_class2\",\"On\":true,\"Priority\":3,\"Value\":28370,\"Engineering\":{\"BlueprintName\":\"PowerDistributor_HighFrequency\",\"Level\":4,\"Quality\":1,\"ExperimentalEffect\":\"special_powerdistributor_fast\",\"Modifiers\":[{\"Label\":\"WeaponsCapacity\",\"Value\":22.1184,\"OriginalValue\":24},{\"Label\":\"WeaponsRecharge\",\"Value\":3.67744,\"OriginalValue\":2.6},{\"Label\":\"EnginesCapacity\",\"Value\":15.6672,\"OriginalValue\":17},{\"Label\":\"EnginesRecharge\",\"Value\":1.98016,\"OriginalValue\":1.4},{\"Label\":\"SystemsCapacity\",\"Value\":15.6672,\"OriginalValue\":17},{\"Label\":\"SystemsRecharge\",\"Value\":1.98016,\"OriginalValue\":1.4}]}},{\"Slot\":\"Radar\",\"Item\":\"int_sensors_size6_class1\",\"On\":true,\"Priority\":2,\"Value\":88980,\"Engineering\":{\"BlueprintName\":\"Sensor_LightWeight\",\"Level\":4,\"Quality\":1,\"Modifiers\":[{\"Label\":\"Mass\",\"Value\":14,\"OriginalValue\":40},{\"Label\":\"Integrity\",\"Value\":61.2,\"OriginalValue\":102},{\"Label\":\"SensorTargetScanAngle\",\"Value\":24,\"OriginalValue\":30}]}},{\"Slot\":\"FuelTank\",\"Item\":\"int_fueltank_size5_class3\",\"On\":true,\"Priority\":0,\"Value\":97750},{\"Slot\":\"Slot01_Size6\",\"Item\":\"int_fuelscoop_size6_class5\",\"On\":true,\"Priority\":3,\"Value\":28763610},{\"Slot\":\"Slot02_Size5\",\"Item\":\"int_guardianfsdbooster_size5\",\"On\":true,\"Priority\":3,\"Value\":6483100},{\"Slot\":\"Slot03_Size5\",\"Item\":\"int_repairer_size5_class5\",\"On\":false,\"Priority\":1,\"Value\":8503060},{\"Slot\":\"Slot05_Size3\",\"Item\":\"int_shieldgenerator_size3_class2\",\"On\":true,\"Priority\":0,\"Value\":18810,\"Engineering\":{\"BlueprintName\":\"ShieldGenerator_Optimised\",\"Level\":5,\"Quality\":1,\"ExperimentalEffect\":\"special_shield_lightweight\",\"Modifiers\":[{\"Label\":\"Mass\",\"Value\":0.9,\"OriginalValue\":2},{\"Label\":\"Integrity\",\"Value\":28.5,\"OriginalValue\":38},{\"Label\":\"PowerDraw\",\"Value\":0.864,\"OriginalValue\":1.44},{\"Label\":\"ShieldGenOptimalMass\",\"Value\":155.1,\"OriginalValue\":165},{\"Label\":\"ShieldGenStrength\",\"Value\":103.5,\"OriginalValue\":90}]}},{\"Slot\":\"Slot08_Size2\",\"Item\":\"int_dronecontrol_repair_size1_class2\",\"On\":false,\"Priority\":3,\"Value\":1200},{\"Slot\":\"Slot09_Size1\",\"Item\":\"int_detailedsurfacescanner_tiny\",\"On\":true,\"Priority\":0,\"Value\":250000}]}}]\n",
    "''')"
   ]
  },
  {
   "cell_type": "code",
   "execution_count": null,
   "id": "d517ea75-216d-428e-94d1-ad0113641819",
   "metadata": {},
   "outputs": [],
   "source": [
    "prettyprint(edsy_export)"
   ]
  },
  {
   "cell_type": "code",
   "execution_count": null,
   "id": "bff86ff0-560c-449f-9065-d576f7582846",
   "metadata": {},
   "outputs": [],
   "source": []
  },
  {
   "cell_type": "code",
   "execution_count": null,
   "id": "84462d27-34e8-4919-be17-20e5fe069f76",
   "metadata": {},
   "outputs": [],
   "source": [
    "jsondata"
   ]
  },
  {
   "cell_type": "markdown",
   "id": "4c2efc1a-4f94-40d9-a58e-3a595831b867",
   "metadata": {},
   "source": [
    "# Database"
   ]
  },
  {
   "cell_type": "code",
   "execution_count": null,
   "id": "3f973cf6-95c0-400c-b971-7ff2fa6c36fe",
   "metadata": {},
   "outputs": [],
   "source": [
    "system_info_lhs2661 = get_edsm_info(\"LHS 2661\")\n",
    "print(system_info_lhs2661)"
   ]
  },
  {
   "cell_type": "code",
   "execution_count": null,
   "id": "64e8bd55-3785-411b-ac28-b3c5025488f7",
   "metadata": {},
   "outputs": [],
   "source": [
    "[B for B in system_info_lhs2661.get('bodies') if ' 6 ' in B.get('name')]"
   ]
  },
  {
   "cell_type": "markdown",
   "id": "553899e3-27bc-4dae-8763-54f825f1d97c",
   "metadata": {},
   "source": [
    "## Creation"
   ]
  },
  {
   "cell_type": "markdown",
   "id": "191a3d0f-a2e5-4c95-a2a4-c5f631612543",
   "metadata": {},
   "source": [
    "### Systems"
   ]
  },
  {
   "cell_type": "code",
   "execution_count": null,
   "id": "50ab5d82-8da9-42da-ad29-4bdaff0c30f3",
   "metadata": {},
   "outputs": [],
   "source": [
    "# Drop te existing sytems table\n",
    "\n",
    "assert False, \"Swap the comments on these two lines if you really want to recreate the systems table\"\n",
    "#await pgpool.execute(f\"DROP TABLE edsm.systems;\")\n",
    "await pgpool.execute(f\"\"\"\n",
    "    CREATE TABLE IF NOT EXISTS edsm.systems (\n",
    "        system_id BIGINT NOT NULL,\n",
    "        x         REAL NOT NULL,\n",
    "        y         REAL NOT NULL,\n",
    "        z         REAL NOT NULL\n",
    "        name      TEXT NOT NULL,\n",
    "        bodycount INT DEFAULT 0\n",
    "    );\n",
    "    DROP INDEX IF EXISTS systems_name_unique\n",
    "    DROP INDEX IF EXISTS systems_name_idx\n",
    "    DROP INDEX IF EXISTS systems_id_unique\n",
    "    DROP INDEX IF EXISTS systems_id_idx\n",
    "    CREATE UNIQUE INDEX IF NOT EXISTS systems_id_unique ON edsm.systems (system_id);\n",
    "    CREATE INDEX IF NOT EXISTS systems_name_idx ON edsm.systems (name);\n",
    "\n",
    "    CREATE INDEX IF NOT EXISTS systems_x_idx ON edsm.systems (x);\n",
    "    CREATE INDEX IF NOT EXISTS systems_y_idx ON edsm.systems (y);\n",
    "    CREATE INDEX IF NOT EXISTS systems_z_idx ON edsm.systems (z); \n",
    "\n",
    "\"\"\")\n",
    "\n",
    "systems_insert_query = f\"\"\"\n",
    "    INSERT INTO edsm.systems (system_id, name, x, y, z, bodycount) \n",
    "    VALUES ($1, $2, $3, $4, $5, $6) \n",
    "    ON CONFLICT (system_id) DO UPDATE SET \n",
    "        name = $2,\n",
    "        x=$3, y=$4, z=$5,\n",
    "        bodycount = $6\n",
    "\n",
    "\"\"\"\n"
   ]
  },
  {
   "cell_type": "markdown",
   "id": "f00f87c9-cd69-427c-9657-59816f3cd59d",
   "metadata": {},
   "source": [
    "#### Alter existing systems table"
   ]
  },
  {
   "cell_type": "code",
   "execution_count": null,
   "id": "66c58f33-4ebc-4680-a668-d67498ff72ea",
   "metadata": {},
   "outputs": [],
   "source": [
    "assert False, \"Comment this assert if you really want to alter the table\"\n",
    "await pgpool.execute(f\"\"\"\n",
    "        ALTER TABLE edsm.systems ADD COLUMN system_id BIGINT;\n",
    "        ALTER TABLE edsm.systems ADD COLUMN bodycount INT DEFAULT 0;\n",
    "        CREATE INDEX IF NOT EXISTS systems_id_idx ON edsm.systems (system_id);\n",
    "\n",
    "\"\"\")"
   ]
  },
  {
   "cell_type": "code",
   "execution_count": null,
   "id": "6a1500e2-0b4f-4fe3-a411-f7616d74eacd",
   "metadata": {},
   "outputs": [],
   "source": [
    "systems_insert_query = f\"\"\"\n",
    "    INSERT INTO edsm.systems (system_id, name, x, y, z, bodycount) \n",
    "    VALUES ($1, $2, $3, $4, $5, $6) \n",
    "    ON CONFLICT (name) DO UPDATE SET \n",
    "        system_id = $1,\n",
    "        x=$3, y=$4, z=$5,\n",
    "        bodycount = $6\n",
    "\n",
    "\"\"\""
   ]
  },
  {
   "cell_type": "code",
   "execution_count": null,
   "id": "6678b8f7-2e5f-4773-b3d2-09d83649674c",
   "metadata": {},
   "outputs": [],
   "source": [
    "await pgpool.execute(\"\"\"\n",
    "    DELETE FROM edsm.systems a\n",
    "    WHERE   a.ctid <> (SELECT min(b.ctid)\n",
    "                     FROM   edsm.systems b\n",
    "                     WHERE  a.name = b.name );\"\"\"\n",
    ")"
   ]
  },
  {
   "cell_type": "code",
   "execution_count": null,
   "id": "3d7d23c9-b320-4f0a-8a60-53c006cf4131",
   "metadata": {},
   "outputs": [],
   "source": [
    "await pgpool.execute(\"\"\"\n",
    "    DELETE FROM edsm.systems a\n",
    "    WHERE   a.ctid <> (SELECT min(b.ctid)\n",
    "                     FROM   edsm.systems b\n",
    "                     WHERE  a.system_id = b.system_id );\"\"\"\n",
    ")"
   ]
  },
  {
   "cell_type": "code",
   "execution_count": null,
   "id": "bcb2fd9f-4d61-496f-bd39-fe6bf2aaf9de",
   "metadata": {},
   "outputs": [],
   "source": [
    "await pgpool.execute(f\"\"\"\n",
    "    DROP INDEX IF EXISTS systems_name_unique\n",
    "    DROP INDEX IF EXISTS systems_name_idx\n",
    "    DROP INDEX IF EXISTS systems_id_unique\n",
    "    DROP INDEX IF EXISTS systems_id_idx\n",
    "    CREATE UNIQUE INDEX IF NOT EXISTS systems_id_unique ON edsm.systems (system_id);\n",
    "    CREATE INDEX IF NOT EXISTS systems_name_idx ON edsm.systems (name);\n",
    "\n",
    "    CREATE INDEX IF NOT EXISTS systems_x_idx ON edsm.systems (x);\n",
    "    CREATE INDEX IF NOT EXISTS systems_y_idx ON edsm.systems (y);\n",
    "    CREATE INDEX IF NOT EXISTS systems_z_idx ON edsm.systems (z); \n",
    "\n",
    "\"\"\")\n",
    "\n",
    "systems_insert_query = f\"\"\"\n",
    "    INSERT INTO edsm.systems (system_id, name, x, y, z, bodycount) \n",
    "    VALUES ($1, $2, $3, $4, $5, $6) \n",
    "    ON CONFLICT (system_id) DO UPDATE SET \n",
    "        name = $2,\n",
    "        x=$3, y=$4, z=$5,\n",
    "        bodycount = $6\n",
    "\n",
    "\"\"\"\n"
   ]
  },
  {
   "cell_type": "markdown",
   "id": "9d7df983-f0e1-4b3a-8ae5-199513ee337b",
   "metadata": {},
   "source": [
    "### Populated"
   ]
  },
  {
   "cell_type": "code",
   "execution_count": null,
   "id": "07b67274-4d35-4566-9256-c99cd304b28f",
   "metadata": {},
   "outputs": [],
   "source": [
    "# Drop te existing table:\n",
    "assert False, \"Swap the comments on these two lines if you really want to recreate the table\"\n",
    "#await pgpool.execute(f\"DROP TABLE edsm.populated;\")\n",
    "await pgpool.execute(f\"\"\"\n",
    "    CREATE TABLE IF NOT EXISTS edsm.populated (\n",
    "      system_id      BIGINT NOT NULL\n",
    "      population     REAL DEFAULT 0,\n",
    "      faction        TEXT,\n",
    "      allegiance     TEXT,\n",
    "      government     TEXT,\n",
    "      economy        TEXT,\n",
    "      security       TEXT\n",
    "    ) ;\n",
    "    CREATE UNIQUE INDEX IF NOT EXISTS populated_system_id_unique  ON edsm.populated (system_id)\n",
    "    CREATE INDEX IF NOT EXISTS populated_faction_idx ON edsm.populated (faction);\n",
    "\"\"\")\n",
    "populated_insert_query = f\"\"\"\n",
    "    INSERT INTO edsm.populated (\n",
    "        system_id,\n",
    "        population, allegiance, government, \n",
    "        economy, security, faction\n",
    "    ) \n",
    "    VALUES ($1, $2, $3, $4, $5, $6, $7) \n",
    "    ON CONFLICT (system_id) DO UPDATE SET \n",
    "        population=$2, allegiance=$3, government=$4, \n",
    "        economy=$5, security=$6, faction=$7\n",
    "\n",
    "\"\"\"\n"
   ]
  },
  {
   "cell_type": "markdown",
   "id": "a753306a-20d6-423b-bb75-0d8ff22d7ca7",
   "metadata": {},
   "source": [
    "### Bodies"
   ]
  },
  {
   "cell_type": "code",
   "execution_count": null,
   "id": "9e48db8e-297e-45f4-a3fa-9dcc773d2b36",
   "metadata": {},
   "outputs": [],
   "source": [
    "# Drop te existing sytems table:\n",
    "assert False, \"Swap the comments on these two lines if you really want to recreate the table\"\n",
    "#await pgpool.execute(f\"DROP TABLE edsm.bodies;\")\n",
    "await pgpool.execute(f\"\"\"\n",
    "    CREATE TABLE IF NOT EXISTS edsm.bodies (\n",
    "        body_id   BIGINT NOT NULL\n",
    "        system_id BIGINT NOT NULL,\n",
    "        name      TEXT NOT NULL\n",
    "    );\n",
    "    CREATE UNIQUE INDEX IF NOT EXISTS bodies_id_unique ON edsm.bodies (body_id);\n",
    "    CREATE INDEX IF NOT EXISTS bodies_system_id_idx ON edsm.bodies (system_id);\n",
    "\n",
    "\"\"\")\n"
   ]
  },
  {
   "cell_type": "markdown",
   "id": "0b9193f3-75aa-4ed9-baf1-9d575fecd430",
   "metadata": {},
   "source": [
    "#### stars"
   ]
  },
  {
   "cell_type": "code",
   "execution_count": null,
   "id": "58c411b2-d32d-458e-810b-a7d159d62c16",
   "metadata": {},
   "outputs": [],
   "source": [
    "# Drop te existing sytems table:\n",
    "assert False, \"Swap the comments on these three lines if you really want to recreate the table\"\n",
    "#await pgpool.execute(f\"DROP TABLE edsm.stars;\")\n",
    "#await pgpool.execute(f\"DROP TABLE edsm.mainstars;\")\n",
    "await pgpool.execute(f\"\"\"\n",
    "    CREATE TABLE IF NOT EXISTS edsm.stars (\n",
    "      subtype         TEXT NOT NULL,\n",
    "      distance        REAL NOT NULL,\n",
    "      solarmasses     REAL NOT NULL,\n",
    "      temperature     REAL NOT NULL,\n",
    "      magnitude       REAL NOT NULL,\n",
    "      spectral_class  TEXT NOT NULL,\n",
    "      luminosity      TEXT NOT NULL\n",
    "    ) INHERITS (edsm.bodies);\n",
    "\"\"\")\n",
    "await pgpool.execute(f\"\"\"\n",
    "    CREATE TABLE IF NOT EXISTS edsm.mainstars (\n",
    "    ) INHERITS (edsm.stars);\n",
    "\"\"\")\n",
    "stars_insert_query = f\"\"\"\n",
    "    INSERT INTO edsm.stars (\n",
    "        body_id, system_id, distance, name, subtype,\n",
    "        solarmasses, temperature, magnitude, spectral_class, luminosity\n",
    "    ) \n",
    "    VALUES ($1, $2, $3, $4, $5, $6,$7, $8, $9, $10) \n",
    "    ON CONFLICT (body_id) DO UPDATE SET \n",
    "        system_id = $2,\n",
    "        distance =$3, name=$4, subtype=$5,\n",
    "        solarmasses=$6, temperature=$7, magnitude=$8, \n",
    "        spectral_class=$9, luminosity=$10\n",
    "\n",
    "\"\"\""
   ]
  },
  {
   "cell_type": "code",
   "execution_count": null,
   "id": "c0b789a6-18a3-4e97-ae0c-69ad9ef983e0",
   "metadata": {},
   "outputs": [],
   "source": [
    "# Drop te existing sytems table:\n",
    "assert False, \"Swap the comments on these two lines if you really want to recreate the table\"\n",
    "#await pgpool.execute(f\"DROP TABLE edsm.barycentres;\")\n",
    "await pgpool.execute(f\"\"\"\n",
    "    CREATE TABLE IF NOT EXISTS edsm.barycentres (\n",
    "    ) INHERITS (edsm.bodies);\n",
    "\"\"\")\n",
    "barycentres_insert_query = f\"\"\"\n",
    "    INSERT INTO edsm.barycentres (\n",
    "        body_id, system_id, name\n",
    "        \n",
    "    ) \n",
    "    VALUES ($1, $2, $3) \n",
    "    ON CONFLICT (body_id) DO UPDATE SET \n",
    "        system_id = $2, name=$3\n",
    "\n",
    "\"\"\""
   ]
  },
  {
   "cell_type": "markdown",
   "id": "01e2b871-f89c-4663-9a12-0a1fb3e1639e",
   "metadata": {},
   "source": [
    "#### planets"
   ]
  },
  {
   "cell_type": "code",
   "execution_count": null,
   "id": "81d279d1-b8ff-468e-b8c5-435548ed02af",
   "metadata": {},
   "outputs": [],
   "source": [
    "# Drop te existing table:\n",
    "assert False, \"Swap the comments on these two lines if you really want to recreate the table\"\n",
    "#await pgpool.execute(f\"DROP TABLE edsm.planets;\")\n",
    "await pgpool.execute(f\"\"\"\n",
    "    CREATE TABLE IF NOT EXISTS edsm.planets (\n",
    "      subtype        TEXT NOT NULL,\n",
    "      earthmasses    REAL NOT NULL,\n",
    "      gravity        REAL NOT NULL,\n",
    "      temperature    REAL NOT NULL\n",
    "      landable       BOOL DEFAULT FALSE,\n",
    "      volcanism      BOOL DEAFULT FALSE\n",
    "      \n",
    "    ) INHERITS (edsm.bodies);\n",
    "\"\"\")\n",
    "planets_insert_query = f\"\"\"\n",
    "    INSERT INTO edsm.planets (\n",
    "        body_id, system_id, distance, name, subtype,\n",
    "        earthmasses, temperature, gravity, landable, volcanism\n",
    "    ) \n",
    "    VALUES ($1, $2, $3, $4, $5, $6,$7, $8, $9, $10) \n",
    "    ON CONFLICT (body_id) DO UPDATE SET \n",
    "        system_id = $2,\n",
    "        distance =$3, name=$4, subtype=$5,\n",
    "        earthmasses=$6, temperature=$7, gravity=$8, \n",
    "        landable=$9, volcanism=$10\n",
    "\n",
    "\"\"\""
   ]
  },
  {
   "cell_type": "markdown",
   "id": "09a87bce-636d-41f4-a732-1862ba35c4a6",
   "metadata": {},
   "source": [
    "### Stations"
   ]
  },
  {
   "cell_type": "code",
   "execution_count": null,
   "id": "2ece6c90-c5f3-47f9-9082-d1bdc8f0fbc4",
   "metadata": {},
   "outputs": [],
   "source": [
    "# Drop te existing table:\n",
    "assert False, \"Swap the comments on these two lines if you really want to recreate the table\"\n",
    "#await pgpool.execute(f\"DROP TABLE edsm.stations;\")\n",
    "await pgpool.execute(f\"\"\"\n",
    "    CREATE TABLE IF NOT EXISTS edsm.stations (\n",
    "        station_id   BIGINT NOT NULL,\n",
    "        system_id    BIGINT NOT NULL,\n",
    "        distance     REAL NOT NULL,\n",
    "        name         TEXT NOT NULL,\n",
    "        type         TEXT NOT NULL,\n",
    "        faction      TEXT\n",
    "      \n",
    "    ) ;\n",
    "    \n",
    "    CREATE INDEX IF NOT EXISTS station_name_idx ON edsm.stations (name);\n",
    "    CREATE INDEX IF NOT EXISTS station_faction_idx ON edsm.stations (faction);\n",
    "    CREATE INDEX IF NOT EXISTS station_system_id_idx ON edsm.stations (system_id);\n",
    "\n",
    "\"\"\")\n",
    "stations_insert_query = f\"\"\"\n",
    "    INSERT INTO edsm.stations (\n",
    "        station_id, system_id,\n",
    "        distance, name, type, faction\n",
    "    )\n",
    "    VALUES ($1, $2, $3, $4, $5, $6) \n",
    "    ON CONFLICT (station_id) DO UPDATE SET \n",
    "        system_id=$2, distance=$3, \n",
    "        name=$4, type=$5, faction=$6\n",
    "    \n",
    "\"\"\""
   ]
  },
  {
   "cell_type": "markdown",
   "id": "886a0772-d45d-4180-b4ec-780015d077ce",
   "metadata": {},
   "source": [
    "### Factions"
   ]
  },
  {
   "cell_type": "code",
   "execution_count": null,
   "id": "596bb284-d8b3-4891-b093-2146810a5b01",
   "metadata": {},
   "outputs": [],
   "source": [
    "# Drop te existing table:\n",
    "assert False, \"Swap the comments on these two lines if you really want to recreate the table\"\n",
    "#await pgpool.execute(f\"DROP TABLE edsm.factions;\")\n",
    "await pgpool.execute(f\"\"\"\n",
    "    CREATE TABLE IF NOT EXISTS edsm.factions (\n",
    "        system_id      BIGINT NOT NULL,\n",
    "        faction        TEXT,\n",
    "        allegiance     TEXT,\n",
    "        government     TEXT,\n",
    "        influence      REAL,\n",
    "        state          TEXT\n",
    "      \n",
    "    ) ;\n",
    "    \n",
    "    CREATE UNIQUE INDEX IF NOT EXISTS factions_ass_faction_system on edsm.factions (faction, system_id)\n",
    "    CREATE INDEX IF NOT EXISTS factions_system_id ON edsm.factions (system_id);\n",
    "    CREATE INDEX IF NOT EXISTS factions_faction_idx ON edsm.factions (faction);\n",
    "\n",
    "\"\"\")"
   ]
  },
  {
   "cell_type": "code",
   "execution_count": null,
   "id": "f097ddf7-6642-418f-bfd2-14bd13ffc578",
   "metadata": {},
   "outputs": [],
   "source": [
    "factions_insert_query = f\"\"\"\n",
    "    INSERT INTO edsm.factions (\n",
    "        system_id, faction,\n",
    "        allegiance, government, \n",
    "        influence, state\n",
    "    )\n",
    "    VALUES ($1, $2, $3, $4, $5, $6) \n",
    "    ON CONFLICT (faction, system_id) DO UPDATE SET \n",
    "        allegiance=$3, government=$4, \n",
    "        influence=$5, state=$6\n",
    "    \n",
    "\"\"\""
   ]
  },
  {
   "cell_type": "markdown",
   "id": "ea606b9b-5ffa-44be-bb43-beccd1d21ef9",
   "metadata": {},
   "source": [
    "## Insert"
   ]
  },
  {
   "cell_type": "markdown",
   "id": "ac179141-c687-4fcb-ac21-4cb2fd849a95",
   "metadata": {},
   "source": [
    "## Indexes"
   ]
  },
  {
   "cell_type": "code",
   "execution_count": null,
   "id": "149cb823-9bc0-4284-a94c-6afbabb363b4",
   "metadata": {},
   "outputs": [],
   "source": [
    "await pgpool.execute(f\"\"\"\n",
    "\n",
    "CREATE INDEX IF NOT EXISTS powers_system_id_idx ON edsm.powers (system_id);\n",
    "CREATE INDEX IF NOT EXISTS powers_power_ixd ON edsm.powers (power); \n",
    "\n",
    "\n",
    "CREATE INDEX IF NOT EXISTS populated_system_id_idx ON edsm.populated (system_id);\n",
    "\n",
    "\"\"\")\n"
   ]
  },
  {
   "cell_type": "code",
   "execution_count": null,
   "id": "b23ae787-59fe-4583-b840-b24d910824b1",
   "metadata": {},
   "outputs": [],
   "source": [
    "await pgpool.execute(\"\"\"\n",
    "    DELETE FROM edsm.powers a\n",
    "    WHERE   a.ctid <> (SELECT min(b.ctid)\n",
    "                     FROM   edsm.powers b\n",
    "                     WHERE  a.power = b.power AND a.system_id = b.system_id);\"\"\"\n",
    ")"
   ]
  },
  {
   "cell_type": "code",
   "execution_count": null,
   "id": "200b11cd-6fda-418c-9aef-59be60ec5b43",
   "metadata": {},
   "outputs": [],
   "source": []
  },
  {
   "cell_type": "code",
   "execution_count": null,
   "id": "ca96c706-2e58-43ee-a709-ed49c5164c15",
   "metadata": {},
   "outputs": [],
   "source": [
    "await pgpool.execute(f\"\"\"\n",
    "CREATE unique INDEX IF NOT EXISTS systems_id_uniq ON edsm.systems (system_id);\n",
    "CREATE unique INDEX IF NOT EXISTS powers_powersystem_uniq ON edsm.powers (power, system_id);\n",
    "\n",
    "\"\"\")\n"
   ]
  },
  {
   "cell_type": "code",
   "execution_count": null,
   "id": "cb5d7a80-fb06-4f3f-b823-107f8deacfca",
   "metadata": {},
   "outputs": [],
   "source": []
  },
  {
   "cell_type": "markdown",
   "id": "647fcdc9-1296-4b3f-9983-bafcb6dbc45d",
   "metadata": {},
   "source": [
    "## Update"
   ]
  },
  {
   "cell_type": "code",
   "execution_count": null,
   "id": "6b46f05a-a8d7-44e2-bc31-ea10dc314e47",
   "metadata": {},
   "outputs": [],
   "source": []
  }
 ],
 "metadata": {
  "kernelspec": {
   "display_name": "Python 3.8.13 ('jupyter-base')",
   "language": "python",
   "name": "python3"
  },
  "language_info": {
   "codemirror_mode": {
    "name": "ipython",
    "version": 3
   },
   "file_extension": ".py",
   "mimetype": "text/x-python",
   "name": "python",
   "nbconvert_exporter": "python",
   "pygments_lexer": "ipython3",
   "version": "3.8.13"
  },
  "vscode": {
   "interpreter": {
    "hash": "3d4373fa7b62889d9673bd116a9246af9054ae6a622c061e5c459a2e3d26194f"
   }
  }
 },
 "nbformat": 4,
 "nbformat_minor": 5
}
