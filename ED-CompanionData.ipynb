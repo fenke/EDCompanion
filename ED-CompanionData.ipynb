{
 "cells": [
  {
   "cell_type": "markdown",
   "metadata": {},
   "source": [
    "# Imports"
   ]
  },
  {
   "cell_type": "code",
   "execution_count": 10,
   "metadata": {},
   "outputs": [],
   "source": [
    "import os\n",
    "import sys\n",
    "import time\n",
    "import logging\n",
    "import importlib\n",
    "import datetime\n",
    "import re\n",
    "import json\n",
    "import glob\n",
    "import gzip\n",
    "import sqlite3\n",
    "from pathlib import Path\n",
    "from IPython.display import display\n",
    "import numpy as np\n",
    "from numpy.lib.recfunctions import join_by\n",
    "from numpy.core.records import fromarrays\n",
    "import matplotlib.pyplot as plt\n",
    "from matplotlib.pyplot import pcolormesh\n",
    "import pandas as pd\n",
    "import aiohttp\n",
    "import requests\n",
    "import math\n",
    "import itertools\n",
    "from functools import lru_cache\n",
    "#@lru_cache(maxsize=None)\n",
    "\n",
    "from edcompanion import eddbreader, edsm_api\n",
    "from edcompanion.events import edc_read_journal, edc_track_journal\n",
    "from edcompanion.timetools import make_datetime, make_naive_utc\n",
    "from edcompanion.edsm_api import get_edsm_info, distance_between_systems\n",
    "\n",
    "def prettyprint(item):\n",
    "    print(json.dumps(item, indent=4, sort_keys=False))\n",
    "    \n",
    "\n",
    "plt.rcParams[\"figure.figsize\"] = (16,12)\n",
    "pd.options.display.max_colwidth = 150\n",
    "\n",
    "\n",
    "# Some vars \n",
    "logpath = \"/Users/fenke/Saved Games/Frontier Developments/Elite Dangerous\"\n",
    "system_name = None\n",
    "connection = sqlite3.connect('./data/ed.db')\n",
    "connection.close()\n",
    "result = None\n"
   ]
  },
  {
   "cell_type": "code",
   "execution_count": 25,
   "metadata": {},
   "outputs": [],
   "source": [
    "with sqlite3.connect('./data/ed.db') as connection:\n",
    "    result = connection.execute(f\"SELECT * FROM systems WHERE name like 'Ix%'\")"
   ]
  },
  {
   "cell_type": "code",
   "execution_count": 26,
   "metadata": {},
   "outputs": [
    {
     "data": {
      "text/plain": [
       "('Ixilalana', 57.25, 155.09375, 37.15625)"
      ]
     },
     "execution_count": 26,
     "metadata": {},
     "output_type": "execute_result"
    }
   ],
   "source": [
    "result.fetchone()"
   ]
  },
  {
   "cell_type": "code",
   "execution_count": 27,
   "metadata": {},
   "outputs": [
    {
     "data": {
      "text/plain": [
       "[('Ix Ching', 33.34375, -78.15625, 171.8125),\n",
       " ('IX Orionis', 606.5625, -444.34375, -1097.5),\n",
       " ('Ixbalanque', 77.5, -55.40625, -96.8125),\n",
       " ('Ixchertha', 3.21875, -97.375, 88.3125),\n",
       " ('Ixilalonta', 131.71875, -9.5, -1.46875),\n",
       " ('Ix Chup', 96.71875, -180.625, 93.4375),\n",
       " ('Ix Tun', -32.65625, 83.84375, 61.15625),\n",
       " ('Ix Tub Tun', 10.9375, -178.15625, -13.46875),\n",
       " ('Ix Chowagit', 122.625, -160.5, 47.40625),\n",
       " ('Ix Chau', -84.9375, -82.0625, -115.125),\n",
       " ('Ix Chita', -14.21875, -55.3125, 141.25),\n",
       " ('Ix Chons', 94.46875, -173.53125, 1.84375),\n",
       " ('Ixtabru', 124.28125, -239.625, -21.0),\n",
       " ('Ixbakah', 3.75, -144.53125, -67.0),\n",
       " ('Ixbaksha', -146.03125, -39.65625, -20.53125),\n",
       " ('Ixcateshai', 96.34375, -120.25, -62.40625),\n",
       " ('Ix Chuntin', 117.25, -79.4375, 122.84375),\n",
       " ('Ixbakald', 81.25, -93.125, -39.28125),\n",
       " ('Ix Chuacae', -14.90625, -51.96875, 140.65625),\n",
       " ('Ixilak', 71.53125, -173.5, 154.53125),\n",
       " ('Ixbalan', 87.8125, -81.34375, -136.25),\n",
       " ('Ixil', -22.03125, -183.0, 68.0),\n",
       " ('Ix Chim', -78.71875, -5.84375, -79.21875),\n",
       " ('Ix Chakan', -13.0625, -43.65625, 55.3125),\n",
       " ('Ix Chodharr', -163.3125, 51.71875, -96.34375),\n",
       " ('Ix', -65.21875, 7.75, -111.03125)]"
      ]
     },
     "execution_count": 27,
     "metadata": {},
     "output_type": "execute_result"
    }
   ],
   "source": [
    "result.fetchall()"
   ]
  },
  {
   "cell_type": "code",
   "execution_count": null,
   "metadata": {},
   "outputs": [],
   "source": []
  },
  {
   "cell_type": "code",
   "execution_count": 51,
   "metadata": {},
   "outputs": [
    {
     "data": {
      "text/plain": [
       "<module 'edcompanion.eddbreader' from '/home/fenke/repos/EDCompanion/edcompanion/eddbreader.py'>"
      ]
     },
     "execution_count": 51,
     "metadata": {},
     "output_type": "execute_result"
    }
   ],
   "source": [
    "importlib.reload(eddbreader)\n",
    "\n",
    "def structure(thing, prefix):\n",
    "    if isinstance(thing, dict):\n",
    "        return '\\n'.join([f\"{prefix}-{str(k):20}{str(type(v)):24}\\n{structure(v, prefix+'   ') if v else ''}\" for k, v in thing.items()])\n",
    "\n",
    "\n",
    "    elif isinstance(thing, list):\n",
    "        return '\\n'.join([f\"{prefix}-{str(type(v)):24}\\n{structure(v, prefix+'   ') if v else ''}\" for v in thing])\n",
    "    else:\n",
    "        return ''\n",
    "        return f\"{prefix}{str(thing):42}\\n\"\n",
    "\n",
    "\n",
    "eddbfile = './data/galaxy_1day.json.gz'\n",
    "keys = {}\n",
    "count = 1\n",
    "item = None\n",
    "\n",
    "for item in eddbreader.edc_dbfilereader(eddbfile, True):\n",
    "    if not [k for k in item.get('bodies',[]) if 'ary' in k.get('type') ]:\n",
    "        continue\n",
    "\n",
    "    print(structure(item,'   '))\n",
    "\n",
    "    count -= 1\n",
    "    if not count > 0:\n",
    "        break"
   ]
  },
  {
   "cell_type": "code",
   "execution_count": 52,
   "metadata": {},
   "outputs": [
    {
     "name": "stdout",
     "output_type": "stream",
     "text": [
      "Reading ./data/galaxy_1day.json.gz, 489.8 Mb in approx 62 chunks\n",
      "48/62\t77.42%,    721 /s,     83925 systems,  33.9 seconds remaining\n",
      "Empty chunk -> Done! Imported 83925 systems in 116.3 seconds\n",
      "\n",
      "116.25737712499995 seconds 83925 systems, per system 1385.25 us"
     ]
    }
   ],
   "source": [
    "\n",
    "systems = [(\n",
    "        item.get('id64'),\n",
    "        *item.get('coord', [None,None,None]),\n",
    "        item.get('name'),\n",
    "        item.get('bodyCount'),\n",
    "    )\n",
    "    for item in eddbreader.edc_dbfilereader(eddbfile, True)\n",
    "]\n"
   ]
  },
  {
   "cell_type": "code",
   "execution_count": null,
   "metadata": {},
   "outputs": [],
   "source": [
    "import sys\n",
    "import time\n",
    "from pathlib import Path\n",
    "import gzip\n",
    "import json\n"
   ]
  },
  {
   "cell_type": "code",
   "execution_count": 68,
   "metadata": {},
   "outputs": [
    {
     "name": "stdout",
     "output_type": "stream",
     "text": [
      "Reading ./data/systemsWithCoordinates.json.gz, 2631.1 Mb in approx 329 chunks\n",
      "172/329\t52.28%,  14792 /s,  74498982 systems, 4597.0 seconds remaining\n",
      "5036.286807084 seconds 74498982 systems, per system 67.6 us"
     ]
    },
    {
     "data": {
      "text/plain": [
       "60"
      ]
     },
     "execution_count": 68,
     "metadata": {},
     "output_type": "execute_result"
    }
   ],
   "source": [
    "#filename = './data/galaxy_7days.json.gz'\n",
    "#filename = './data/systemsWithCoordinates7days.json.gz'\n",
    "filename = './data/systemsWithCoordinates.json.gz'\n",
    "assert '.gz' in filename\n",
    "filesize=Path(filename).stat().st_size\n",
    "chunksize = 64 * 1024 * 1024\n",
    "est_count = int(8*filesize/chunksize) + 1\n",
    "print(f\"Reading {filename}, {round(filesize/(1024*1024),1)} Mb in approx {est_count} chunks\")\n",
    "\n",
    "count = 0\n",
    "system_count = 0\n",
    "item = None\n",
    "line = ''\n",
    "start = time.process_time()\n",
    "#try:\n",
    "with gzip.open(filename.replace('.json.gz','_systems.jsonl.gz' if 'systems' not in filename else '.jsonl.gz'), 'wt') as jsonl_file:\n",
    "\n",
    "    with gzip.open(filename, 'rt') as jsonfile:\n",
    "\n",
    "        while True:\n",
    "            count += 1\n",
    "            data = [\n",
    "                json.dumps({\n",
    "                    k:v\n",
    "                    for k, v in json.loads(line.rstrip(',\\r\\n')).items()\n",
    "                    if k in ['id64', 'name', 'coords']\n",
    "                })  + '\\n'\n",
    "                for line in jsonfile.readlines(chunksize)\n",
    "                if len(line) > 4\n",
    "                \n",
    "            ]\n",
    "            system_count += len(data)\n",
    "            if data:\n",
    "                jsonl_file.writelines(data)\n",
    "            else:\n",
    "                break\n",
    "\n",
    "            sys.stdout.write(f\"\\r{count}/{est_count}\\t{100*count/est_count:3.2f}%, {int(system_count / (time.process_time() - start)):6} /s, {system_count:9} systems, {((est_count - count) * (time.process_time() - start)/count):5.1f} seconds remaining\")\n",
    "\n",
    "tpl = (time.process_time() - start)/system_count\n",
    "sys.stdout.write(f\"\\n{ (time.process_time() - start)} seconds {system_count} systems, per system {round(1000000*tpl,2)} us\")\n",
    "\n"
   ]
  },
  {
   "cell_type": "markdown",
   "metadata": {},
   "source": [
    "## Import data into a local database\n",
    "### Drop & Create systems table"
   ]
  },
  {
   "cell_type": "code",
   "execution_count": 3,
   "metadata": {},
   "outputs": [],
   "source": [
    "# deleting the file is a lot faster ...\n",
    "with sqlite3.connect('./data/ed.db') as connection:\n",
    "\n",
    "    connection.execute(f\"\"\"\n",
    "    DROP TABLE IF EXISTS systems;\n",
    "\"\"\")\n"
   ]
  },
  {
   "cell_type": "markdown",
   "metadata": {},
   "source": [
    "### Create systems table"
   ]
  },
  {
   "cell_type": "code",
   "execution_count": 4,
   "metadata": {},
   "outputs": [],
   "source": [
    "\n",
    "with sqlite3.connect('./data/ed.db') as connection:\n",
    "\n",
    "    connection.execute(f\"\"\"\n",
    "    CREATE TABLE IF NOT EXISTS systems (\n",
    "        name text NOT NULL,\n",
    "        x DOUBLE PRECISION,\n",
    "        y DOUBLE PRECISION,\n",
    "        z DOUBLE PRECISION\n",
    "    );\n",
    "\"\"\")\n"
   ]
  },
  {
   "cell_type": "markdown",
   "metadata": {},
   "source": [
    "### Import main systems data file"
   ]
  },
  {
   "cell_type": "code",
   "execution_count": 5,
   "metadata": {},
   "outputs": [
    {
     "name": "stdout",
     "output_type": "stream",
     "text": [
      "Reading ./data/systemsWithCoordinates.json.gz, 2631.1 Mb in approx 329 chunks\n",
      "173/181\t95.58%,  81896 /s,  74498982 systems,  42.1 seconds remaining\n",
      "1376.13787072 seconds 74498982 systems, per system 18.47 us"
     ]
    },
    {
     "data": {
      "text/plain": [
       "60"
      ]
     },
     "execution_count": 5,
     "metadata": {},
     "output_type": "execute_result"
    }
   ],
   "source": [
    "#filename = './data/galaxy_7days.json.gz'\n",
    "#filename = './data/systemsWithCoordinates7days.json.gz'\n",
    "est_system_count, filename = 7.8e7, './data/systemsWithCoordinates.json.gz'\n",
    "assert '.gz' in filename\n",
    "from functools import reduce\n",
    "filesize=Path(filename).stat().st_size\n",
    "chunksize = 64 * 1024 * 1024\n",
    "est_count = int(8*filesize/chunksize) + 1\n",
    "\n",
    "print(f\"Reading {filename}, {round(filesize/(1024*1024),1)} Mb in approx {est_count} chunks\")\n",
    "data=[]\n",
    "count = 0\n",
    "system_count = 0\n",
    "item = None\n",
    "line = ''\n",
    "start = time.process_time()\n",
    "\n",
    "def extract_system(line):\n",
    "    d = json.loads(line.rstrip(',\\r\\n'))\n",
    "    return d['name'], *d['coords'].values()\n",
    "\n",
    "#try:\n",
    "with sqlite3.connect('./data/ed.db') as connection:\n",
    "\n",
    "    connection.execute(f\"\"\"\n",
    "        DROP INDEX IF EXISTS systems_x_idx;\n",
    "    \"\"\")\n",
    "    connection.execute(f\"\"\"\n",
    "        DROP INDEX IF EXISTS systems_y_idx;\n",
    "    \"\"\")    \n",
    "    connection.execute(f\"\"\"\n",
    "        DROP INDEX IF EXISTS systems_z_idx; \n",
    "    \"\"\")\n",
    "\n",
    "    connection.execute(f\"\"\"\n",
    "        DROP INDEX IF EXISTS systems_name_idx; \n",
    "    \"\"\")\n",
    "    with gzip.open(filename, 'rt') as jsonfile:\n",
    "\n",
    "        while True:\n",
    "            count += 1\n",
    "            data = [\n",
    "                extract_system(line)\n",
    "                for line in jsonfile.readlines(chunksize)\n",
    "                if len(line) > 4\n",
    "                \n",
    "            ]\n",
    "            system_count += len(data)\n",
    "            est_count = round(est_system_count / (system_count/count))\n",
    "            sys.stdout.write(f\"\\r{count}/{est_count}\\t{100*count/est_count:3.2f}%, {int(system_count / (time.process_time() - start)):6} /s, {system_count:9} systems, {((est_count - count) * (time.process_time() - start)/count):5.1f} seconds remaining\")\n",
    "\n",
    "            \n",
    "            if data:\n",
    "                connection.executemany(f\"\"\"\n",
    "                    INSERT INTO systems\n",
    "                    VALUES (?,?,?,?)\n",
    "                \"\"\", data)\n",
    "                continue\n",
    "\n",
    "            break\n",
    "\n",
    "    connection.execute(f\"\"\"\n",
    "        CREATE INDEX IF NOT EXISTS systems_x_idx ON systems (x);\n",
    "    \"\"\")\n",
    "    connection.execute(f\"\"\"\n",
    "        CREATE INDEX IF NOT EXISTS systems_y_idx ON systems (y);\n",
    "    \"\"\")    \n",
    "    connection.execute(f\"\"\"\n",
    "        CREATE INDEX IF NOT EXISTS systems_z_idx ON systems (z); \n",
    "    \"\"\")\n",
    "\n",
    "tpl = (time.process_time() - start)/system_count\n",
    "sys.stdout.write(f\"\\n{ (time.process_time() - start)} seconds {system_count} systems, per system {round(1000000*tpl,2)} us\")\n",
    "\n"
   ]
  },
  {
   "cell_type": "markdown",
   "metadata": {},
   "source": [
    "#### Setup indexes\n",
    "##### index name"
   ]
  },
  {
   "cell_type": "code",
   "execution_count": 6,
   "metadata": {},
   "outputs": [],
   "source": [
    "with sqlite3.connect('./data/ed.db') as connection:\n",
    "    connection.execute(f\"\"\"\n",
    "        CREATE INDEX IF NOT EXISTS systems_name_idx ON systems (name);\n",
    "    \"\"\")\n"
   ]
  },
  {
   "cell_type": "code",
   "execution_count": 7,
   "metadata": {},
   "outputs": [],
   "source": [
    "\n",
    "with sqlite3.connect('./data/ed.db') as connection:\n",
    " \n",
    "    connection.execute(\"\"\"\n",
    "    DELETE FROM systems as a\n",
    "    WHERE   a.rowid <> (SELECT min(b.rowid)\n",
    "                     FROM   systems as b\n",
    "                     WHERE  a.name = b.name );\"\"\"\n",
    "    )\n",
    "    \n"
   ]
  },
  {
   "cell_type": "code",
   "execution_count": 8,
   "metadata": {},
   "outputs": [],
   "source": [
    "with sqlite3.connect('./data/ed.db') as connection:\n",
    "\n",
    "    connection.execute(f\"\"\"\n",
    "        DROP INDEX IF EXISTS systems_name_idx; \n",
    "    \"\"\")\n",
    "\n",
    "    connection.execute(f\"\"\"\n",
    "        CREATE UNIQUE INDEX systems_name_idx ON systems (name); \n",
    "    \"\"\")\n"
   ]
  },
  {
   "cell_type": "markdown",
   "metadata": {},
   "source": [
    "##### index coordinates"
   ]
  },
  {
   "cell_type": "code",
   "execution_count": 9,
   "metadata": {},
   "outputs": [],
   "source": [
    "\n",
    "with sqlite3.connect('./data/ed.db') as connection:\n",
    "\n",
    "    connection.execute(f\"\"\"\n",
    "        CREATE INDEX IF NOT EXISTS systems_x_idx ON systems (x);\n",
    "    \"\"\")\n",
    "    connection.execute(f\"\"\"\n",
    "        CREATE INDEX IF NOT EXISTS systems_y_idx ON systems (y);\n",
    "    \"\"\")    \n",
    "    connection.execute(f\"\"\"\n",
    "        CREATE INDEX IF NOT EXISTS systems_z_idx ON systems (z); \n",
    "    \"\"\")"
   ]
  },
  {
   "cell_type": "code",
   "execution_count": 74,
   "metadata": {},
   "outputs": [],
   "source": [
    "\n",
    "\n",
    "with sqlite3.connect('./data/ed.db') as connection:\n",
    "\n",
    "    connection.execute(f\"\"\"\n",
    "        DROP INDEX IF EXISTS systems_x_idx;\n",
    "    \"\"\")\n",
    "    connection.execute(f\"\"\"\n",
    "        DROP INDEX IF EXISTS systems_y_idx;\n",
    "    \"\"\")    \n",
    "    connection.execute(f\"\"\"\n",
    "        DROP INDEX IF EXISTS systems_z_idx; \n",
    "    \"\"\")"
   ]
  },
  {
   "cell_type": "code",
   "execution_count": null,
   "metadata": {},
   "outputs": [],
   "source": [
    "result = None\n",
    "with sqlite3.connect('./data/ed.db') as connection:\n"
   ]
  },
  {
   "cell_type": "markdown",
   "metadata": {},
   "source": [
    "# Routing"
   ]
  },
  {
   "cell_type": "code",
   "execution_count": null,
   "metadata": {},
   "outputs": [],
   "source": [
    "importlib.reload(edsm_api)\n",
    "from edcompanion.edsm_api import get_edsm_info\n",
    "\n",
    "async with aiohttp.ClientSession() as session:\n",
    "    async with session.get('https://edastro.com/gec/json/all') as req:\n",
    "        _edastro_poi = await req.json()\n",
    "        edastro_poi = {\n",
    "            item.get('galMapSearch'):{\n",
    "                c:item.get(k)\n",
    "                for c,k in zip(['coordinates','name','region','type','summary'], ['coordinates','name','region','type','summary'])\n",
    "            }\n",
    "            for item in _edastro_poi\n",
    "        }"
   ]
  },
  {
   "cell_type": "code",
   "execution_count": 38,
   "metadata": {},
   "outputs": [
    {
     "data": {
      "text/plain": [
       "'qmark'"
      ]
     },
     "execution_count": 38,
     "metadata": {},
     "output_type": "execute_result"
    }
   ],
   "source": [
    "sqlite3.paramstyle"
   ]
  },
  {
   "cell_type": "code",
   "execution_count": 57,
   "metadata": {},
   "outputs": [],
   "source": [
    "\n",
    "def find_system(system, distance=40):\n",
    "\n",
    "    if isinstance(system, str):\n",
    "        return connection.execute(\n",
    "            \"\"\"\n",
    "                SELECT s.*, 0 as distance\n",
    "                FROM systems s\n",
    "                where s.name = ?\n",
    "            \"\"\", (system,)).fetchone()\n",
    "\n",
    "    assert len(system) == 3\n",
    "    coordinates = system\n",
    "    c20_location = [int(20*math.floor(v/20)) for v in coordinates]\n",
    "    side = int(20*math.floor(distance/20))\n",
    "    q1 = connection.execute(\n",
    "        \"SELECT systems.*, sqrt((x-?)*(x-?) + (y-?)*(y-?) + (z-?)*(z-?)) as distance \"+\n",
    "        \"FROM systems \"+\n",
    "        \"WHERE x>=? AND x<? AND  y>=? AND y<?  AND  z>=? AND z<?  AND sqrt((x-?)*(x-?) + (y-?)*(y-?) + (z-?)*(z-?)) < ?\"+\n",
    "        \"ORDER BY distance\", (\n",
    "            *[c for p in zip(coordinates, coordinates) for c in p], # for calculated distance in select\n",
    "            *[d for c in coordinates for d in [c-40, c+40]], \n",
    "            *[c for p in zip(coordinates, coordinates) for c in p], # cube and coordinates\n",
    "            distance\n",
    "        ))\n",
    "    if not q1.rowcount > 0:\n",
    "        return q1.fetchone()\n",
    "    return find_system(q1[0].get(\"name\"))\n"
   ]
  },
  {
   "cell_type": "code",
   "execution_count": 58,
   "metadata": {},
   "outputs": [
    {
     "data": {
      "text/plain": [
       "('Ix', -65.21875, 7.75, -111.03125, 0)"
      ]
     },
     "execution_count": 58,
     "metadata": {},
     "output_type": "execute_result"
    }
   ],
   "source": [
    "find_system('Ix')"
   ]
  },
  {
   "cell_type": "code",
   "execution_count": 59,
   "metadata": {},
   "outputs": [
    {
     "data": {
      "text/plain": [
       "('Ix', -65.21875, 7.75, -111.03125, 0.0)"
      ]
     },
     "execution_count": 59,
     "metadata": {},
     "output_type": "execute_result"
    }
   ],
   "source": [
    "find_system([-65.21875, 7.75, -111.03125])"
   ]
  },
  {
   "cell_type": "code",
   "execution_count": null,
   "metadata": {},
   "outputs": [],
   "source": []
  },
  {
   "cell_type": "code",
   "execution_count": null,
   "id": "ca268726-691d-429b-bc9c-9e1fe308be4c",
   "metadata": {},
   "outputs": [],
   "source": [
    "targetsystems = {L.split('\\t')[0].replace('#','DRMG'):L.split('\\t')[1].split('(')[0].strip() for L in '''\n",
    "#1\tHIP 117029\t\t\n",
    "0.00%\n",
    "0.00%\n",
    "#2\tDrojia YW-B d13-4\t4,377.94 ly\t\n",
    "0.00%\n",
    "0.00%\n",
    "#3\tLysooh WT-R b7-0 (Halley's World)\t7,658.41 ly\t\n",
    "0.00%\n",
    "0.00%\n",
    "#4\tPlaa Ain FF-Z d76 (Rekohu Project)\t10,162.39 ly\t\n",
    "0.00%\n",
    "0.00%\n",
    "#5\tBlaa Hypai LA-J c11-3\t13,299.43 ly\t\n",
    "0.00%\n",
    "0.00%\n",
    "#6\tFloawns XE-R d4-45 (The Three Kings)\t15,978.96 ly\t\n",
    "0.00%\n",
    "0.00%\n",
    "#7\tMynoaw LC-L d8-1429\t21,214.37 ly\t\n",
    "0.00%\n",
    "0.00%\n",
    "#8\tEgnairs AA-A h72 (Mairon)\t26,508.32 ly\t\n",
    "0.00%\n",
    "0.00%\n",
    "#9\tHypiae Aurb AA-A g588 (Planet Pancake)\t29,889.18 ly\t\n",
    "0.00%\n",
    "0.00%\n",
    "#10\tJuenae XZ-G d10-651 (Red River Run)\t34,771.56 ly\t\n",
    "0.00%\n",
    "0.00%\n",
    "#11\tSagittarius A*\t36,288.63 ly\t\n",
    "0.00%\n",
    "0.00%\n",
    "#12\tHypio Proo VE-Q e5-1485\t38,824.33 ly\t\n",
    "0.00%\n",
    "0.00%\n",
    "#13\tPho Aoscs OS-U f2-26 (Black Fields)\t43,891.03 ly\t\n",
    "0.00%\n",
    "0.00%\n",
    "#14\tAthaip WR-H d11-7577\t48,599.27 ly\t\n",
    "0.00%\n",
    "0.00%\n",
    "#15\tDryau Scraa AA-A h747 (The Shiner)\t54,319.41 ly\t\n",
    "0.00%\n",
    "0.00%\n",
    "#16\tChroabs TI-S d4-58 (Goliath)\t58,392.41 ly\t\n",
    "0.00%\n",
    "0.00%\n",
    "#17\tEllairb SJ-B b42-10 (Lair of Unicorns)\t63,416.44 ly\t\n",
    "0.00%\n",
    "0.00%\n",
    "#18\tPlaa Aescs BK-Q d5-60\t66,359.12 ly\t\n",
    "0.00%\n",
    "0.00%\n",
    "#19\tBleia Dryiae XJ-R e4-1\t69,286.00 ly\t\n",
    "0.00%\n",
    "0.00%\n",
    "#20\tKaititja\t74,359.19 ly\t\n",
    "0.00%\n",
    "0.00%\n",
    "'''.splitlines() if '#' in L}"
   ]
  },
  {
   "cell_type": "code",
   "execution_count": null,
   "id": "635ceaa2-731c-4e64-8314-73ae196f3bd3",
   "metadata": {},
   "outputs": [],
   "source": [
    "## interesting systems\n",
    "targetsystems.update(dict(\n",
    "    sol='Sol',\n",
    "    ix='Ix',\n",
    "    proto_1='Dehoae HH-U e3-14',\n",
    "    guardian_fsd1='HD 63154',\n",
    "    guardian_fsd2='Synuefe PX-J c25-8',\n",
    "    mel_brandon='Luchtaine',\n",
    "    marsha_hicks='Tir',\n",
    "    # Verruckte POI\n",
    "    three_dwarfs='Drojia YW-B d13-4',\n",
    "    eye_of_fatima='Drojaea DG-E d12-4',\n",
    "    gravi_nightmare='Drojia XK-D c26-0',\n",
    "    # Events\n",
    "    hip22460='HIP 22460',\n",
    "    running_man='HIP 23759',\n",
    "    fc_hip22460='Pleiades Sector CW-U b3-2',\n",
    "    uia_3='Synuefai XI-F c2', #[-243,-170,-1033],\n",
    "    # Asteroid & deep space bases\n",
    "    witch_science='HIP 23759',\n",
    "    orion_tourist='PMD2009 48',\n",
    "    medusa='Crescent Sector GW-W c1-8',\n",
    "    anchorage='Rohini',\n",
    "    new_growth='Pencil Sector EL-Y d5',\n",
    "    # Nebula / POI\n",
    "    scorch_red_moon='Blue Hypooe VV-A c2-12',\n",
    "    cygnus_x1='V1357 Cygni',\n",
    "    elephant='IC 1396 Sector QI-S d4-9',\n",
    "    ngc7026='Csi+47-21046',\n",
    "    ngc7354='Csi+61-22385',\n",
    "    heartsoul='Hypoae Ain MO-I d9-37',\n",
    "    siteseeing_01='Phua Bre FB-O e6-257',\n",
    "    thors_eye=\"Thor's Eye\",\n",
    "    sagitarius_a='Sagittarius A*',\n",
    "    annihilator='Great Annihilator',\n",
    "    four_of_a_kind='Dryao Phylio AA-A h410',\n",
    "    witch_head='Witch Head Sector BQ-Y d14',\n",
    "    amundsen='Lyed YJ-I d9-0',\n",
    "    five_eyes='Phrio Phoea AA-A h12',\n",
    "    statue_liberty='Statue of Liberty Sector DL-Y d27',\n",
    "    # Carriers\n",
    "    artemis='Synuefuae CM-J d10-42',\n",
    "    gorgon='NGC 7822 Sector BQ-Y d12',\n",
    "    rocksteady='Prooe Hypue FH-U e3-2',\n",
    "    paradox='Prai Hypoo TX-B d4', # carrier\n",
    "    inverness='Thraikoo PS-U e2-4',       # carrier\n",
    "    maerzenbecher='Hedgo GL-P c5-4',      # carrier\n",
    "    fuelmoon='Hypo Aeb WK-H b51-0',\n",
    "    brazillian='Graesms CW-E d11-2',\n",
    "    sanctuary='Syreadiae JX-F c0',        # carrier\n",
    "    ngc281='BD+55 191',\n",
    "    farsight='Heart Sector IR-V b2-0',\n",
    "    minbari=\"Eor Aescs UP-N c20-0\",\n",
    "    traikeou='Traikeou WL-I c11-1',\n",
    "    nearby_station='Prielo TZ-G d10-4',\n",
    "    # Voyager journey\n",
    "    caretaker='Byoo Briae TJ-G c24-0',\n",
    "))"
   ]
  },
  {
   "cell_type": "markdown",
   "metadata": {},
   "source": [
    "### Verruckte Reise"
   ]
  },
  {
   "cell_type": "code",
   "execution_count": 12,
   "metadata": {},
   "outputs": [],
   "source": [
    "vri = 0"
   ]
  },
  {
   "cell_type": "code",
   "execution_count": 13,
   "id": "7e180cc3-7c3d-43a5-b6b0-e3a0efdec830",
   "metadata": {
    "tags": []
   },
   "outputs": [
    {
     "ename": "NameError",
     "evalue": "name 'targetsystems' is not defined",
     "output_type": "error",
     "traceback": [
      "\u001b[0;31m---------------------------------------------------------------------------\u001b[0m",
      "\u001b[0;31mNameError\u001b[0m                                 Traceback (most recent call last)",
      "\u001b[0;32m/tmp/ipykernel_21129/4040277774.py\u001b[0m in \u001b[0;36m<cell line: 2>\u001b[0;34m()\u001b[0m\n\u001b[1;32m      1\u001b[0m \u001b[0mvri\u001b[0m\u001b[0;34m+=\u001b[0m\u001b[0;36m1\u001b[0m\u001b[0;34m\u001b[0m\u001b[0;34m\u001b[0m\u001b[0m\n\u001b[0;32m----> 2\u001b[0;31m \u001b[0msystem_name\u001b[0m \u001b[0;34m=\u001b[0m \u001b[0mtargetsystems\u001b[0m\u001b[0;34m.\u001b[0m\u001b[0mget\u001b[0m\u001b[0;34m(\u001b[0m\u001b[0;34mf'DRMG{vri}'\u001b[0m\u001b[0;34m)\u001b[0m\u001b[0;34m\u001b[0m\u001b[0;34m\u001b[0m\u001b[0m\n\u001b[0m\u001b[1;32m      3\u001b[0m \u001b[0mstart_system\u001b[0m \u001b[0;34m=\u001b[0m \u001b[0;32mawait\u001b[0m \u001b[0mfind_system\u001b[0m\u001b[0;34m(\u001b[0m\u001b[0mtargetsystems\u001b[0m\u001b[0;34m.\u001b[0m\u001b[0mget\u001b[0m\u001b[0;34m(\u001b[0m\u001b[0;34mf'DRMG{vri}'\u001b[0m\u001b[0;34m)\u001b[0m\u001b[0;34m)\u001b[0m\u001b[0;34m\u001b[0m\u001b[0;34m\u001b[0m\u001b[0m\n\u001b[1;32m      4\u001b[0m \u001b[0mtarget_system\u001b[0m \u001b[0;34m=\u001b[0m \u001b[0;32mawait\u001b[0m \u001b[0mfind_system\u001b[0m\u001b[0;34m(\u001b[0m\u001b[0mtargetsystems\u001b[0m\u001b[0;34m.\u001b[0m\u001b[0mget\u001b[0m\u001b[0;34m(\u001b[0m\u001b[0;34mf'DRMG{vri+1}'\u001b[0m\u001b[0;34m)\u001b[0m\u001b[0;34m)\u001b[0m\u001b[0;34m\u001b[0m\u001b[0;34m\u001b[0m\u001b[0m\n\u001b[1;32m      5\u001b[0m \u001b[0mend\u001b[0m \u001b[0;34m=\u001b[0m \u001b[0mnp\u001b[0m\u001b[0;34m.\u001b[0m\u001b[0mround\u001b[0m\u001b[0;34m(\u001b[0m\u001b[0mnp\u001b[0m\u001b[0;34m.\u001b[0m\u001b[0masarray\u001b[0m\u001b[0;34m(\u001b[0m\u001b[0;34m[\u001b[0m\u001b[0mtarget_system\u001b[0m\u001b[0;34m.\u001b[0m\u001b[0mget\u001b[0m\u001b[0;34m(\u001b[0m\u001b[0mk\u001b[0m\u001b[0;34m)\u001b[0m \u001b[0;32mfor\u001b[0m \u001b[0mk\u001b[0m \u001b[0;32min\u001b[0m \u001b[0;34m[\u001b[0m\u001b[0;34m\"x\"\u001b[0m\u001b[0;34m,\u001b[0m\u001b[0;34m\"y\"\u001b[0m\u001b[0;34m,\u001b[0m\u001b[0;34m\"z\"\u001b[0m\u001b[0;34m]\u001b[0m\u001b[0;34m]\u001b[0m\u001b[0;34m)\u001b[0m\u001b[0;34m)\u001b[0m\u001b[0;34m\u001b[0m\u001b[0;34m\u001b[0m\u001b[0m\n",
      "\u001b[0;31mNameError\u001b[0m: name 'targetsystems' is not defined"
     ]
    }
   ],
   "source": [
    "vri+=1\n",
    "system_name = targetsystems.get(f'DRMG{vri}')\n",
    "start_system = await find_system(targetsystems.get(f'DRMG{vri}'))\n",
    "target_system = await find_system(targetsystems.get(f'DRMG{vri+1}'))\n",
    "end = np.round(np.asarray([target_system.get(k) for k in [\"x\",\"y\",\"z\"]]))\n",
    "print(start_system)\n",
    "print(target_system)\n"
   ]
  },
  {
   "cell_type": "code",
   "execution_count": null,
   "metadata": {},
   "outputs": [],
   "source": []
  },
  {
   "cell_type": "code",
   "execution_count": null,
   "metadata": {},
   "outputs": [],
   "source": []
  },
  {
   "cell_type": "markdown",
   "metadata": {},
   "source": [
    "#### Startpoints"
   ]
  },
  {
   "cell_type": "code",
   "execution_count": 11,
   "metadata": {},
   "outputs": [
    {
     "ename": "FileNotFoundError",
     "evalue": "[Errno 2] No such file or directory: '/Users/fenke/Saved Games/Frontier Developments/Elite Dangerous'",
     "output_type": "error",
     "traceback": [
      "\u001b[0;31m---------------------------------------------------------------------------\u001b[0m",
      "\u001b[0;31mFileNotFoundError\u001b[0m                         Traceback (most recent call last)",
      "\u001b[0;32m/tmp/ipykernel_21129/3279474546.py\u001b[0m in \u001b[0;36m<cell line: 2>\u001b[0;34m()\u001b[0m\n\u001b[1;32m      1\u001b[0m \u001b[0msystem_name\u001b[0m \u001b[0;34m=\u001b[0m \u001b[0;32mNone\u001b[0m\u001b[0;34m\u001b[0m\u001b[0;34m\u001b[0m\u001b[0m\n\u001b[0;32m----> 2\u001b[0;31m \u001b[0;32mfor\u001b[0m \u001b[0mevent\u001b[0m \u001b[0;32min\u001b[0m \u001b[0medc_track_journal\u001b[0m\u001b[0;34m(\u001b[0m\u001b[0mlogpath\u001b[0m\u001b[0;34m)\u001b[0m\u001b[0;34m:\u001b[0m\u001b[0;34m\u001b[0m\u001b[0;34m\u001b[0m\u001b[0m\n\u001b[0m\u001b[1;32m      3\u001b[0m     \u001b[0meventname\u001b[0m \u001b[0;34m=\u001b[0m \u001b[0mevent\u001b[0m\u001b[0;34m.\u001b[0m\u001b[0mpop\u001b[0m\u001b[0;34m(\u001b[0m\u001b[0;34m'name'\u001b[0m\u001b[0;34m)\u001b[0m\u001b[0;34m\u001b[0m\u001b[0;34m\u001b[0m\u001b[0m\n\u001b[1;32m      4\u001b[0m     \u001b[0;32mif\u001b[0m \u001b[0meventname\u001b[0m \u001b[0;34m==\u001b[0m \u001b[0;34m'Location'\u001b[0m \u001b[0;32mor\u001b[0m \u001b[0meventname\u001b[0m \u001b[0;34m==\u001b[0m \u001b[0;34m'FSDJump'\u001b[0m\u001b[0;34m:\u001b[0m\u001b[0;34m\u001b[0m\u001b[0;34m\u001b[0m\u001b[0m\n\u001b[1;32m      5\u001b[0m         \u001b[0msystem_name\u001b[0m \u001b[0;34m=\u001b[0m \u001b[0mevent\u001b[0m\u001b[0;34m.\u001b[0m\u001b[0mget\u001b[0m\u001b[0;34m(\u001b[0m\u001b[0;34m'Starsystem'\u001b[0m\u001b[0;34m)\u001b[0m\u001b[0;34m\u001b[0m\u001b[0;34m\u001b[0m\u001b[0m\n",
      "\u001b[0;32m~/repos/EDCompanion/edcompanion/events.py\u001b[0m in \u001b[0;36medc_track_journal\u001b[0;34m(journalpath, backlog)\u001b[0m\n\u001b[1;32m     24\u001b[0m         \u001b[0;31m#logfiles = sorted(glob.glob(os.path.join(journalpath, journalglob)))\u001b[0m\u001b[0;34m\u001b[0m\u001b[0;34m\u001b[0m\u001b[0;34m\u001b[0m\u001b[0m\n\u001b[1;32m     25\u001b[0m         logfiles = sorted(\n\u001b[0;32m---> 26\u001b[0;31m             \u001b[0;34m[\u001b[0m\u001b[0mos\u001b[0m\u001b[0;34m.\u001b[0m\u001b[0mpath\u001b[0m\u001b[0;34m.\u001b[0m\u001b[0mjoin\u001b[0m\u001b[0;34m(\u001b[0m\u001b[0mjournalpath\u001b[0m\u001b[0;34m,\u001b[0m \u001b[0mf\u001b[0m\u001b[0;34m)\u001b[0m \u001b[0;32mfor\u001b[0m \u001b[0mf\u001b[0m \u001b[0;32min\u001b[0m \u001b[0mos\u001b[0m\u001b[0;34m.\u001b[0m\u001b[0mlistdir\u001b[0m\u001b[0;34m(\u001b[0m\u001b[0mjournalpath\u001b[0m\u001b[0;34m)\u001b[0m \u001b[0;32mif\u001b[0m \u001b[0;34m'Journal'\u001b[0m \u001b[0;32min\u001b[0m \u001b[0mf\u001b[0m\u001b[0;34m.\u001b[0m\u001b[0msplit\u001b[0m\u001b[0;34m(\u001b[0m\u001b[0;34m'.'\u001b[0m\u001b[0;34m)\u001b[0m\u001b[0;34m[\u001b[0m\u001b[0;36m0\u001b[0m\u001b[0;34m]\u001b[0m \u001b[0;32mand\u001b[0m \u001b[0;34m'.log'\u001b[0m \u001b[0;32min\u001b[0m \u001b[0mf\u001b[0m\u001b[0;34m]\u001b[0m\u001b[0;34m,\u001b[0m\u001b[0;34m\u001b[0m\u001b[0;34m\u001b[0m\u001b[0m\n\u001b[0m\u001b[1;32m     27\u001b[0m             \u001b[0mkey\u001b[0m\u001b[0;34m=\u001b[0m\u001b[0;32mlambda\u001b[0m \u001b[0mf\u001b[0m\u001b[0;34m:\u001b[0m\u001b[0mf\u001b[0m\u001b[0;34m.\u001b[0m\u001b[0mreplace\u001b[0m\u001b[0;34m(\u001b[0m\u001b[0;34m'-'\u001b[0m\u001b[0;34m,\u001b[0m \u001b[0;34m''\u001b[0m\u001b[0;34m)\u001b[0m\u001b[0;34m.\u001b[0m\u001b[0mreplace\u001b[0m\u001b[0;34m(\u001b[0m\u001b[0;34m'Journal.20'\u001b[0m\u001b[0;34m,\u001b[0m \u001b[0;34m'Journal.'\u001b[0m\u001b[0;34m)\u001b[0m\u001b[0;34m.\u001b[0m\u001b[0mreplace\u001b[0m\u001b[0;34m(\u001b[0m\u001b[0;34m'T'\u001b[0m\u001b[0;34m,\u001b[0m\u001b[0;34m''\u001b[0m\u001b[0;34m)\u001b[0m\u001b[0;34m\u001b[0m\u001b[0;34m\u001b[0m\u001b[0m\n\u001b[1;32m     28\u001b[0m         )\n",
      "\u001b[0;31mFileNotFoundError\u001b[0m: [Errno 2] No such file or directory: '/Users/fenke/Saved Games/Frontier Developments/Elite Dangerous'"
     ]
    }
   ],
   "source": [
    "system_name = None\n",
    "for event in edc_track_journal(logpath):\n",
    "    eventname = event.pop('name')\n",
    "    if eventname == 'Location' or eventname == 'FSDJump':\n",
    "        system_name = event.get('Starsystem')\n",
    "        \n",
    "# Set starting point vars and initialize route & path vars\n",
    "start_system = await find_system(system_name)"
   ]
  },
  {
   "cell_type": "code",
   "execution_count": null,
   "metadata": {},
   "outputs": [],
   "source": []
  }
 ],
 "metadata": {
  "kernelspec": {
   "display_name": "Python 3.8.13 ('jupyter-base')",
   "language": "python",
   "name": "python3"
  },
  "language_info": {
   "codemirror_mode": {
    "name": "ipython",
    "version": 3
   },
   "file_extension": ".py",
   "mimetype": "text/x-python",
   "name": "python",
   "nbconvert_exporter": "python",
   "pygments_lexer": "ipython3",
   "version": "3.8.13"
  },
  "orig_nbformat": 4,
  "vscode": {
   "interpreter": {
    "hash": "3d4373fa7b62889d9673bd116a9246af9054ae6a622c061e5c459a2e3d26194f"
   }
  }
 },
 "nbformat": 4,
 "nbformat_minor": 2
}
