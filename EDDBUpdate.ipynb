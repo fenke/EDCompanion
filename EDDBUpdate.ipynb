{
 "cells": [
  {
   "cell_type": "code",
   "execution_count": null,
   "metadata": {},
   "outputs": [],
   "source": []
  },
  {
   "cell_type": "code",
   "execution_count": 1,
   "metadata": {},
   "outputs": [],
   "source": [
    "import os, sys, json\n",
    "import itertools, importlib\n",
    "import asyncpg, asyncio, threading\n",
    "\n",
    "from edcompanion.eddbreader import edc_dbfilereader, edc_dbfile_process"
   ]
  },
  {
   "cell_type": "code",
   "execution_count": 2,
   "metadata": {},
   "outputs": [],
   "source": [
    "pgsql_params = dict(\n",
    "    dsn=os.getenv(\"PGSQL_URL\"),\n",
    "    server_settings={'search_path': \"eddb\"}\n",
    ")\n",
    "pgpool = await asyncpg.create_pool(**pgsql_params)"
   ]
  },
  {
   "cell_type": "code",
   "execution_count": 3,
   "metadata": {
    "metadata": {}
   },
   "outputs": [],
   "source": [
    "dbname_full = 'systems.json.gz'\n",
    "dbname_1day = 'systems_1day.json.gz'\n",
    "dbname_1week = 'systems_1week.json.gz'\n",
    "dbname_2week = 'systems_2weeks.json.gz'\n",
    "dbname_1month = 'systems_1month.json.gz'\n",
    "dbname_6months = 'systems_6months.json.gz'"
   ]
  },
  {
   "cell_type": "code",
   "execution_count": 4,
   "metadata": {
    "metadata": {}
   },
   "outputs": [
    {
     "name": "stdout",
     "output_type": "stream",
     "text": [
      "Reading data/systems_1day.json.gz, 2.5 Mb in approx 1 chunks\n",
      "1/1\t100.00%, 246608 /s,     76758 systems,   0.0 seconds remaining\n",
      "Empty chunk -> Done! Imported 76758 systems in 0.3 seconds\n",
      "\n",
      "0.31387112399999995 seconds 76758 systems, per system 4.09 us"
     ]
    },
    {
     "data": {
      "text/plain": [
       "{'id64': 2326687,\n",
       " 'name': 'HD 192281',\n",
       " 'mainStar': 'O (Blue-White) Star',\n",
       " 'coords': {'x': -4023.53125, 'y': 230.875, 'z': 896.46875},\n",
       " 'updateTime': '2024-04-13 21:57:30+00'}"
      ]
     },
     "execution_count": 4,
     "metadata": {},
     "output_type": "execute_result"
    }
   ],
   "source": [
    "dataset = []\n",
    "for item in edc_dbfilereader(os.path.join('data', dbname_1day)):\n",
    "    dataset.append(item)\n",
    "dataset[0]"
   ]
  },
  {
   "cell_type": "markdown",
   "metadata": {},
   "source": []
  },
  {
   "cell_type": "code",
   "execution_count": 5,
   "metadata": {},
   "outputs": [],
   "source": [
    "classifications = {s:c for s, c in zip('OBAFGKMN', range(9))}\n",
    "#print(json.dumps(classifications, indent=2))\n",
    "\n",
    "main_star_types={}\n",
    "try:\n",
    "    with open(os.path.join('data', 'clasifications.json'),'rt') as jsonfile:\n",
    "        main_star_types.update(json.load(jsonfile))\n",
    "except:\n",
    "    pass\n",
    "\n",
    "#print(json.dumps(main_star_types, indent=2))\n"
   ]
  },
  {
   "cell_type": "code",
   "execution_count": 7,
   "metadata": {},
   "outputs": [],
   "source": [
    "if len(main_star_types) < 40:\n",
    "    for item in edc_dbfilereader(os.path.join('data', dbname_2week)):\n",
    "        main_star = item.get('mainStar')\n",
    "\n",
    "        if main_star and not main_star_types.get(main_star):\n",
    "            main_star_types[main_star] = len(classifications)\n",
    "\n",
    "\n",
    "    try:\n",
    "        with open(os.path.join('data', 'main_star_types.json'),'wt') as jsonfile:\n",
    "            json.dump(main_star_types, jsonfile, indent=3)\n",
    "    except:\n",
    "        pass\n"
   ]
  },
  {
   "cell_type": "markdown",
   "metadata": {},
   "source": [
    "## Create & Build"
   ]
  },
  {
   "cell_type": "code",
   "execution_count": 8,
   "metadata": {},
   "outputs": [
    {
     "data": {
      "text/plain": [
       "'CREATE TABLE'"
      ]
     },
     "execution_count": 8,
     "metadata": {},
     "output_type": "execute_result"
    }
   ],
   "source": [
    "#await pgpool.execute(f\"DROP TABLE IF EXISTS systems;\")\n",
    "await pgpool.execute(f\"\"\"\n",
    "    CREATE TABLE IF NOT EXISTS systems (\n",
    "        id64 BIGINT NOT NULL,\n",
    "        x DOUBLE PRECISION  NOT NULL,\n",
    "        y DOUBLE PRECISION  NOT NULL,\n",
    "        z DOUBLE PRECISION  NOT NULL,\n",
    "        name TEXT NOT NULL\n",
    "    );\n",
    "\"\"\")\n"
   ]
  },
  {
   "cell_type": "code",
   "execution_count": null,
   "metadata": {},
   "outputs": [],
   "source": [
    "\n",
    "async def push_records(data):\n",
    "    return await pgpool.copy_records_to_table(\"systems\", records=data)\n",
    "\n",
    "records = []\n",
    "count=0\n",
    "for item in edc_dbfilereader(os.path.join('data', dbname_full), verbose=True):\n",
    "    \n",
    "    if not item:\n",
    "        continue\n",
    "\n",
    "    coords = item.get('coords')\n",
    "    coordinates = [coords[k] for k in ['x','y','z']]\n",
    "    records.append(\n",
    "        [item.get(\"id64\")] + coordinates + [item.get('name')] \n",
    "    )\n",
    "    count +=1\n",
    "    if count > 10000:\n",
    "        qr = await pgpool.copy_records_to_table(\"systems\", records=records)\n",
    "        records = []\n",
    "        count = 0\n",
    "\n",
    "if count > 0:\n",
    "    qr = await pgpool.copy_records_to_table(\"systems\", records=records)\n",
    "    records = []\n",
    "    count = 0\n"
   ]
  },
  {
   "cell_type": "code",
   "execution_count": null,
   "metadata": {},
   "outputs": [],
   "source": [
    "print(f\"Adding indexes ...\")\n",
    "await pgpool.execute(f\"\"\"\n",
    "    CREATE INDEX IF NOT EXISTS systems_x_idx ON systems (x);\n",
    "    CREATE INDEX IF NOT EXISTS systems_y_idx ON systems (y);\n",
    "    CREATE INDEX IF NOT EXISTS systems_z_idx ON systems (z); \n",
    "    CREATE INDEX IF NOT EXISTS systems_name_idx ON systems (name);\n",
    "\"\"\")"
   ]
  },
  {
   "cell_type": "code",
   "execution_count": null,
   "metadata": {},
   "outputs": [],
   "source": [
    "print(\"Removing duplicates by system name\")\n",
    "await pgpool.execute(\"\"\"\n",
    "    DELETE FROM systems a\n",
    "    WHERE   a.ctid <> (SELECT min(b.ctid)\n",
    "                     FROM   systems b\n",
    "                     WHERE  a.name = b.name );\"\"\"\n",
    ")"
   ]
  },
  {
   "cell_type": "code",
   "execution_count": null,
   "metadata": {},
   "outputs": [],
   "source": [
    "print(f\"Adding unique index on system name ...\")\n",
    "await pgpool.execute(f\"\"\"\n",
    "    DROP INDEX systems_name_idx ;\n",
    "    CREATE UNIQUE INDEX IF NOT EXISTS systems_name_unique ON eddb.systems (name)\n",
    "\"\"\")"
   ]
  },
  {
   "cell_type": "code",
   "execution_count": null,
   "metadata": {},
   "outputs": [],
   "source": []
  },
  {
   "cell_type": "markdown",
   "metadata": {},
   "source": [
    "## Update"
   ]
  },
  {
   "cell_type": "code",
   "execution_count": 7,
   "metadata": {
    "metadata": {}
   },
   "outputs": [
    {
     "name": "stdout",
     "output_type": "stream",
     "text": [
      "Reading data/systems_6months.json.gz, 373.2 Mb in approx 187 chunks\n",
      "123/187\t65.78%, 151658 /s,  11524891 systems,  39.5 seconds remaining\n",
      "Empty chunk -> Done! Imported 11524891 systems in 76.0 seconds\n",
      "\n",
      "75.99514195 seconds 11524891 systems, per system 6.59 us"
     ]
    }
   ],
   "source": [
    "def get_coordinates_from_item(item):\n",
    "    coords = item.get('coords')\n",
    "    return [coords[k] for k in ['x','y','z']]\n",
    "\n",
    "async def process_data(datachunk):\n",
    "\n",
    "    return await pgpool.executemany(\n",
    "            \"\"\"INSERT INTO systems (id64, x, y, z, name) \n",
    "                VALUES ($1, $2, $3, $4, $5) \n",
    "                ON CONFLICT DO NOTHING\n",
    "            \"\"\", [\n",
    "                [item.get(\"id64\")] + get_coordinates_from_item(item) + [item.get('name')] \n",
    "                for item in datachunk\n",
    "            ]\n",
    "    )\n",
    "\n",
    "await edc_dbfile_process(\n",
    "    os.path.join('data', dbname_6months),\n",
    "    process_data,\n",
    "    verbose=True\n",
    ")"
   ]
  },
  {
   "cell_type": "code",
   "execution_count": null,
   "metadata": {},
   "outputs": [],
   "source": []
  }
 ],
 "metadata": {
  "kernelspec": {
   "display_name": ".next",
   "language": "python",
   "name": "python3"
  },
  "language_info": {
   "codemirror_mode": {
    "name": "ipython",
    "version": 3
   },
   "file_extension": ".py",
   "mimetype": "text/x-python",
   "name": "python",
   "nbconvert_exporter": "python",
   "pygments_lexer": "ipython3",
   "version": "3.11.9"
  }
 },
 "nbformat": 4,
 "nbformat_minor": 2
}
