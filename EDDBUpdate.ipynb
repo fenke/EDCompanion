{
 "cells": [
  {
   "cell_type": "code",
   "execution_count": null,
   "metadata": {},
   "outputs": [],
   "source": []
  },
  {
   "cell_type": "code",
   "execution_count": 1,
   "metadata": {},
   "outputs": [],
   "source": [
    "import os, sys, json\n",
    "import itertools, importlib\n",
    "import asyncpg\n",
    "\n",
    "from edcompanion.eddbreader import edc_dbfilereader, edc_dbfile_process"
   ]
  },
  {
   "cell_type": "code",
   "execution_count": null,
   "metadata": {},
   "outputs": [],
   "source": [
    "pgsql_params = dict(\n",
    "    dsn=os.getenv(\"PGSQL_URL\"),\n",
    "    server_settings={'search_path': \"eddb\"}\n",
    ")\n",
    "pgpool = await asyncpg.create_pool(**pgsql_params)"
   ]
  },
  {
   "cell_type": "code",
   "execution_count": 2,
   "metadata": {},
   "outputs": [],
   "source": [
    "dbname_full = 'systems.json.gz'\n",
    "dbname_day = 'systems_1day.json.gz'\n",
    "dbname_week = 'systems_1week.json.gz'\n",
    "dbname_month = 'systems_1month.json.gz'"
   ]
  },
  {
   "cell_type": "code",
   "execution_count": 3,
   "metadata": {},
   "outputs": [
    {
     "name": "stdout",
     "output_type": "stream",
     "text": [
      "Reading data/systems_1day.json.gz, 2.5 Mb in approx 1 chunks\n",
      "1/1\t100.00%, 261580 /s,     76758 systems,   0.0 seconds remaining\n",
      "Empty chunk -> Done! Imported 76758 systems in 0.3 seconds\n",
      "\n",
      "0.295181999 seconds 76758 systems, per system 3.85 us"
     ]
    }
   ],
   "source": [
    "dataset = []\n",
    "for item in edc_dbfilereader(os.path.join('data', dbname_day)):\n",
    "    dataset.append(item)"
   ]
  },
  {
   "cell_type": "code",
   "execution_count": 4,
   "metadata": {},
   "outputs": [
    {
     "data": {
      "text/plain": [
       "{'id64': 2326687,\n",
       " 'name': 'HD 192281',\n",
       " 'mainStar': 'O (Blue-White) Star',\n",
       " 'coords': {'x': -4023.53125, 'y': 230.875, 'z': 896.46875},\n",
       " 'updateTime': '2024-04-13 21:57:30+00'}"
      ]
     },
     "execution_count": 4,
     "metadata": {},
     "output_type": "execute_result"
    }
   ],
   "source": [
    "dataset[0]"
   ]
  },
  {
   "cell_type": "markdown",
   "metadata": {},
   "source": []
  },
  {
   "cell_type": "code",
   "execution_count": null,
   "metadata": {},
   "outputs": [],
   "source": []
  },
  {
   "cell_type": "code",
   "execution_count": null,
   "metadata": {},
   "outputs": [],
   "source": [
    "await pgpool.execute(f\"DROP TABLE eddb.systems;\")\n",
    "await pgpool.execute(f\"\"\"\n",
    "    CREATE TABLE IF NOT EXISTS eddb.systems (\n",
    "        id64 BIGINT NOT NULL,\n",
    "        x DOUBLE PRECISION  NOT NULL,\n",
    "        y DOUBLE PRECISION  NOT NULL,\n",
    "        z DOUBLE PRECISION  NOT NULL,\n",
    "        name TEXT NOT NULL,\n",
    "        class TEXT NOT NULL\n",
    "    );\n",
    "\"\"\")\n"
   ]
  },
  {
   "cell_type": "code",
   "execution_count": null,
   "metadata": {},
   "outputs": [],
   "source": []
  }
 ],
 "metadata": {
  "kernelspec": {
   "display_name": ".next",
   "language": "python",
   "name": "python3"
  },
  "language_info": {
   "codemirror_mode": {
    "name": "ipython",
    "version": 3
   },
   "file_extension": ".py",
   "mimetype": "text/x-python",
   "name": "python",
   "nbconvert_exporter": "python",
   "pygments_lexer": "ipython3",
   "version": "3.11.8"
  }
 },
 "nbformat": 4,
 "nbformat_minor": 2
}
