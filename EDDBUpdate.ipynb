{
 "cells": [
  {
   "cell_type": "code",
   "execution_count": null,
   "metadata": {},
   "outputs": [],
   "source": []
  },
  {
   "cell_type": "code",
   "execution_count": 4,
   "metadata": {},
   "outputs": [],
   "source": [
    "import os, sys, json\n",
    "import itertools, importlib\n",
    "import asyncpg, asyncio, threading\n",
    "\n",
    "from edcompanion.eddbreader import edc_dbfilereader, edc_dbfile_process\n",
    "from edcompanion.edsm_api import get_edsm_info, distance_between_systems"
   ]
  },
  {
   "cell_type": "code",
   "execution_count": 5,
   "metadata": {},
   "outputs": [],
   "source": [
    "pgsql_params = dict(\n",
    "    dsn=os.getenv(\"PGSQL_URL\"),\n",
    "    server_settings={'search_path': \"eddb\"}\n",
    ")\n",
    "pgpool = await asyncpg.create_pool(**pgsql_params)"
   ]
  },
  {
   "cell_type": "code",
   "execution_count": 7,
   "metadata": {
    "metadata": {}
   },
   "outputs": [],
   "source": [
    "dbname_full = 'systems.json.gz'\n",
    "dbname_1day = 'systems_1day.json.gz'\n",
    "dbname_1week = 'systems_1week.json.gz'\n",
    "dbname_2week = 'systems_2weeks.json.gz'\n",
    "dbname_1month = 'systems_1month.json.gz'\n",
    "dbname_6months = 'systems_6months.json.gz'\n",
    "\n",
    "dbname_galaxy_1day = 'galaxy_1day.json.gz'"
   ]
  },
  {
   "cell_type": "code",
   "execution_count": null,
   "metadata": {
    "metadata": {}
   },
   "outputs": [],
   "source": [
    "dataset = []\n",
    "for item in edc_dbfilereader(os.path.join('data', dbname_1day)):\n",
    "    dataset.append(item)\n",
    "dataset[0]"
   ]
  },
  {
   "cell_type": "markdown",
   "metadata": {},
   "source": []
  },
  {
   "cell_type": "code",
   "execution_count": 5,
   "metadata": {},
   "outputs": [],
   "source": [
    "classifications = {s:c for s, c in zip('OBAFGKMN', range(9))}\n",
    "#print(json.dumps(classifications, indent=2))\n",
    "\n",
    "main_star_types={}\n",
    "try:\n",
    "    with open(os.path.join('data', 'clasifications.json'),'rt') as jsonfile:\n",
    "        main_star_types.update(json.load(jsonfile))\n",
    "except:\n",
    "    pass\n",
    "\n",
    "#print(json.dumps(main_star_types, indent=2))\n"
   ]
  },
  {
   "cell_type": "code",
   "execution_count": 7,
   "metadata": {},
   "outputs": [],
   "source": [
    "if len(main_star_types) < 40:\n",
    "    for item in edc_dbfilereader(os.path.join('data', dbname_2week)):\n",
    "        main_star = item.get('mainStar')\n",
    "\n",
    "        if main_star and not main_star_types.get(main_star):\n",
    "            main_star_types[main_star] = len(classifications)\n",
    "\n",
    "\n",
    "    try:\n",
    "        with open(os.path.join('data', 'main_star_types.json'),'wt') as jsonfile:\n",
    "            json.dump(main_star_types, jsonfile, indent=3)\n",
    "    except:\n",
    "        pass\n"
   ]
  },
  {
   "cell_type": "markdown",
   "metadata": {},
   "source": [
    "## Create & Build"
   ]
  },
  {
   "cell_type": "code",
   "execution_count": null,
   "metadata": {},
   "outputs": [],
   "source": [
    "#await pgpool.execute(f\"DROP TABLE IF EXISTS systems;\")\n",
    "await pgpool.execute(f\"\"\"\n",
    "    CREATE TABLE IF NOT EXISTS systems (\n",
    "        id64 BIGINT NOT NULL,\n",
    "        x DOUBLE PRECISION  NOT NULL,\n",
    "        y DOUBLE PRECISION  NOT NULL,\n",
    "        z DOUBLE PRECISION  NOT NULL,\n",
    "        name TEXT NOT NULL\n",
    "    );\n",
    "\"\"\")\n"
   ]
  },
  {
   "cell_type": "code",
   "execution_count": null,
   "metadata": {},
   "outputs": [],
   "source": [
    "\n",
    "async def push_records(data):\n",
    "    return await pgpool.copy_records_to_table(\"systems\", records=data)\n",
    "\n",
    "records = []\n",
    "count=0\n",
    "for item in edc_dbfilereader(os.path.join('data', dbname_full), verbose=True):\n",
    "    \n",
    "    if not item:\n",
    "        continue\n",
    "\n",
    "    coords = item.get('coords')\n",
    "    coordinates = [coords[k] for k in ['x','y','z']]\n",
    "    records.append(\n",
    "        [item.get(\"id64\")] + coordinates + [item.get('name')] \n",
    "    )\n",
    "    count +=1\n",
    "    if count > 10000:\n",
    "        qr = await pgpool.copy_records_to_table(\"systems\", records=records)\n",
    "        records = []\n",
    "        count = 0\n",
    "\n",
    "if count > 0:\n",
    "    qr = await pgpool.copy_records_to_table(\"systems\", records=records)\n",
    "    records = []\n",
    "    count = 0\n"
   ]
  },
  {
   "cell_type": "code",
   "execution_count": null,
   "metadata": {},
   "outputs": [],
   "source": [
    "print(f\"Adding indexes ...\")\n",
    "await pgpool.execute(f\"\"\"\n",
    "    CREATE INDEX IF NOT EXISTS systems_x_idx ON systems (x);\n",
    "    CREATE INDEX IF NOT EXISTS systems_y_idx ON systems (y);\n",
    "    CREATE INDEX IF NOT EXISTS systems_z_idx ON systems (z); \n",
    "    CREATE INDEX IF NOT EXISTS systems_name_idx ON systems (name);\n",
    "    CREATE INDEX IF NOT EXISTS systems_id64_idx ON systems (id64);\n",
    "\"\"\")"
   ]
  },
  {
   "cell_type": "code",
   "execution_count": null,
   "metadata": {},
   "outputs": [],
   "source": [
    "print(\"Removing duplicates by system name\")\n",
    "await pgpool.execute(\"\"\"\n",
    "    DELETE FROM systems a\n",
    "    WHERE   a.ctid <> (SELECT min(b.ctid)\n",
    "                     FROM   systems b\n",
    "                     WHERE  a.name = b.name );\"\"\"\n",
    ")"
   ]
  },
  {
   "cell_type": "code",
   "execution_count": null,
   "metadata": {},
   "outputs": [],
   "source": [
    "print(f\"Adding unique index on system name ...\")\n",
    "await pgpool.execute(f\"\"\"\n",
    "    DROP INDEX systems_name_idx ;\n",
    "    CREATE UNIQUE INDEX IF NOT EXISTS systems_name_unique ON eddb.systems (name)\n",
    "\"\"\")"
   ]
  },
  {
   "cell_type": "code",
   "execution_count": null,
   "metadata": {},
   "outputs": [],
   "source": [
    "print(\"Removing duplicates by system id\")\n",
    "await pgpool.execute(\"\"\"\n",
    "    DELETE FROM systems a\n",
    "    WHERE   a.ctid <> (SELECT min(b.ctid)\n",
    "                     FROM   systems b\n",
    "                     WHERE  a.id64 = b.id64 );\"\"\"\n",
    ")"
   ]
  },
  {
   "cell_type": "code",
   "execution_count": null,
   "metadata": {},
   "outputs": [],
   "source": [
    "print(f\"Adding unique index on system id ...\")\n",
    "await pgpool.execute(f\"\"\"\n",
    "    DROP INDEX systems_id64_idx ;\n",
    "    CREATE UNIQUE INDEX IF NOT EXISTS systems_id64_unique ON eddb.systems (id64)\n",
    "\"\"\")"
   ]
  },
  {
   "cell_type": "code",
   "execution_count": null,
   "metadata": {},
   "outputs": [],
   "source": []
  },
  {
   "cell_type": "markdown",
   "metadata": {},
   "source": [
    "## Update"
   ]
  },
  {
   "cell_type": "code",
   "execution_count": null,
   "metadata": {
    "metadata": {}
   },
   "outputs": [],
   "source": [
    "def get_coordinates_from_item(item):\n",
    "    coords = item.get('coords')\n",
    "    return [coords[k] for k in ['x','y','z']]\n",
    "\n",
    "async def process_data(datachunk):\n",
    "\n",
    "    return await pgpool.executemany(\n",
    "            \"\"\"INSERT INTO systems (id64, x, y, z, name) \n",
    "                VALUES ($1, $2, $3, $4, $5) \n",
    "                ON CONFLICT DO NOTHING\n",
    "            \"\"\", [\n",
    "                [item.get(\"id64\")] + get_coordinates_from_item(item) + [item.get('name')] \n",
    "                for item in datachunk\n",
    "            ]\n",
    "    )\n",
    "\n",
    "await edc_dbfile_process(\n",
    "    os.path.join('data', dbname_1month),\n",
    "    process_data,\n",
    "    verbose=True\n",
    ")"
   ]
  },
  {
   "cell_type": "code",
   "execution_count": null,
   "metadata": {},
   "outputs": [],
   "source": []
  },
  {
   "cell_type": "markdown",
   "metadata": {},
   "source": [
    "## Galaxy\n",
    "\n"
   ]
  },
  {
   "cell_type": "code",
   "execution_count": null,
   "metadata": {},
   "outputs": [],
   "source": []
  },
  {
   "cell_type": "code",
   "execution_count": null,
   "metadata": {},
   "outputs": [],
   "source": [
    "dataset = []\n",
    "for item in edc_dbfilereader(os.path.join('data', dbname_galaxy_1day)):\n",
    "    dataset.append(item)\n",
    "    if len  (dataset) > 10:\n",
    "        break\n",
    "dataset[0]"
   ]
  },
  {
   "cell_type": "code",
   "execution_count": null,
   "metadata": {},
   "outputs": [],
   "source": [
    "edsm_item = get_edsm_info('Great Annihilator', verbose=True)\n",
    "edsm_item"
   ]
  },
  {
   "cell_type": "code",
   "execution_count": null,
   "metadata": {},
   "outputs": [],
   "source": [
    "print(list(edsm_item.keys()))"
   ]
  },
  {
   "cell_type": "code",
   "execution_count": null,
   "metadata": {},
   "outputs": [],
   "source": [
    "for k in edsm_item.keys():\n",
    "    if isinstance(edsm_item[k], dict):\n",
    "        for s in edsm_item[k].keys():\n",
    "            print(k, s)\n",
    "    elif isinstance(edsm_item[k], list):\n",
    "        for i in edsm_item[k]:\n",
    "            if isinstance(i,dict):\n",
    "                print(k,list(i.keys()))\n",
    "            else:\n",
    "                print(k,len(i))\n",
    "    else:\n",
    "        print(k, '\\t', type(edsm_item[k]))"
   ]
  },
  {
   "cell_type": "code",
   "execution_count": 159,
   "metadata": {},
   "outputs": [],
   "source": [
    "ignore_keys = set(['stations', 'factions', 'thargoidWar'])\n",
    "\n",
    "def update_structure(structure,from_item):\n",
    "\n",
    "    assert isinstance(structure, set) or (isinstance(structure, dict) and  isinstance(from_item, dict)) or (isinstance(structure, list) and  isinstance(from_item, list)), f\"structure and from_item must both be dict or list but found {type(structure)} and {type(from_item)}\\n  structure:{structure}\\nfrom_item:{from_item}\"\n",
    "\n",
    "\n",
    "\n",
    "    if isinstance(structure, dict):\n",
    "\n",
    "        for k, i in from_item.items():\n",
    "            if k in ignore_keys:\n",
    "                continue\n",
    "\n",
    "            if k in structure:\n",
    "                update_structure(structure[k], i)\n",
    "\n",
    "            else:\n",
    "                if isinstance(i, dict):\n",
    "                    structure[k] = dict()\n",
    "                    update_structure(structure[k], i)\n",
    "                elif isinstance(i, list):\n",
    "                    structure[k] = list([dict(), set()])\n",
    "                    update_structure(structure[k], i)\n",
    "                else:\n",
    "                    structure[k] = set()\n",
    "                    update_structure(structure[k], i)\n",
    "\n",
    "    elif isinstance(structure, list):\n",
    "        sample_item = structure[0]\n",
    "        for item in from_item:\n",
    "\n",
    "            if isinstance(sample_item, set) or isinstance(item, dict):\n",
    "                update_structure(sample_item, item)\n",
    "\n",
    "            else:\n",
    "                sample_set = structure[1]\n",
    "                update_structure(sample_set, item)\n",
    "\n",
    "    elif isinstance((structure), set):\n",
    "        structure.add(type(from_item))\n",
    "\n",
    "    elif isinstance(from_item, str):\n",
    "        #pass\n",
    "        print(from_item)\n",
    "        #print(structure)\n"
   ]
  },
  {
   "cell_type": "code",
   "execution_count": 160,
   "metadata": {},
   "outputs": [],
   "source": [
    "teststructure = dict()\n"
   ]
  },
  {
   "cell_type": "code",
   "execution_count": 161,
   "metadata": {},
   "outputs": [],
   "source": [
    "update_structure(teststructure, edsm_item)\n"
   ]
  },
  {
   "cell_type": "code",
   "execution_count": null,
   "metadata": {},
   "outputs": [],
   "source": [
    "teststructure"
   ]
  },
  {
   "cell_type": "code",
   "execution_count": null,
   "metadata": {},
   "outputs": [],
   "source": [
    "len(dataset)"
   ]
  },
  {
   "cell_type": "code",
   "execution_count": 164,
   "metadata": {},
   "outputs": [],
   "source": [
    "for item in dataset:\n",
    "    update_structure(teststructure, item)"
   ]
  },
  {
   "cell_type": "code",
   "execution_count": null,
   "metadata": {},
   "outputs": [],
   "source": []
  },
  {
   "cell_type": "code",
   "execution_count": null,
   "metadata": {},
   "outputs": [],
   "source": [
    "teststructure"
   ]
  },
  {
   "cell_type": "code",
   "execution_count": null,
   "metadata": {},
   "outputs": [],
   "source": [
    "\n",
    "for item in edc_dbfilereader(os.path.join('data', dbname_galaxy_1day), verbose=True):\n",
    "    update_structure(teststructure, item)\n"
   ]
  },
  {
   "cell_type": "code",
   "execution_count": null,
   "metadata": {},
   "outputs": [],
   "source": []
  },
  {
   "cell_type": "code",
   "execution_count": null,
   "metadata": {},
   "outputs": [],
   "source": []
  },
  {
   "cell_type": "code",
   "execution_count": null,
   "metadata": {},
   "outputs": [],
   "source": [
    "teststructure"
   ]
  },
  {
   "cell_type": "code",
   "execution_count": null,
   "metadata": {},
   "outputs": [],
   "source": [
    "list(teststructure.keys())"
   ]
  },
  {
   "cell_type": "code",
   "execution_count": null,
   "metadata": {},
   "outputs": [],
   "source": [
    "teststructure.pop('stations')"
   ]
  },
  {
   "cell_type": "code",
   "execution_count": 174,
   "metadata": {},
   "outputs": [],
   "source": [
    "def go_through_items(iterable):\n",
    "\n",
    "    for item in iterable:\n",
    "        print(item)\n",
    "        "
   ]
  },
  {
   "cell_type": "code",
   "execution_count": null,
   "metadata": {},
   "outputs": [],
   "source": [
    "go_through_items(edc_dbfilereader(os.path.join('data', dbname_1day)))"
   ]
  },
  {
   "cell_type": "code",
   "execution_count": 33,
   "metadata": {},
   "outputs": [],
   "source": [
    "import time"
   ]
  },
  {
   "cell_type": "code",
   "execution_count": null,
   "metadata": {},
   "outputs": [],
   "source": [
    "import importlib\n",
    "import edcompanion.threadworker\n",
    "importlib.reload(edcompanion.threadworker)"
   ]
  },
  {
   "cell_type": "code",
   "execution_count": 2,
   "metadata": {},
   "outputs": [],
   "source": [
    "from edcompanion.threadworker import create_producer_from_iterable"
   ]
  },
  {
   "cell_type": "code",
   "execution_count": 8,
   "metadata": {},
   "outputs": [],
   "source": [
    "producer = create_producer_from_iterable(edc_dbfilereader(os.path.join('data', dbname_1day)))"
   ]
  },
  {
   "cell_type": "code",
   "execution_count": null,
   "metadata": {},
   "outputs": [],
   "source": [
    "producer.start()"
   ]
  },
  {
   "cell_type": "code",
   "execution_count": null,
   "metadata": {},
   "outputs": [],
   "source": [
    "producer.get_item()"
   ]
  },
  {
   "cell_type": "code",
   "execution_count": 18,
   "metadata": {},
   "outputs": [],
   "source": [
    "for item in producer.get_items():\n",
    "    print(item)\n"
   ]
  },
  {
   "cell_type": "code",
   "execution_count": 16,
   "metadata": {},
   "outputs": [],
   "source": [
    "producer.stop()"
   ]
  },
  {
   "cell_type": "code",
   "execution_count": 17,
   "metadata": {},
   "outputs": [],
   "source": [
    "producer.join()"
   ]
  },
  {
   "cell_type": "code",
   "execution_count": null,
   "metadata": {},
   "outputs": [],
   "source": []
  }
 ],
 "metadata": {
  "kernelspec": {
   "display_name": ".next",
   "language": "python",
   "name": "python3"
  },
  "language_info": {
   "codemirror_mode": {
    "name": "ipython",
    "version": 3
   },
   "file_extension": ".py",
   "mimetype": "text/x-python",
   "name": "python",
   "nbconvert_exporter": "python",
   "pygments_lexer": "ipython3",
   "version": "3.11.10"
  }
 },
 "nbformat": 4,
 "nbformat_minor": 2
}
