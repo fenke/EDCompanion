{
 "cells": [
  {
   "cell_type": "code",
   "execution_count": null,
   "id": "a7dc1c64-781a-4ddb-b22a-9061db702421",
   "metadata": {},
   "outputs": [],
   "source": []
  },
  {
   "cell_type": "code",
   "execution_count": 1,
   "id": "5346adb6-8baf-4d2a-8d98-fb262c598b1f",
   "metadata": {},
   "outputs": [],
   "source": [
    "import os, sys\n",
    "import pickle\n",
    "import numpy as np\n",
    "import matplotlib.pyplot as plt\n",
    "#import cv2 as cv\n",
    "\n",
    "from skimage import data, img_as_float, io\n",
    "from skimage.restoration import denoise_nl_means, estimate_sigma\n",
    "from skimage.filters import unsharp_mask, gaussian"
   ]
  },
  {
   "cell_type": "code",
   "execution_count": 2,
   "id": "a2e51523-a910-4479-9fa3-48eaa967f403",
   "metadata": {},
   "outputs": [],
   "source": [
    "#C:\\Users\\fenke\\Pictures\\Frontier Developments\\Elite Dangerous\n",
    "picture_folder = os.path.join(os.getenv(\"HOMEPATH\"), \"Pictures\",'Frontier Developments','Elite Dangerous')\n",
    "#picture_folder = os.path.join(\"F:\", \"Pictures\",'Elite Dangerous')"
   ]
  },
  {
   "cell_type": "code",
   "execution_count": null,
   "id": "59385383-4fb5-4ee3-8294-36873583c544",
   "metadata": {},
   "outputs": [],
   "source": []
  },
  {
   "cell_type": "code",
   "execution_count": 3,
   "id": "dbc35791-6a93-4274-87cb-7958a2664f85",
   "metadata": {},
   "outputs": [],
   "source": [
    "#HighResScreenShot_2022-11-03_21-37-54\n",
    "\n",
    "screenshots = sorted(\n",
    "    [os.path.join(picture_folder, f) for f in os.listdir(picture_folder) if 'screenshot' in f.split('_')[0].lower() and '.bmp' in f and '.xmp' not in f],\n",
    "    key=lambda f:f.split('_')[1:]\n",
    ")"
   ]
  },
  {
   "cell_type": "code",
   "execution_count": 4,
   "id": "3b6656a2-4d29-4eac-aaf7-1be1c4c392df",
   "metadata": {},
   "outputs": [
    {
     "data": {
      "text/plain": [
       "['\\\\Users\\\\fenke\\\\Pictures\\\\Frontier Developments\\\\Elite Dangerous\\\\Screenshot_0000.bmp',\n",
       " '\\\\Users\\\\fenke\\\\Pictures\\\\Frontier Developments\\\\Elite Dangerous\\\\Screenshot_0001.bmp',\n",
       " '\\\\Users\\\\fenke\\\\Pictures\\\\Frontier Developments\\\\Elite Dangerous\\\\HighResScreenShot_2022-12-13_19-56-03.bmp',\n",
       " '\\\\Users\\\\fenke\\\\Pictures\\\\Frontier Developments\\\\Elite Dangerous\\\\HighResScreenShot_2022-12-13_19-56-17.bmp',\n",
       " '\\\\Users\\\\fenke\\\\Pictures\\\\Frontier Developments\\\\Elite Dangerous\\\\HighResScreenShot_2022-12-13_19-57-08.bmp',\n",
       " '\\\\Users\\\\fenke\\\\Pictures\\\\Frontier Developments\\\\Elite Dangerous\\\\HighResScreenShot_2022-12-13_19-58-52.bmp',\n",
       " '\\\\Users\\\\fenke\\\\Pictures\\\\Frontier Developments\\\\Elite Dangerous\\\\HighResScreenShot_2022-12-13_19-59-41.bmp',\n",
       " '\\\\Users\\\\fenke\\\\Pictures\\\\Frontier Developments\\\\Elite Dangerous\\\\HighResScreenShot_2022-12-13_19-59-52.bmp',\n",
       " '\\\\Users\\\\fenke\\\\Pictures\\\\Frontier Developments\\\\Elite Dangerous\\\\HighResScreenShot_2022-12-13_20-15-16.bmp',\n",
       " '\\\\Users\\\\fenke\\\\Pictures\\\\Frontier Developments\\\\Elite Dangerous\\\\HighResScreenShot_2022-12-13_20-16-00.bmp',\n",
       " '\\\\Users\\\\fenke\\\\Pictures\\\\Frontier Developments\\\\Elite Dangerous\\\\HighResScreenShot_2022-12-13_20-16-57.bmp',\n",
       " '\\\\Users\\\\fenke\\\\Pictures\\\\Frontier Developments\\\\Elite Dangerous\\\\HighResScreenShot_2022-12-13_20-18-54.bmp',\n",
       " '\\\\Users\\\\fenke\\\\Pictures\\\\Frontier Developments\\\\Elite Dangerous\\\\HighResScreenShot_2022-12-13_20-19-09.bmp',\n",
       " '\\\\Users\\\\fenke\\\\Pictures\\\\Frontier Developments\\\\Elite Dangerous\\\\HighResScreenShot_2022-12-13_20-19-18.bmp',\n",
       " '\\\\Users\\\\fenke\\\\Pictures\\\\Frontier Developments\\\\Elite Dangerous\\\\HighResScreenShot_2022-12-13_20-19-45.bmp',\n",
       " '\\\\Users\\\\fenke\\\\Pictures\\\\Frontier Developments\\\\Elite Dangerous\\\\HighResScreenShot_2022-12-13_20-23-30.bmp']"
      ]
     },
     "execution_count": 4,
     "metadata": {},
     "output_type": "execute_result"
    }
   ],
   "source": [
    "screenshots"
   ]
  },
  {
   "cell_type": "code",
   "execution_count": 5,
   "id": "5bec9bf3-5211-4728-9c5c-e9062beaefa9",
   "metadata": {},
   "outputs": [
    {
     "name": "stdout",
     "output_type": "stream",
     "text": [
      "\\Users\\fenke\\Pictures\\Frontier Developments\\Elite Dangerous\\Screenshot_0000.bmp\n",
      "\\Users\\fenke\\Pictures\\Frontier Developments\\Elite Dangerous\\Screenshot_0001.bmp\n",
      "\\Users\\fenke\\Pictures\\Frontier Developments\\Elite Dangerous\\HighResScreenShot_2022-12-13_19-56-03.bmp\n",
      "\\Users\\fenke\\Pictures\\Frontier Developments\\Elite Dangerous\\HighResScreenShot_2022-12-13_19-56-17.bmp\n",
      "\\Users\\fenke\\Pictures\\Frontier Developments\\Elite Dangerous\\HighResScreenShot_2022-12-13_19-57-08.bmp\n",
      "\\Users\\fenke\\Pictures\\Frontier Developments\\Elite Dangerous\\HighResScreenShot_2022-12-13_19-58-52.bmp\n",
      "\\Users\\fenke\\Pictures\\Frontier Developments\\Elite Dangerous\\HighResScreenShot_2022-12-13_19-59-41.bmp\n",
      "\\Users\\fenke\\Pictures\\Frontier Developments\\Elite Dangerous\\HighResScreenShot_2022-12-13_19-59-52.bmp\n",
      "\\Users\\fenke\\Pictures\\Frontier Developments\\Elite Dangerous\\HighResScreenShot_2022-12-13_20-15-16.bmp\n",
      "\\Users\\fenke\\Pictures\\Frontier Developments\\Elite Dangerous\\HighResScreenShot_2022-12-13_20-16-00.bmp\n",
      "\\Users\\fenke\\Pictures\\Frontier Developments\\Elite Dangerous\\HighResScreenShot_2022-12-13_20-16-57.bmp\n",
      "\\Users\\fenke\\Pictures\\Frontier Developments\\Elite Dangerous\\HighResScreenShot_2022-12-13_20-18-54.bmp\n",
      "\\Users\\fenke\\Pictures\\Frontier Developments\\Elite Dangerous\\HighResScreenShot_2022-12-13_20-19-09.bmp\n",
      "\\Users\\fenke\\Pictures\\Frontier Developments\\Elite Dangerous\\HighResScreenShot_2022-12-13_20-19-18.bmp\n",
      "\\Users\\fenke\\Pictures\\Frontier Developments\\Elite Dangerous\\HighResScreenShot_2022-12-13_20-19-45.bmp\n",
      "\\Users\\fenke\\Pictures\\Frontier Developments\\Elite Dangerous\\HighResScreenShot_2022-12-13_20-23-30.bmp\n"
     ]
    }
   ],
   "source": [
    "for imgfile in screenshots:\n",
    "    print(imgfile)\n",
    "    ski_img = img_as_float(io.imread(imgfile))\n",
    "\n",
    "    io.imsave(imgfile.replace(\".bmp\", \".tif\"), (65535*ski_img).astype(np.uint16), compression='zlib')\n",
    "    os.remove(imgfile)"
   ]
  },
  {
   "cell_type": "code",
   "execution_count": null,
   "id": "2efc3b3d-9357-4f0b-81ba-10362b861280",
   "metadata": {},
   "outputs": [],
   "source": []
  }
 ],
 "metadata": {
  "kernelspec": {
   "display_name": "warp-cuda",
   "language": "python",
   "name": "warp-cuda"
  },
  "language_info": {
   "codemirror_mode": {
    "name": "ipython",
    "version": 3
   },
   "file_extension": ".py",
   "mimetype": "text/x-python",
   "name": "python",
   "nbconvert_exporter": "python",
   "pygments_lexer": "ipython3",
   "version": "3.8.13"
  }
 },
 "nbformat": 4,
 "nbformat_minor": 5
}
